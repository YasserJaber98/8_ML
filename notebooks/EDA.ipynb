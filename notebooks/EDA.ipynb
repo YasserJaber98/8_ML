{
 "cells": [
  {
   "cell_type": "markdown",
   "metadata": {},
   "source": [
    "# 1. Project Setup and Imports"
   ]
  },
  {
   "cell_type": "code",
   "execution_count": 203,
   "metadata": {},
   "outputs": [],
   "source": [
    "# SETUP & IMPORTS\n",
    "import pandas as pd\n",
    "import numpy as np\n",
    "import plotly.express as px\n",
    "from sklearn.model_selection import train_test_split\n",
    "from sklearn.ensemble import RandomForestClassifier\n",
    "from sklearn.linear_model import LogisticRegression\n",
    "from sklearn.ensemble import GradientBoostingClassifier\n",
    "from sklearn.metrics import classification_report, roc_auc_score, confusion_matrix, precision_recall_fscore_support, make_scorer, f1_score, recall_score\n",
    "from sklearn.preprocessing import StandardScaler\n",
    "from sklearn.model_selection import GridSearchCV\n",
    "# Instead of single train-test split, use cross-validation for more reliable results\n",
    "from sklearn.model_selection import StratifiedKFold, cross_val_score, cross_val_predict\n",
    "from sklearn.metrics import make_scorer\n",
    "from xgboost import XGBClassifier\n",
    "import warnings\n",
    "from sklearn.exceptions import ConvergenceWarning\n",
    "warnings.filterwarnings('ignore', category=ConvergenceWarning)\n",
    "\n",
    "\n",
    "# Settings\n",
    "pd.set_option('display.max_columns', None)"
   ]
  },
  {
   "cell_type": "markdown",
   "metadata": {},
   "source": [
    "## 2. Data Loading"
   ]
  },
  {
   "cell_type": "code",
   "execution_count": 46,
   "metadata": {},
   "outputs": [
    {
     "name": "stdout",
     "output_type": "stream",
     "text": [
      "Dataset shape: (286500, 18)\n",
      "Basic info:\n",
      "<class 'pandas.core.frame.DataFrame'>\n",
      "RangeIndex: 286500 entries, 0 to 286499\n",
      "Data columns (total 18 columns):\n",
      " #   Column         Non-Null Count   Dtype  \n",
      "---  ------         --------------   -----  \n",
      " 0   ts             286500 non-null  int64  \n",
      " 1   userId         286500 non-null  object \n",
      " 2   sessionId      286500 non-null  int64  \n",
      " 3   page           286500 non-null  object \n",
      " 4   auth           286500 non-null  object \n",
      " 5   method         286500 non-null  object \n",
      " 6   status         286500 non-null  int64  \n",
      " 7   level          286500 non-null  object \n",
      " 8   itemInSession  286500 non-null  int64  \n",
      " 9   location       278154 non-null  object \n",
      " 10  userAgent      278154 non-null  object \n",
      " 11  lastName       278154 non-null  object \n",
      " 12  firstName      278154 non-null  object \n",
      " 13  registration   278154 non-null  float64\n",
      " 14  gender         278154 non-null  object \n",
      " 15  artist         228108 non-null  object \n",
      " 16  song           228108 non-null  object \n",
      " 17  length         228108 non-null  float64\n",
      "dtypes: float64(2), int64(4), object(12)\n",
      "memory usage: 39.3+ MB\n",
      "\n",
      "First few rows:\n"
     ]
    },
    {
     "data": {
      "text/html": [
       "<div>\n",
       "<style scoped>\n",
       "    .dataframe tbody tr th:only-of-type {\n",
       "        vertical-align: middle;\n",
       "    }\n",
       "\n",
       "    .dataframe tbody tr th {\n",
       "        vertical-align: top;\n",
       "    }\n",
       "\n",
       "    .dataframe thead th {\n",
       "        text-align: right;\n",
       "    }\n",
       "</style>\n",
       "<table border=\"1\" class=\"dataframe\">\n",
       "  <thead>\n",
       "    <tr style=\"text-align: right;\">\n",
       "      <th></th>\n",
       "      <th>ts</th>\n",
       "      <th>userId</th>\n",
       "      <th>sessionId</th>\n",
       "      <th>page</th>\n",
       "      <th>auth</th>\n",
       "      <th>method</th>\n",
       "      <th>status</th>\n",
       "      <th>level</th>\n",
       "      <th>itemInSession</th>\n",
       "      <th>location</th>\n",
       "      <th>userAgent</th>\n",
       "      <th>lastName</th>\n",
       "      <th>firstName</th>\n",
       "      <th>registration</th>\n",
       "      <th>gender</th>\n",
       "      <th>artist</th>\n",
       "      <th>song</th>\n",
       "      <th>length</th>\n",
       "    </tr>\n",
       "  </thead>\n",
       "  <tbody>\n",
       "    <tr>\n",
       "      <th>0</th>\n",
       "      <td>1538352117000</td>\n",
       "      <td>30</td>\n",
       "      <td>29</td>\n",
       "      <td>NextSong</td>\n",
       "      <td>Logged In</td>\n",
       "      <td>PUT</td>\n",
       "      <td>200</td>\n",
       "      <td>paid</td>\n",
       "      <td>50</td>\n",
       "      <td>Bakersfield, CA</td>\n",
       "      <td>Mozilla/5.0 (Windows NT 6.1; WOW64; rv:31.0) G...</td>\n",
       "      <td>Freeman</td>\n",
       "      <td>Colin</td>\n",
       "      <td>1.538173e+12</td>\n",
       "      <td>M</td>\n",
       "      <td>Martha Tilston</td>\n",
       "      <td>Rockpools</td>\n",
       "      <td>277.89016</td>\n",
       "    </tr>\n",
       "    <tr>\n",
       "      <th>1</th>\n",
       "      <td>1538352180000</td>\n",
       "      <td>9</td>\n",
       "      <td>8</td>\n",
       "      <td>NextSong</td>\n",
       "      <td>Logged In</td>\n",
       "      <td>PUT</td>\n",
       "      <td>200</td>\n",
       "      <td>free</td>\n",
       "      <td>79</td>\n",
       "      <td>Boston-Cambridge-Newton, MA-NH</td>\n",
       "      <td>\"Mozilla/5.0 (Windows NT 6.1; WOW64) AppleWebK...</td>\n",
       "      <td>Long</td>\n",
       "      <td>Micah</td>\n",
       "      <td>1.538332e+12</td>\n",
       "      <td>M</td>\n",
       "      <td>Five Iron Frenzy</td>\n",
       "      <td>Canada</td>\n",
       "      <td>236.09424</td>\n",
       "    </tr>\n",
       "    <tr>\n",
       "      <th>2</th>\n",
       "      <td>1538352394000</td>\n",
       "      <td>30</td>\n",
       "      <td>29</td>\n",
       "      <td>NextSong</td>\n",
       "      <td>Logged In</td>\n",
       "      <td>PUT</td>\n",
       "      <td>200</td>\n",
       "      <td>paid</td>\n",
       "      <td>51</td>\n",
       "      <td>Bakersfield, CA</td>\n",
       "      <td>Mozilla/5.0 (Windows NT 6.1; WOW64; rv:31.0) G...</td>\n",
       "      <td>Freeman</td>\n",
       "      <td>Colin</td>\n",
       "      <td>1.538173e+12</td>\n",
       "      <td>M</td>\n",
       "      <td>Adam Lambert</td>\n",
       "      <td>Time For Miracles</td>\n",
       "      <td>282.82730</td>\n",
       "    </tr>\n",
       "    <tr>\n",
       "      <th>3</th>\n",
       "      <td>1538352416000</td>\n",
       "      <td>9</td>\n",
       "      <td>8</td>\n",
       "      <td>NextSong</td>\n",
       "      <td>Logged In</td>\n",
       "      <td>PUT</td>\n",
       "      <td>200</td>\n",
       "      <td>free</td>\n",
       "      <td>80</td>\n",
       "      <td>Boston-Cambridge-Newton, MA-NH</td>\n",
       "      <td>\"Mozilla/5.0 (Windows NT 6.1; WOW64) AppleWebK...</td>\n",
       "      <td>Long</td>\n",
       "      <td>Micah</td>\n",
       "      <td>1.538332e+12</td>\n",
       "      <td>M</td>\n",
       "      <td>Enigma</td>\n",
       "      <td>Knocking On Forbidden Doors</td>\n",
       "      <td>262.71302</td>\n",
       "    </tr>\n",
       "    <tr>\n",
       "      <th>4</th>\n",
       "      <td>1538352676000</td>\n",
       "      <td>30</td>\n",
       "      <td>29</td>\n",
       "      <td>NextSong</td>\n",
       "      <td>Logged In</td>\n",
       "      <td>PUT</td>\n",
       "      <td>200</td>\n",
       "      <td>paid</td>\n",
       "      <td>52</td>\n",
       "      <td>Bakersfield, CA</td>\n",
       "      <td>Mozilla/5.0 (Windows NT 6.1; WOW64; rv:31.0) G...</td>\n",
       "      <td>Freeman</td>\n",
       "      <td>Colin</td>\n",
       "      <td>1.538173e+12</td>\n",
       "      <td>M</td>\n",
       "      <td>Daft Punk</td>\n",
       "      <td>Harder Better Faster Stronger</td>\n",
       "      <td>223.60771</td>\n",
       "    </tr>\n",
       "  </tbody>\n",
       "</table>\n",
       "</div>"
      ],
      "text/plain": [
       "              ts userId  sessionId      page       auth method  status level  \\\n",
       "0  1538352117000     30         29  NextSong  Logged In    PUT     200  paid   \n",
       "1  1538352180000      9          8  NextSong  Logged In    PUT     200  free   \n",
       "2  1538352394000     30         29  NextSong  Logged In    PUT     200  paid   \n",
       "3  1538352416000      9          8  NextSong  Logged In    PUT     200  free   \n",
       "4  1538352676000     30         29  NextSong  Logged In    PUT     200  paid   \n",
       "\n",
       "   itemInSession                        location  \\\n",
       "0             50                 Bakersfield, CA   \n",
       "1             79  Boston-Cambridge-Newton, MA-NH   \n",
       "2             51                 Bakersfield, CA   \n",
       "3             80  Boston-Cambridge-Newton, MA-NH   \n",
       "4             52                 Bakersfield, CA   \n",
       "\n",
       "                                           userAgent lastName firstName  \\\n",
       "0  Mozilla/5.0 (Windows NT 6.1; WOW64; rv:31.0) G...  Freeman     Colin   \n",
       "1  \"Mozilla/5.0 (Windows NT 6.1; WOW64) AppleWebK...     Long     Micah   \n",
       "2  Mozilla/5.0 (Windows NT 6.1; WOW64; rv:31.0) G...  Freeman     Colin   \n",
       "3  \"Mozilla/5.0 (Windows NT 6.1; WOW64) AppleWebK...     Long     Micah   \n",
       "4  Mozilla/5.0 (Windows NT 6.1; WOW64; rv:31.0) G...  Freeman     Colin   \n",
       "\n",
       "   registration gender            artist                           song  \\\n",
       "0  1.538173e+12      M    Martha Tilston                      Rockpools   \n",
       "1  1.538332e+12      M  Five Iron Frenzy                         Canada   \n",
       "2  1.538173e+12      M      Adam Lambert              Time For Miracles   \n",
       "3  1.538332e+12      M            Enigma    Knocking On Forbidden Doors   \n",
       "4  1.538173e+12      M         Daft Punk  Harder Better Faster Stronger   \n",
       "\n",
       "      length  \n",
       "0  277.89016  \n",
       "1  236.09424  \n",
       "2  282.82730  \n",
       "3  262.71302  \n",
       "4  223.60771  "
      ]
     },
     "execution_count": 46,
     "metadata": {},
     "output_type": "execute_result"
    }
   ],
   "source": [
    "dataframe = pd.read_json(\"data/customer_churn_mini.json\", lines=True)\n",
    "\n",
    "print(f\"Dataset shape: {dataframe.shape}\")\n",
    "print(\"Basic info:\")\n",
    "dataframe.info()\n",
    "\n",
    "print(\"\\nFirst few rows:\")\n",
    "dataframe.head()"
   ]
  },
  {
   "cell_type": "markdown",
   "metadata": {},
   "source": [
    "## Initial Data Exploration"
   ]
  },
  {
   "cell_type": "code",
   "execution_count": 47,
   "metadata": {},
   "outputs": [
    {
     "name": "stdout",
     "output_type": "stream",
     "text": [
      "Missing values by column:\n",
      "length: 58,392 (20.4%)\n",
      "song: 58,392 (20.4%)\n",
      "artist: 58,392 (20.4%)\n",
      "userAgent: 8,346 (2.9%)\n",
      "gender: 8,346 (2.9%)\n",
      "registration: 8,346 (2.9%)\n",
      "firstName: 8,346 (2.9%)\n",
      "lastName: 8,346 (2.9%)\n",
      "location: 8,346 (2.9%)\n"
     ]
    }
   ],
   "source": [
    "# Check missing values\n",
    "print(\"Missing values by column:\")\n",
    "missing_summary = dataframe.isna().sum().sort_values(ascending=False)\n",
    "missing_pct = (missing_summary / dataframe.shape[0]).round(4)\n",
    "for col, count in missing_summary.items():\n",
    "    if count > 0:\n",
    "        print(f\"{col}: {count:,} ({missing_pct[col]:.1%})\")"
   ]
  },
  {
   "cell_type": "markdown",
   "metadata": {},
   "source": [
    "### Timestamp Conversion"
   ]
  },
  {
   "cell_type": "code",
   "execution_count": 48,
   "metadata": {},
   "outputs": [
    {
     "name": "stdout",
     "output_type": "stream",
     "text": [
      "Timestamp conversion completed\n",
      "Date range: 2018-10-01 00:01:57 to 2018-12-03 01:11:16\n"
     ]
    }
   ],
   "source": [
    "dataframe['ts'] = pd.to_datetime(dataframe['ts'], unit='ms')\n",
    "dataframe['registration'] = pd.to_datetime(dataframe['registration'], unit='ms')\n",
    "\n",
    "print(\"Timestamp conversion completed\")\n",
    "print(f\"Date range: {dataframe['ts'].min()} to {dataframe['ts'].max()}\")"
   ]
  },
  {
   "cell_type": "code",
   "execution_count": 49,
   "metadata": {},
   "outputs": [
    {
     "data": {
      "text/plain": [
       "array(['NextSong'], dtype=object)"
      ]
     },
     "execution_count": 49,
     "metadata": {},
     "output_type": "execute_result"
    }
   ],
   "source": [
    "#Check page name where it shouldn't contain NaN values \n",
    "dataframe.query(\"length.isna()==False and song.isna()==False and artist.isna()==False\")[\"page\"].unique()"
   ]
  },
  {
   "cell_type": "code",
   "execution_count": 50,
   "metadata": {},
   "outputs": [
    {
     "data": {
      "text/plain": [
       "0"
      ]
     },
     "execution_count": 50,
     "metadata": {},
     "output_type": "execute_result"
    }
   ],
   "source": [
    "#Check if any values are music-details related features are missing where they shouldn't be \n",
    "dataframe.query(\"(length.isna()==True or song.isna()==True or artist.isna()==True) and page == 'NextSong'\").shape[0]"
   ]
  },
  {
   "cell_type": "markdown",
   "metadata": {},
   "source": [
    "### UserID Data Quality Investigation"
   ]
  },
  {
   "cell_type": "code",
   "execution_count": 51,
   "metadata": {},
   "outputs": [],
   "source": [
    "dataframe = dataframe.sort_values(['ts', 'sessionId', 'itemInSession']).reset_index(drop=True)"
   ]
  },
  {
   "cell_type": "code",
   "execution_count": 52,
   "metadata": {},
   "outputs": [
    {
     "data": {
      "text/html": [
       "<div>\n",
       "<style scoped>\n",
       "    .dataframe tbody tr th:only-of-type {\n",
       "        vertical-align: middle;\n",
       "    }\n",
       "\n",
       "    .dataframe tbody tr th {\n",
       "        vertical-align: top;\n",
       "    }\n",
       "\n",
       "    .dataframe thead th {\n",
       "        text-align: right;\n",
       "    }\n",
       "</style>\n",
       "<table border=\"1\" class=\"dataframe\">\n",
       "  <thead>\n",
       "    <tr style=\"text-align: right;\">\n",
       "      <th></th>\n",
       "      <th>ts</th>\n",
       "      <th>userId</th>\n",
       "      <th>sessionId</th>\n",
       "      <th>page</th>\n",
       "      <th>auth</th>\n",
       "      <th>method</th>\n",
       "      <th>status</th>\n",
       "      <th>level</th>\n",
       "      <th>itemInSession</th>\n",
       "      <th>location</th>\n",
       "      <th>userAgent</th>\n",
       "      <th>lastName</th>\n",
       "      <th>firstName</th>\n",
       "      <th>registration</th>\n",
       "      <th>gender</th>\n",
       "      <th>artist</th>\n",
       "      <th>song</th>\n",
       "      <th>length</th>\n",
       "    </tr>\n",
       "  </thead>\n",
       "  <tbody>\n",
       "    <tr>\n",
       "      <th>57</th>\n",
       "      <td>2018-10-01 01:02:25</td>\n",
       "      <td></td>\n",
       "      <td>8</td>\n",
       "      <td>Home</td>\n",
       "      <td>Logged Out</td>\n",
       "      <td>GET</td>\n",
       "      <td>200</td>\n",
       "      <td>free</td>\n",
       "      <td>100</td>\n",
       "      <td>NaN</td>\n",
       "      <td>NaN</td>\n",
       "      <td>NaN</td>\n",
       "      <td>NaN</td>\n",
       "      <td>NaT</td>\n",
       "      <td>NaN</td>\n",
       "      <td>NaN</td>\n",
       "      <td>NaN</td>\n",
       "      <td>NaN</td>\n",
       "    </tr>\n",
       "    <tr>\n",
       "      <th>58</th>\n",
       "      <td>2018-10-01 01:03:27</td>\n",
       "      <td></td>\n",
       "      <td>8</td>\n",
       "      <td>Help</td>\n",
       "      <td>Logged Out</td>\n",
       "      <td>GET</td>\n",
       "      <td>200</td>\n",
       "      <td>free</td>\n",
       "      <td>101</td>\n",
       "      <td>NaN</td>\n",
       "      <td>NaN</td>\n",
       "      <td>NaN</td>\n",
       "      <td>NaN</td>\n",
       "      <td>NaT</td>\n",
       "      <td>NaN</td>\n",
       "      <td>NaN</td>\n",
       "      <td>NaN</td>\n",
       "      <td>NaN</td>\n",
       "    </tr>\n",
       "    <tr>\n",
       "      <th>59</th>\n",
       "      <td>2018-10-01 01:04:01</td>\n",
       "      <td></td>\n",
       "      <td>8</td>\n",
       "      <td>Home</td>\n",
       "      <td>Logged Out</td>\n",
       "      <td>GET</td>\n",
       "      <td>200</td>\n",
       "      <td>free</td>\n",
       "      <td>102</td>\n",
       "      <td>NaN</td>\n",
       "      <td>NaN</td>\n",
       "      <td>NaN</td>\n",
       "      <td>NaN</td>\n",
       "      <td>NaT</td>\n",
       "      <td>NaN</td>\n",
       "      <td>NaN</td>\n",
       "      <td>NaN</td>\n",
       "      <td>NaN</td>\n",
       "    </tr>\n",
       "    <tr>\n",
       "      <th>60</th>\n",
       "      <td>2018-10-01 01:04:02</td>\n",
       "      <td></td>\n",
       "      <td>8</td>\n",
       "      <td>Login</td>\n",
       "      <td>Logged Out</td>\n",
       "      <td>PUT</td>\n",
       "      <td>307</td>\n",
       "      <td>free</td>\n",
       "      <td>103</td>\n",
       "      <td>NaN</td>\n",
       "      <td>NaN</td>\n",
       "      <td>NaN</td>\n",
       "      <td>NaN</td>\n",
       "      <td>NaT</td>\n",
       "      <td>NaN</td>\n",
       "      <td>NaN</td>\n",
       "      <td>NaN</td>\n",
       "      <td>NaN</td>\n",
       "    </tr>\n",
       "    <tr>\n",
       "      <th>76</th>\n",
       "      <td>2018-10-01 01:17:58</td>\n",
       "      <td></td>\n",
       "      <td>240</td>\n",
       "      <td>Home</td>\n",
       "      <td>Logged Out</td>\n",
       "      <td>GET</td>\n",
       "      <td>200</td>\n",
       "      <td>free</td>\n",
       "      <td>2</td>\n",
       "      <td>NaN</td>\n",
       "      <td>NaN</td>\n",
       "      <td>NaN</td>\n",
       "      <td>NaN</td>\n",
       "      <td>NaT</td>\n",
       "      <td>NaN</td>\n",
       "      <td>NaN</td>\n",
       "      <td>NaN</td>\n",
       "      <td>NaN</td>\n",
       "    </tr>\n",
       "  </tbody>\n",
       "</table>\n",
       "</div>"
      ],
      "text/plain": [
       "                    ts userId  sessionId   page        auth method  status  \\\n",
       "57 2018-10-01 01:02:25                 8   Home  Logged Out    GET     200   \n",
       "58 2018-10-01 01:03:27                 8   Help  Logged Out    GET     200   \n",
       "59 2018-10-01 01:04:01                 8   Home  Logged Out    GET     200   \n",
       "60 2018-10-01 01:04:02                 8  Login  Logged Out    PUT     307   \n",
       "76 2018-10-01 01:17:58               240   Home  Logged Out    GET     200   \n",
       "\n",
       "   level  itemInSession location userAgent lastName firstName registration  \\\n",
       "57  free            100      NaN       NaN      NaN       NaN          NaT   \n",
       "58  free            101      NaN       NaN      NaN       NaN          NaT   \n",
       "59  free            102      NaN       NaN      NaN       NaN          NaT   \n",
       "60  free            103      NaN       NaN      NaN       NaN          NaT   \n",
       "76  free              2      NaN       NaN      NaN       NaN          NaT   \n",
       "\n",
       "   gender artist song  length  \n",
       "57    NaN    NaN  NaN     NaN  \n",
       "58    NaN    NaN  NaN     NaN  \n",
       "59    NaN    NaN  NaN     NaN  \n",
       "60    NaN    NaN  NaN     NaN  \n",
       "76    NaN    NaN  NaN     NaN  "
      ]
     },
     "execution_count": 52,
     "metadata": {},
     "output_type": "execute_result"
    }
   ],
   "source": [
    "#Checking the dataframe with non-numeric userIds\n",
    "dataframe[pd.to_numeric(dataframe['userId'], errors='coerce').isna()].head()"
   ]
  },
  {
   "cell_type": "code",
   "execution_count": 53,
   "metadata": {},
   "outputs": [
    {
     "name": "stdout",
     "output_type": "stream",
     "text": [
      "Checking userId data quality...\n",
      "Non-numeric userIds: ['']\n",
      "Missing userIDs after conversion: 8,346\n",
      "\n",
      "Auth status for missing userIds:\n",
      "auth\n",
      "Logged Out    8249\n",
      "Guest           97\n",
      "Name: count, dtype: int64\n",
      "\n",
      "Pages visited by users with missing userIds:\n",
      "page\n",
      "Home                   4375\n",
      "Login                  3241\n",
      "About                   429\n",
      "Help                    272\n",
      "Register                 18\n",
      "Error                     6\n",
      "Submit Registration       5\n",
      "Name: count, dtype: int64\n"
     ]
    }
   ],
   "source": [
    "# Investigate userId issues\n",
    "print(\"Checking userId data quality...\")\n",
    "\n",
    "# Find non-numeric userIds\n",
    "non_numeric_users = dataframe[pd.to_numeric(dataframe['userId'], errors='coerce').isna()]['userId'].unique()\n",
    "print(f\"Non-numeric userIds: {non_numeric_users}\")\n",
    "\n",
    "# Convert empty userIds to NaN\n",
    "dataframe['userId'] = pd.to_numeric(dataframe['userId'], errors='coerce')\n",
    "print(f\"Missing userIDs after conversion: {dataframe['userId'].isna().sum():,}\")\n",
    "\n",
    "# Check patterns in missing data\n",
    "print(\"\\nAuth status for missing userIds:\")\n",
    "print(dataframe[dataframe['userId'].isna()]['auth'].value_counts())\n",
    "\n",
    "print(\"\\nPages visited by users with missing userIds:\")\n",
    "print(dataframe[dataframe['userId'].isna()]['page'].value_counts())\n"
   ]
  },
  {
   "cell_type": "markdown",
   "metadata": {},
   "source": [
    "### Session Analysis"
   ]
  },
  {
   "cell_type": "code",
   "execution_count": 54,
   "metadata": {},
   "outputs": [
    {
     "name": "stdout",
     "output_type": "stream",
     "text": [
      "Analyzing session patterns...\n",
      "Sessions with multiple users: 466\n",
      "Sample multi-user sessions:\n",
      "sessionId\n",
      "1    3\n",
      "3    2\n",
      "5    2\n",
      "6    2\n",
      "9    3\n",
      "Name: userId, dtype: int64\n"
     ]
    }
   ],
   "source": [
    "# Sort data by timestamp then sessionId, then itemInSession\n",
    "dataframe = dataframe.sort_values(['ts', 'sessionId', 'itemInSession']).reset_index(drop=True)\n",
    "\n",
    "# Check for multi-user sessions\n",
    "print(\"Analyzing session patterns...\")\n",
    "not_null_users = dataframe[dataframe['userId'].notna()]\n",
    "session_user_counts = not_null_users.groupby('sessionId')['userId'].nunique()\n",
    "multi_user_sessions = session_user_counts[session_user_counts > 1]\n",
    "\n",
    "print(f\"Sessions with multiple users: {len(multi_user_sessions):,}\")\n",
    "print(f\"Sample multi-user sessions:\\n{multi_user_sessions.head()}\")\n",
    "\n",
    "# # Example session analysis\n",
    "# print(f\"\\nExample session (sessionId=8) showing user patterns:\")\n",
    "# sample_session = dataframe[dataframe['sessionId'] == 8][['ts', 'userId', 'itemInSession', 'page', 'auth']].head(10)\n",
    "# print(sample_session.to_string())"
   ]
  },
  {
   "cell_type": "markdown",
   "metadata": {},
   "source": [
    "#### We notice that sessions are reused across users.\n",
    "#### One important thing to note is that we can use session ID with itemInSession to track the user ID of the user, as it always increments by 1 for every user action. Meaning that we can track user ID even after logging out"
   ]
  },
  {
   "cell_type": "markdown",
   "metadata": {},
   "source": [
    "### Utility Functions"
   ]
  },
  {
   "cell_type": "code",
   "execution_count": 55,
   "metadata": {},
   "outputs": [],
   "source": [
    "def is_valid_sequence_assignment(user_items_array, item):\n",
    "    \"\"\"\n",
    "    Check if assigning an item to a user would create a valid consecutive sequence.\n",
    "        \n",
    "    Args:\n",
    "        user_items_array: Sorted numpy array of user's current items\n",
    "        item: itemInSession value to assign\n",
    "        \n",
    "    Returns:\n",
    "        bool: True if assignment creates consecutive sequence, False otherwise\n",
    "    \"\"\"\n",
    "    if len(user_items_array) == 0:\n",
    "        return True  # No existing items, any assignment is valid\n",
    "    \n",
    "    min_item = user_items_array[0]\n",
    "    max_item = user_items_array[-1]  # Already sorted\n",
    "    \n",
    "    # Check if item would create a valid assignment\n",
    "    if item == max_item + 1:\n",
    "        # Extends sequence at the end by exactly 1\n",
    "        return True\n",
    "    elif item == min_item - 1:\n",
    "        # Extends sequence at the beginning by exactly 1\n",
    "        return True\n",
    "    elif min_item < item < max_item:\n",
    "        # Fills a gap - check if item is adjacent to any existing item\n",
    "        # This allows filling gaps one by one (e.g., 4,8 -> can add 5, then 6, then 7)\n",
    "        for existing_item in user_items_array:\n",
    "            if abs(existing_item - item) == 1:\n",
    "                return True  # Adjacent to at least one existing item\n",
    "        return False\n",
    "    else:\n",
    "        # Item is outside range and doesn't extend by exactly 1\n",
    "        return False\n",
    "\n",
    "def fill_missing_userids(df):\n",
    "    \"\"\"Fill missing userIDs using session sequence logic with timestamp proximity.\"\"\"\n",
    "    df = df.copy()\n",
    "    df['imputed'] = False\n",
    "    \n",
    "    # Convert timestamp to datetime for accurate calculations\n",
    "    df['ts'] = pd.to_datetime(df['ts'])\n",
    "    \n",
    "    # Pre-compute column indices for faster access\n",
    "    userId_col = df.columns.get_loc('userId')\n",
    "    imputed_col = df.columns.get_loc('imputed')\n",
    "\n",
    "    for session in df[df['userId'].isna()]['sessionId'].unique():\n",
    "        mask = df['sessionId'] == session\n",
    "        session_df = df[mask].copy()\n",
    "        \n",
    "        # Convert to numpy arrays for faster operations\n",
    "        userId_array = session_df['userId'].values\n",
    "        itemInSession_array = session_df['itemInSession'].values\n",
    "        ts_array = pd.to_datetime(session_df['ts']).values\n",
    "        \n",
    "        # Multi-pass processing to handle consecutive missing values\n",
    "        max_iterations = len(session_df)  # Prevent infinite loops\n",
    "        iteration = 0\n",
    "        \n",
    "        while iteration < max_iterations:\n",
    "            iteration += 1\n",
    "            filled_any = False\n",
    "            \n",
    "            # Cache user items to avoid repeated computations (reset each iteration)\n",
    "            user_items_cache = {}\n",
    "            \n",
    "            # Pre-compute missing indices for this iteration\n",
    "            missing_mask = pd.isna(userId_array)\n",
    "            missing_indices = np.where(missing_mask)[0]\n",
    "            \n",
    "            if len(missing_indices) == 0:\n",
    "                break  # No more missing values\n",
    "            \n",
    "            for i in missing_indices:\n",
    "                missing_ts = ts_array[i]\n",
    "                missing_item = itemInSession_array[i]\n",
    "                \n",
    "                forward_user = None\n",
    "                backward_user = None\n",
    "                forward_ts = None\n",
    "                backward_ts = None\n",
    "                \n",
    "                # Look forward for nearest valid user\n",
    "                for j in range(i + 1, len(userId_array)):\n",
    "                    candidate_user = userId_array[j]\n",
    "                    if not pd.isna(candidate_user):\n",
    "                        # Get or compute user items (with caching)\n",
    "                        if candidate_user not in user_items_cache:\n",
    "                            user_mask = userId_array == candidate_user\n",
    "                            user_items_cache[candidate_user] = np.sort(itemInSession_array[user_mask])\n",
    "                        \n",
    "                        user_items = user_items_cache[candidate_user]\n",
    "                        \n",
    "                        # Check for duplicate first (faster than sequence check)\n",
    "                        if missing_item not in user_items:\n",
    "                            # Check if this user would create a valid sequence\n",
    "                            if is_valid_sequence_assignment(user_items, missing_item):\n",
    "                                forward_user = candidate_user\n",
    "                                forward_ts = ts_array[j]\n",
    "                                break\n",
    "                \n",
    "                # Look backward for nearest valid user\n",
    "                for j in range(i - 1, -1, -1):\n",
    "                    candidate_user = userId_array[j]\n",
    "                    if not pd.isna(candidate_user):\n",
    "                        # Get or compute user items (with caching)\n",
    "                        if candidate_user not in user_items_cache:\n",
    "                            user_mask = userId_array == candidate_user\n",
    "                            user_items_cache[candidate_user] = np.sort(itemInSession_array[user_mask])\n",
    "                        \n",
    "                        user_items = user_items_cache[candidate_user]\n",
    "                        \n",
    "                        # Check for duplicate first (faster than sequence check)\n",
    "                        if missing_item not in user_items:\n",
    "                            # Check if this user would create a valid sequence\n",
    "                            if is_valid_sequence_assignment(user_items, missing_item):\n",
    "                                backward_user = candidate_user\n",
    "                                backward_ts = ts_array[j]\n",
    "                                break\n",
    "                \n",
    "                # Choose user based on closest timestamp\n",
    "                chosen_user = None\n",
    "                \n",
    "                if forward_user is not None and backward_user is not None:\n",
    "                    # Both users found - choose closest by timestamp\n",
    "                    forward_diff = abs((forward_ts - missing_ts).astype('timedelta64[s]').astype(int))\n",
    "                    backward_diff = abs((backward_ts - missing_ts).astype('timedelta64[s]').astype(int))\n",
    "                    \n",
    "                    if forward_diff <= backward_diff:\n",
    "                        chosen_user = forward_user\n",
    "                    else:\n",
    "                        chosen_user = backward_user\n",
    "                        \n",
    "                elif forward_user is not None:\n",
    "                    # Only forward user found\n",
    "                    chosen_user = forward_user\n",
    "                    \n",
    "                elif backward_user is not None:\n",
    "                    # Only backward user found\n",
    "                    chosen_user = backward_user\n",
    "                \n",
    "                # Update if user found\n",
    "                if chosen_user is not None:\n",
    "                    userId_array[i] = chosen_user\n",
    "                    session_df.iloc[i, imputed_col] = True\n",
    "                    filled_any = True  # Mark that we made progress\n",
    "                    # Invalidate cache for this user since their items changed\n",
    "                    if chosen_user in user_items_cache:\n",
    "                        del user_items_cache[chosen_user]\n",
    "            \n",
    "            # If no progress was made in this iteration, stop\n",
    "            if not filled_any:\n",
    "                break\n",
    "        \n",
    "        # Update session_df with modified userId array\n",
    "        session_df.iloc[:, userId_col] = userId_array\n",
    "        \n",
    "        # Update main dataframe\n",
    "        df.loc[mask, 'userId'] = session_df['userId'].values\n",
    "        df.loc[mask, 'imputed'] = session_df['imputed'].values\n",
    "\n",
    "    return df\n",
    "\n",
    "def map_user_attributes(df):\n",
    "    \"\"\"Map user attributes based on userId.\"\"\"\n",
    "    df = df.copy()\n",
    "    user_cols = ['location', 'userAgent', 'lastName', 'firstName', 'registration', 'gender']\n",
    "    \n",
    "    # Get first non-null value for each user\n",
    "    user_map = df[df['userId'].notna()].groupby('userId')[user_cols].first()\n",
    "    \n",
    "    # Map attributes to all rows\n",
    "    for col in user_cols:\n",
    "        df[col] = df['userId'].map(user_map[col]).fillna(df[col])\n",
    "    \n",
    "    return df\n",
    "\n",
    "def plot_counts(df, column, title=None):\n",
    "    \"\"\"Plot value counts for a given column.\"\"\"\n",
    "    counts = df[column].value_counts()\n",
    "    if title is None:\n",
    "        title = f'{column.title()} Counts'\n",
    "    \n",
    "    fig = px.bar(x=counts.index, y=counts.values,\n",
    "                 title=title,\n",
    "                 labels={'x': column.title(), 'y': 'Count'})\n",
    "    fig.show()"
   ]
  },
  {
   "cell_type": "markdown",
   "metadata": {},
   "source": [
    "### Data Imputation"
   ]
  },
  {
   "cell_type": "code",
   "execution_count": 56,
   "metadata": {},
   "outputs": [
    {
     "name": "stdout",
     "output_type": "stream",
     "text": [
      "Starting data imputation process...\n",
      "Imputation results:\n",
      "- Records imputed: 8,183\n",
      "- Still missing userIDs: 163\n"
     ]
    }
   ],
   "source": [
    "print(\"Starting data imputation process...\")\n",
    "\n",
    "# Apply imputation\n",
    "dataframe_filled = fill_missing_userids(dataframe)\n",
    "dataframe_filled = map_user_attributes(dataframe_filled)\n",
    "\n",
    "print(f\"Imputation results:\")\n",
    "print(f\"- Records imputed: {dataframe_filled['imputed'].sum():,}\")\n",
    "print(f\"- Still missing userIDs: {dataframe_filled['userId'].isna().sum():,}\")"
   ]
  },
  {
   "cell_type": "markdown",
   "metadata": {},
   "source": [
    "### Now we can drop the NaN values, as all of them cannot be traced"
   ]
  },
  {
   "cell_type": "markdown",
   "metadata": {},
   "source": [
    "### Final Data Cleaning"
   ]
  },
  {
   "cell_type": "code",
   "execution_count": 57,
   "metadata": {},
   "outputs": [
    {
     "name": "stdout",
     "output_type": "stream",
     "text": [
      "Final data cleaning completed!\n",
      "Final dataset shape: (286337, 21)\n",
      "Unique users: 225\n"
     ]
    }
   ],
   "source": [
    "# Remove remaining NaN userIds and convert to int\n",
    "dataframe_filled = dataframe_filled.dropna(subset=['userId']).reset_index(drop=True)\n",
    "dataframe_filled['userId'] = dataframe_filled['userId'].astype(int)\n",
    "\n",
    "# Create city and state columns\n",
    "dataframe_filled['city'] = dataframe_filled['location'].str.split(',').str[0]\n",
    "dataframe_filled['state'] = dataframe_filled['location'].str.split(',').str[1].str.strip()\n",
    "\n",
    "print(\"Final data cleaning completed!\")\n",
    "print(f\"Final dataset shape: {dataframe_filled.shape}\")\n",
    "print(f\"Unique users: {dataframe_filled['userId'].nunique():,}\")"
   ]
  },
  {
   "cell_type": "code",
   "execution_count": 58,
   "metadata": {},
   "outputs": [
    {
     "name": "stdout",
     "output_type": "stream",
     "text": [
      "=== FINAL DATA QUALITY SUMMARY ===\n",
      "Total records: 286,337\n",
      "Unique users: 225\n",
      "Unique sessions: 2,312\n",
      "Date range: 2018-10-01 to 2018-12-03\n",
      "\n",
      "Remaining missing values:\n",
      "  length: 58,229 (20.3%)\n",
      "  song: 58,229 (20.3%)\n",
      "  artist: 58,229 (20.3%)\n"
     ]
    }
   ],
   "source": [
    "print(\"=== FINAL DATA QUALITY SUMMARY ===\")\n",
    "print(f\"Total records: {dataframe_filled.shape[0]:,}\")\n",
    "print(f\"Unique users: {dataframe_filled['userId'].nunique():,}\")\n",
    "print(f\"Unique sessions: {dataframe_filled['sessionId'].nunique():,}\")\n",
    "print(f\"Date range: {dataframe_filled['ts'].min().date()} to {dataframe_filled['ts'].max().date()}\")\n",
    "\n",
    "print(f\"\\nRemaining missing values:\")\n",
    "final_missing = dataframe_filled.isna().sum().sort_values(ascending=False)\n",
    "for col, count in final_missing.items():\n",
    "    if count > 0:\n",
    "        print(f\"  {col}: {count:,} ({count/len(dataframe_filled):.1%})\")"
   ]
  },
  {
   "cell_type": "markdown",
   "metadata": {},
   "source": [
    "## EDA"
   ]
  },
  {
   "cell_type": "markdown",
   "metadata": {},
   "source": [
    "### Page Behaviour"
   ]
  },
  {
   "cell_type": "code",
   "execution_count": 59,
   "metadata": {},
   "outputs": [
    {
     "data": {
      "application/vnd.plotly.v1+json": {
       "config": {
        "plotlyServerURL": "https://plot.ly"
       },
       "data": [
        {
         "hovertemplate": "Page=%{x}<br>Count=%{y}<extra></extra>",
         "legendgroup": "",
         "marker": {
          "color": "#636efa",
          "pattern": {
           "shape": ""
          }
         },
         "name": "",
         "orientation": "v",
         "showlegend": false,
         "textposition": "auto",
         "type": "bar",
         "x": [
          "NextSong",
          "Home",
          "Thumbs Up",
          "Add to Playlist",
          "Add Friend",
          "Roll Advert",
          "Login",
          "Logout",
          "Thumbs Down",
          "Downgrade",
          "Help",
          "Settings",
          "About",
          "Upgrade",
          "Save Settings",
          "Error",
          "Submit Upgrade",
          "Submit Downgrade",
          "Cancel",
          "Cancellation Confirmation",
          "Register",
          "Submit Registration"
         ],
         "xaxis": "x",
         "y": {
          "bdata": "DHsDAP43AAAHMQAAfhkAALUQAABdDwAApgwAAJoMAADyCQAABwgAALEGAADqBQAAiQMAAPMBAAA2AQAAAgEAAJ8AAAA/AAAANAAAADQAAAANAAAABQAAAA==",
          "dtype": "i4"
         },
         "yaxis": "y"
        }
       ],
       "layout": {
        "barmode": "relative",
        "legend": {
         "tracegroupgap": 0
        },
        "template": {
         "data": {
          "bar": [
           {
            "error_x": {
             "color": "#2a3f5f"
            },
            "error_y": {
             "color": "#2a3f5f"
            },
            "marker": {
             "line": {
              "color": "#E5ECF6",
              "width": 0.5
             },
             "pattern": {
              "fillmode": "overlay",
              "size": 10,
              "solidity": 0.2
             }
            },
            "type": "bar"
           }
          ],
          "barpolar": [
           {
            "marker": {
             "line": {
              "color": "#E5ECF6",
              "width": 0.5
             },
             "pattern": {
              "fillmode": "overlay",
              "size": 10,
              "solidity": 0.2
             }
            },
            "type": "barpolar"
           }
          ],
          "carpet": [
           {
            "aaxis": {
             "endlinecolor": "#2a3f5f",
             "gridcolor": "white",
             "linecolor": "white",
             "minorgridcolor": "white",
             "startlinecolor": "#2a3f5f"
            },
            "baxis": {
             "endlinecolor": "#2a3f5f",
             "gridcolor": "white",
             "linecolor": "white",
             "minorgridcolor": "white",
             "startlinecolor": "#2a3f5f"
            },
            "type": "carpet"
           }
          ],
          "choropleth": [
           {
            "colorbar": {
             "outlinewidth": 0,
             "ticks": ""
            },
            "type": "choropleth"
           }
          ],
          "contour": [
           {
            "colorbar": {
             "outlinewidth": 0,
             "ticks": ""
            },
            "colorscale": [
             [
              0,
              "#0d0887"
             ],
             [
              0.1111111111111111,
              "#46039f"
             ],
             [
              0.2222222222222222,
              "#7201a8"
             ],
             [
              0.3333333333333333,
              "#9c179e"
             ],
             [
              0.4444444444444444,
              "#bd3786"
             ],
             [
              0.5555555555555556,
              "#d8576b"
             ],
             [
              0.6666666666666666,
              "#ed7953"
             ],
             [
              0.7777777777777778,
              "#fb9f3a"
             ],
             [
              0.8888888888888888,
              "#fdca26"
             ],
             [
              1,
              "#f0f921"
             ]
            ],
            "type": "contour"
           }
          ],
          "contourcarpet": [
           {
            "colorbar": {
             "outlinewidth": 0,
             "ticks": ""
            },
            "type": "contourcarpet"
           }
          ],
          "heatmap": [
           {
            "colorbar": {
             "outlinewidth": 0,
             "ticks": ""
            },
            "colorscale": [
             [
              0,
              "#0d0887"
             ],
             [
              0.1111111111111111,
              "#46039f"
             ],
             [
              0.2222222222222222,
              "#7201a8"
             ],
             [
              0.3333333333333333,
              "#9c179e"
             ],
             [
              0.4444444444444444,
              "#bd3786"
             ],
             [
              0.5555555555555556,
              "#d8576b"
             ],
             [
              0.6666666666666666,
              "#ed7953"
             ],
             [
              0.7777777777777778,
              "#fb9f3a"
             ],
             [
              0.8888888888888888,
              "#fdca26"
             ],
             [
              1,
              "#f0f921"
             ]
            ],
            "type": "heatmap"
           }
          ],
          "histogram": [
           {
            "marker": {
             "pattern": {
              "fillmode": "overlay",
              "size": 10,
              "solidity": 0.2
             }
            },
            "type": "histogram"
           }
          ],
          "histogram2d": [
           {
            "colorbar": {
             "outlinewidth": 0,
             "ticks": ""
            },
            "colorscale": [
             [
              0,
              "#0d0887"
             ],
             [
              0.1111111111111111,
              "#46039f"
             ],
             [
              0.2222222222222222,
              "#7201a8"
             ],
             [
              0.3333333333333333,
              "#9c179e"
             ],
             [
              0.4444444444444444,
              "#bd3786"
             ],
             [
              0.5555555555555556,
              "#d8576b"
             ],
             [
              0.6666666666666666,
              "#ed7953"
             ],
             [
              0.7777777777777778,
              "#fb9f3a"
             ],
             [
              0.8888888888888888,
              "#fdca26"
             ],
             [
              1,
              "#f0f921"
             ]
            ],
            "type": "histogram2d"
           }
          ],
          "histogram2dcontour": [
           {
            "colorbar": {
             "outlinewidth": 0,
             "ticks": ""
            },
            "colorscale": [
             [
              0,
              "#0d0887"
             ],
             [
              0.1111111111111111,
              "#46039f"
             ],
             [
              0.2222222222222222,
              "#7201a8"
             ],
             [
              0.3333333333333333,
              "#9c179e"
             ],
             [
              0.4444444444444444,
              "#bd3786"
             ],
             [
              0.5555555555555556,
              "#d8576b"
             ],
             [
              0.6666666666666666,
              "#ed7953"
             ],
             [
              0.7777777777777778,
              "#fb9f3a"
             ],
             [
              0.8888888888888888,
              "#fdca26"
             ],
             [
              1,
              "#f0f921"
             ]
            ],
            "type": "histogram2dcontour"
           }
          ],
          "mesh3d": [
           {
            "colorbar": {
             "outlinewidth": 0,
             "ticks": ""
            },
            "type": "mesh3d"
           }
          ],
          "parcoords": [
           {
            "line": {
             "colorbar": {
              "outlinewidth": 0,
              "ticks": ""
             }
            },
            "type": "parcoords"
           }
          ],
          "pie": [
           {
            "automargin": true,
            "type": "pie"
           }
          ],
          "scatter": [
           {
            "fillpattern": {
             "fillmode": "overlay",
             "size": 10,
             "solidity": 0.2
            },
            "type": "scatter"
           }
          ],
          "scatter3d": [
           {
            "line": {
             "colorbar": {
              "outlinewidth": 0,
              "ticks": ""
             }
            },
            "marker": {
             "colorbar": {
              "outlinewidth": 0,
              "ticks": ""
             }
            },
            "type": "scatter3d"
           }
          ],
          "scattercarpet": [
           {
            "marker": {
             "colorbar": {
              "outlinewidth": 0,
              "ticks": ""
             }
            },
            "type": "scattercarpet"
           }
          ],
          "scattergeo": [
           {
            "marker": {
             "colorbar": {
              "outlinewidth": 0,
              "ticks": ""
             }
            },
            "type": "scattergeo"
           }
          ],
          "scattergl": [
           {
            "marker": {
             "colorbar": {
              "outlinewidth": 0,
              "ticks": ""
             }
            },
            "type": "scattergl"
           }
          ],
          "scattermap": [
           {
            "marker": {
             "colorbar": {
              "outlinewidth": 0,
              "ticks": ""
             }
            },
            "type": "scattermap"
           }
          ],
          "scattermapbox": [
           {
            "marker": {
             "colorbar": {
              "outlinewidth": 0,
              "ticks": ""
             }
            },
            "type": "scattermapbox"
           }
          ],
          "scatterpolar": [
           {
            "marker": {
             "colorbar": {
              "outlinewidth": 0,
              "ticks": ""
             }
            },
            "type": "scatterpolar"
           }
          ],
          "scatterpolargl": [
           {
            "marker": {
             "colorbar": {
              "outlinewidth": 0,
              "ticks": ""
             }
            },
            "type": "scatterpolargl"
           }
          ],
          "scatterternary": [
           {
            "marker": {
             "colorbar": {
              "outlinewidth": 0,
              "ticks": ""
             }
            },
            "type": "scatterternary"
           }
          ],
          "surface": [
           {
            "colorbar": {
             "outlinewidth": 0,
             "ticks": ""
            },
            "colorscale": [
             [
              0,
              "#0d0887"
             ],
             [
              0.1111111111111111,
              "#46039f"
             ],
             [
              0.2222222222222222,
              "#7201a8"
             ],
             [
              0.3333333333333333,
              "#9c179e"
             ],
             [
              0.4444444444444444,
              "#bd3786"
             ],
             [
              0.5555555555555556,
              "#d8576b"
             ],
             [
              0.6666666666666666,
              "#ed7953"
             ],
             [
              0.7777777777777778,
              "#fb9f3a"
             ],
             [
              0.8888888888888888,
              "#fdca26"
             ],
             [
              1,
              "#f0f921"
             ]
            ],
            "type": "surface"
           }
          ],
          "table": [
           {
            "cells": {
             "fill": {
              "color": "#EBF0F8"
             },
             "line": {
              "color": "white"
             }
            },
            "header": {
             "fill": {
              "color": "#C8D4E3"
             },
             "line": {
              "color": "white"
             }
            },
            "type": "table"
           }
          ]
         },
         "layout": {
          "annotationdefaults": {
           "arrowcolor": "#2a3f5f",
           "arrowhead": 0,
           "arrowwidth": 1
          },
          "autotypenumbers": "strict",
          "coloraxis": {
           "colorbar": {
            "outlinewidth": 0,
            "ticks": ""
           }
          },
          "colorscale": {
           "diverging": [
            [
             0,
             "#8e0152"
            ],
            [
             0.1,
             "#c51b7d"
            ],
            [
             0.2,
             "#de77ae"
            ],
            [
             0.3,
             "#f1b6da"
            ],
            [
             0.4,
             "#fde0ef"
            ],
            [
             0.5,
             "#f7f7f7"
            ],
            [
             0.6,
             "#e6f5d0"
            ],
            [
             0.7,
             "#b8e186"
            ],
            [
             0.8,
             "#7fbc41"
            ],
            [
             0.9,
             "#4d9221"
            ],
            [
             1,
             "#276419"
            ]
           ],
           "sequential": [
            [
             0,
             "#0d0887"
            ],
            [
             0.1111111111111111,
             "#46039f"
            ],
            [
             0.2222222222222222,
             "#7201a8"
            ],
            [
             0.3333333333333333,
             "#9c179e"
            ],
            [
             0.4444444444444444,
             "#bd3786"
            ],
            [
             0.5555555555555556,
             "#d8576b"
            ],
            [
             0.6666666666666666,
             "#ed7953"
            ],
            [
             0.7777777777777778,
             "#fb9f3a"
            ],
            [
             0.8888888888888888,
             "#fdca26"
            ],
            [
             1,
             "#f0f921"
            ]
           ],
           "sequentialminus": [
            [
             0,
             "#0d0887"
            ],
            [
             0.1111111111111111,
             "#46039f"
            ],
            [
             0.2222222222222222,
             "#7201a8"
            ],
            [
             0.3333333333333333,
             "#9c179e"
            ],
            [
             0.4444444444444444,
             "#bd3786"
            ],
            [
             0.5555555555555556,
             "#d8576b"
            ],
            [
             0.6666666666666666,
             "#ed7953"
            ],
            [
             0.7777777777777778,
             "#fb9f3a"
            ],
            [
             0.8888888888888888,
             "#fdca26"
            ],
            [
             1,
             "#f0f921"
            ]
           ]
          },
          "colorway": [
           "#636efa",
           "#EF553B",
           "#00cc96",
           "#ab63fa",
           "#FFA15A",
           "#19d3f3",
           "#FF6692",
           "#B6E880",
           "#FF97FF",
           "#FECB52"
          ],
          "font": {
           "color": "#2a3f5f"
          },
          "geo": {
           "bgcolor": "white",
           "lakecolor": "white",
           "landcolor": "#E5ECF6",
           "showlakes": true,
           "showland": true,
           "subunitcolor": "white"
          },
          "hoverlabel": {
           "align": "left"
          },
          "hovermode": "closest",
          "mapbox": {
           "style": "light"
          },
          "paper_bgcolor": "white",
          "plot_bgcolor": "#E5ECF6",
          "polar": {
           "angularaxis": {
            "gridcolor": "white",
            "linecolor": "white",
            "ticks": ""
           },
           "bgcolor": "#E5ECF6",
           "radialaxis": {
            "gridcolor": "white",
            "linecolor": "white",
            "ticks": ""
           }
          },
          "scene": {
           "xaxis": {
            "backgroundcolor": "#E5ECF6",
            "gridcolor": "white",
            "gridwidth": 2,
            "linecolor": "white",
            "showbackground": true,
            "ticks": "",
            "zerolinecolor": "white"
           },
           "yaxis": {
            "backgroundcolor": "#E5ECF6",
            "gridcolor": "white",
            "gridwidth": 2,
            "linecolor": "white",
            "showbackground": true,
            "ticks": "",
            "zerolinecolor": "white"
           },
           "zaxis": {
            "backgroundcolor": "#E5ECF6",
            "gridcolor": "white",
            "gridwidth": 2,
            "linecolor": "white",
            "showbackground": true,
            "ticks": "",
            "zerolinecolor": "white"
           }
          },
          "shapedefaults": {
           "line": {
            "color": "#2a3f5f"
           }
          },
          "ternary": {
           "aaxis": {
            "gridcolor": "white",
            "linecolor": "white",
            "ticks": ""
           },
           "baxis": {
            "gridcolor": "white",
            "linecolor": "white",
            "ticks": ""
           },
           "bgcolor": "#E5ECF6",
           "caxis": {
            "gridcolor": "white",
            "linecolor": "white",
            "ticks": ""
           }
          },
          "title": {
           "x": 0.05
          },
          "xaxis": {
           "automargin": true,
           "gridcolor": "white",
           "linecolor": "white",
           "ticks": "",
           "title": {
            "standoff": 15
           },
           "zerolinecolor": "white",
           "zerolinewidth": 2
          },
          "yaxis": {
           "automargin": true,
           "gridcolor": "white",
           "linecolor": "white",
           "ticks": "",
           "title": {
            "standoff": 15
           },
           "zerolinecolor": "white",
           "zerolinewidth": 2
          }
         }
        },
        "title": {
         "text": "Page Visit Distribution"
        },
        "xaxis": {
         "anchor": "y",
         "domain": [
          0,
          1
         ],
         "title": {
          "text": "Page"
         }
        },
        "yaxis": {
         "anchor": "x",
         "domain": [
          0,
          1
         ],
         "title": {
          "text": "Count"
         }
        }
       }
      }
     },
     "metadata": {},
     "output_type": "display_data"
    },
    {
     "data": {
      "application/vnd.plotly.v1+json": {
       "config": {
        "plotlyServerURL": "https://plot.ly"
       },
       "data": [
        {
         "hovertemplate": "Auth=%{x}<br>Count=%{y}<extra></extra>",
         "legendgroup": "",
         "marker": {
          "color": "#636efa",
          "pattern": {
           "shape": ""
          }
         },
         "name": "",
         "orientation": "v",
         "showlegend": false,
         "textposition": "auto",
         "type": "bar",
         "x": [
          "Logged In",
          "Logged Out",
          "Guest",
          "Cancelled"
         ],
         "xaxis": "x",
         "y": {
          "bdata": "Vj4EALAfAABHAAAANAAAAA==",
          "dtype": "i4"
         },
         "yaxis": "y"
        }
       ],
       "layout": {
        "barmode": "relative",
        "legend": {
         "tracegroupgap": 0
        },
        "template": {
         "data": {
          "bar": [
           {
            "error_x": {
             "color": "#2a3f5f"
            },
            "error_y": {
             "color": "#2a3f5f"
            },
            "marker": {
             "line": {
              "color": "#E5ECF6",
              "width": 0.5
             },
             "pattern": {
              "fillmode": "overlay",
              "size": 10,
              "solidity": 0.2
             }
            },
            "type": "bar"
           }
          ],
          "barpolar": [
           {
            "marker": {
             "line": {
              "color": "#E5ECF6",
              "width": 0.5
             },
             "pattern": {
              "fillmode": "overlay",
              "size": 10,
              "solidity": 0.2
             }
            },
            "type": "barpolar"
           }
          ],
          "carpet": [
           {
            "aaxis": {
             "endlinecolor": "#2a3f5f",
             "gridcolor": "white",
             "linecolor": "white",
             "minorgridcolor": "white",
             "startlinecolor": "#2a3f5f"
            },
            "baxis": {
             "endlinecolor": "#2a3f5f",
             "gridcolor": "white",
             "linecolor": "white",
             "minorgridcolor": "white",
             "startlinecolor": "#2a3f5f"
            },
            "type": "carpet"
           }
          ],
          "choropleth": [
           {
            "colorbar": {
             "outlinewidth": 0,
             "ticks": ""
            },
            "type": "choropleth"
           }
          ],
          "contour": [
           {
            "colorbar": {
             "outlinewidth": 0,
             "ticks": ""
            },
            "colorscale": [
             [
              0,
              "#0d0887"
             ],
             [
              0.1111111111111111,
              "#46039f"
             ],
             [
              0.2222222222222222,
              "#7201a8"
             ],
             [
              0.3333333333333333,
              "#9c179e"
             ],
             [
              0.4444444444444444,
              "#bd3786"
             ],
             [
              0.5555555555555556,
              "#d8576b"
             ],
             [
              0.6666666666666666,
              "#ed7953"
             ],
             [
              0.7777777777777778,
              "#fb9f3a"
             ],
             [
              0.8888888888888888,
              "#fdca26"
             ],
             [
              1,
              "#f0f921"
             ]
            ],
            "type": "contour"
           }
          ],
          "contourcarpet": [
           {
            "colorbar": {
             "outlinewidth": 0,
             "ticks": ""
            },
            "type": "contourcarpet"
           }
          ],
          "heatmap": [
           {
            "colorbar": {
             "outlinewidth": 0,
             "ticks": ""
            },
            "colorscale": [
             [
              0,
              "#0d0887"
             ],
             [
              0.1111111111111111,
              "#46039f"
             ],
             [
              0.2222222222222222,
              "#7201a8"
             ],
             [
              0.3333333333333333,
              "#9c179e"
             ],
             [
              0.4444444444444444,
              "#bd3786"
             ],
             [
              0.5555555555555556,
              "#d8576b"
             ],
             [
              0.6666666666666666,
              "#ed7953"
             ],
             [
              0.7777777777777778,
              "#fb9f3a"
             ],
             [
              0.8888888888888888,
              "#fdca26"
             ],
             [
              1,
              "#f0f921"
             ]
            ],
            "type": "heatmap"
           }
          ],
          "histogram": [
           {
            "marker": {
             "pattern": {
              "fillmode": "overlay",
              "size": 10,
              "solidity": 0.2
             }
            },
            "type": "histogram"
           }
          ],
          "histogram2d": [
           {
            "colorbar": {
             "outlinewidth": 0,
             "ticks": ""
            },
            "colorscale": [
             [
              0,
              "#0d0887"
             ],
             [
              0.1111111111111111,
              "#46039f"
             ],
             [
              0.2222222222222222,
              "#7201a8"
             ],
             [
              0.3333333333333333,
              "#9c179e"
             ],
             [
              0.4444444444444444,
              "#bd3786"
             ],
             [
              0.5555555555555556,
              "#d8576b"
             ],
             [
              0.6666666666666666,
              "#ed7953"
             ],
             [
              0.7777777777777778,
              "#fb9f3a"
             ],
             [
              0.8888888888888888,
              "#fdca26"
             ],
             [
              1,
              "#f0f921"
             ]
            ],
            "type": "histogram2d"
           }
          ],
          "histogram2dcontour": [
           {
            "colorbar": {
             "outlinewidth": 0,
             "ticks": ""
            },
            "colorscale": [
             [
              0,
              "#0d0887"
             ],
             [
              0.1111111111111111,
              "#46039f"
             ],
             [
              0.2222222222222222,
              "#7201a8"
             ],
             [
              0.3333333333333333,
              "#9c179e"
             ],
             [
              0.4444444444444444,
              "#bd3786"
             ],
             [
              0.5555555555555556,
              "#d8576b"
             ],
             [
              0.6666666666666666,
              "#ed7953"
             ],
             [
              0.7777777777777778,
              "#fb9f3a"
             ],
             [
              0.8888888888888888,
              "#fdca26"
             ],
             [
              1,
              "#f0f921"
             ]
            ],
            "type": "histogram2dcontour"
           }
          ],
          "mesh3d": [
           {
            "colorbar": {
             "outlinewidth": 0,
             "ticks": ""
            },
            "type": "mesh3d"
           }
          ],
          "parcoords": [
           {
            "line": {
             "colorbar": {
              "outlinewidth": 0,
              "ticks": ""
             }
            },
            "type": "parcoords"
           }
          ],
          "pie": [
           {
            "automargin": true,
            "type": "pie"
           }
          ],
          "scatter": [
           {
            "fillpattern": {
             "fillmode": "overlay",
             "size": 10,
             "solidity": 0.2
            },
            "type": "scatter"
           }
          ],
          "scatter3d": [
           {
            "line": {
             "colorbar": {
              "outlinewidth": 0,
              "ticks": ""
             }
            },
            "marker": {
             "colorbar": {
              "outlinewidth": 0,
              "ticks": ""
             }
            },
            "type": "scatter3d"
           }
          ],
          "scattercarpet": [
           {
            "marker": {
             "colorbar": {
              "outlinewidth": 0,
              "ticks": ""
             }
            },
            "type": "scattercarpet"
           }
          ],
          "scattergeo": [
           {
            "marker": {
             "colorbar": {
              "outlinewidth": 0,
              "ticks": ""
             }
            },
            "type": "scattergeo"
           }
          ],
          "scattergl": [
           {
            "marker": {
             "colorbar": {
              "outlinewidth": 0,
              "ticks": ""
             }
            },
            "type": "scattergl"
           }
          ],
          "scattermap": [
           {
            "marker": {
             "colorbar": {
              "outlinewidth": 0,
              "ticks": ""
             }
            },
            "type": "scattermap"
           }
          ],
          "scattermapbox": [
           {
            "marker": {
             "colorbar": {
              "outlinewidth": 0,
              "ticks": ""
             }
            },
            "type": "scattermapbox"
           }
          ],
          "scatterpolar": [
           {
            "marker": {
             "colorbar": {
              "outlinewidth": 0,
              "ticks": ""
             }
            },
            "type": "scatterpolar"
           }
          ],
          "scatterpolargl": [
           {
            "marker": {
             "colorbar": {
              "outlinewidth": 0,
              "ticks": ""
             }
            },
            "type": "scatterpolargl"
           }
          ],
          "scatterternary": [
           {
            "marker": {
             "colorbar": {
              "outlinewidth": 0,
              "ticks": ""
             }
            },
            "type": "scatterternary"
           }
          ],
          "surface": [
           {
            "colorbar": {
             "outlinewidth": 0,
             "ticks": ""
            },
            "colorscale": [
             [
              0,
              "#0d0887"
             ],
             [
              0.1111111111111111,
              "#46039f"
             ],
             [
              0.2222222222222222,
              "#7201a8"
             ],
             [
              0.3333333333333333,
              "#9c179e"
             ],
             [
              0.4444444444444444,
              "#bd3786"
             ],
             [
              0.5555555555555556,
              "#d8576b"
             ],
             [
              0.6666666666666666,
              "#ed7953"
             ],
             [
              0.7777777777777778,
              "#fb9f3a"
             ],
             [
              0.8888888888888888,
              "#fdca26"
             ],
             [
              1,
              "#f0f921"
             ]
            ],
            "type": "surface"
           }
          ],
          "table": [
           {
            "cells": {
             "fill": {
              "color": "#EBF0F8"
             },
             "line": {
              "color": "white"
             }
            },
            "header": {
             "fill": {
              "color": "#C8D4E3"
             },
             "line": {
              "color": "white"
             }
            },
            "type": "table"
           }
          ]
         },
         "layout": {
          "annotationdefaults": {
           "arrowcolor": "#2a3f5f",
           "arrowhead": 0,
           "arrowwidth": 1
          },
          "autotypenumbers": "strict",
          "coloraxis": {
           "colorbar": {
            "outlinewidth": 0,
            "ticks": ""
           }
          },
          "colorscale": {
           "diverging": [
            [
             0,
             "#8e0152"
            ],
            [
             0.1,
             "#c51b7d"
            ],
            [
             0.2,
             "#de77ae"
            ],
            [
             0.3,
             "#f1b6da"
            ],
            [
             0.4,
             "#fde0ef"
            ],
            [
             0.5,
             "#f7f7f7"
            ],
            [
             0.6,
             "#e6f5d0"
            ],
            [
             0.7,
             "#b8e186"
            ],
            [
             0.8,
             "#7fbc41"
            ],
            [
             0.9,
             "#4d9221"
            ],
            [
             1,
             "#276419"
            ]
           ],
           "sequential": [
            [
             0,
             "#0d0887"
            ],
            [
             0.1111111111111111,
             "#46039f"
            ],
            [
             0.2222222222222222,
             "#7201a8"
            ],
            [
             0.3333333333333333,
             "#9c179e"
            ],
            [
             0.4444444444444444,
             "#bd3786"
            ],
            [
             0.5555555555555556,
             "#d8576b"
            ],
            [
             0.6666666666666666,
             "#ed7953"
            ],
            [
             0.7777777777777778,
             "#fb9f3a"
            ],
            [
             0.8888888888888888,
             "#fdca26"
            ],
            [
             1,
             "#f0f921"
            ]
           ],
           "sequentialminus": [
            [
             0,
             "#0d0887"
            ],
            [
             0.1111111111111111,
             "#46039f"
            ],
            [
             0.2222222222222222,
             "#7201a8"
            ],
            [
             0.3333333333333333,
             "#9c179e"
            ],
            [
             0.4444444444444444,
             "#bd3786"
            ],
            [
             0.5555555555555556,
             "#d8576b"
            ],
            [
             0.6666666666666666,
             "#ed7953"
            ],
            [
             0.7777777777777778,
             "#fb9f3a"
            ],
            [
             0.8888888888888888,
             "#fdca26"
            ],
            [
             1,
             "#f0f921"
            ]
           ]
          },
          "colorway": [
           "#636efa",
           "#EF553B",
           "#00cc96",
           "#ab63fa",
           "#FFA15A",
           "#19d3f3",
           "#FF6692",
           "#B6E880",
           "#FF97FF",
           "#FECB52"
          ],
          "font": {
           "color": "#2a3f5f"
          },
          "geo": {
           "bgcolor": "white",
           "lakecolor": "white",
           "landcolor": "#E5ECF6",
           "showlakes": true,
           "showland": true,
           "subunitcolor": "white"
          },
          "hoverlabel": {
           "align": "left"
          },
          "hovermode": "closest",
          "mapbox": {
           "style": "light"
          },
          "paper_bgcolor": "white",
          "plot_bgcolor": "#E5ECF6",
          "polar": {
           "angularaxis": {
            "gridcolor": "white",
            "linecolor": "white",
            "ticks": ""
           },
           "bgcolor": "#E5ECF6",
           "radialaxis": {
            "gridcolor": "white",
            "linecolor": "white",
            "ticks": ""
           }
          },
          "scene": {
           "xaxis": {
            "backgroundcolor": "#E5ECF6",
            "gridcolor": "white",
            "gridwidth": 2,
            "linecolor": "white",
            "showbackground": true,
            "ticks": "",
            "zerolinecolor": "white"
           },
           "yaxis": {
            "backgroundcolor": "#E5ECF6",
            "gridcolor": "white",
            "gridwidth": 2,
            "linecolor": "white",
            "showbackground": true,
            "ticks": "",
            "zerolinecolor": "white"
           },
           "zaxis": {
            "backgroundcolor": "#E5ECF6",
            "gridcolor": "white",
            "gridwidth": 2,
            "linecolor": "white",
            "showbackground": true,
            "ticks": "",
            "zerolinecolor": "white"
           }
          },
          "shapedefaults": {
           "line": {
            "color": "#2a3f5f"
           }
          },
          "ternary": {
           "aaxis": {
            "gridcolor": "white",
            "linecolor": "white",
            "ticks": ""
           },
           "baxis": {
            "gridcolor": "white",
            "linecolor": "white",
            "ticks": ""
           },
           "bgcolor": "#E5ECF6",
           "caxis": {
            "gridcolor": "white",
            "linecolor": "white",
            "ticks": ""
           }
          },
          "title": {
           "x": 0.05
          },
          "xaxis": {
           "automargin": true,
           "gridcolor": "white",
           "linecolor": "white",
           "ticks": "",
           "title": {
            "standoff": 15
           },
           "zerolinecolor": "white",
           "zerolinewidth": 2
          },
          "yaxis": {
           "automargin": true,
           "gridcolor": "white",
           "linecolor": "white",
           "ticks": "",
           "title": {
            "standoff": 15
           },
           "zerolinecolor": "white",
           "zerolinewidth": 2
          }
         }
        },
        "title": {
         "text": "Authentication Status Distribution"
        },
        "xaxis": {
         "anchor": "y",
         "domain": [
          0,
          1
         ],
         "title": {
          "text": "Auth"
         }
        },
        "yaxis": {
         "anchor": "x",
         "domain": [
          0,
          1
         ],
         "title": {
          "text": "Count"
         }
        }
       }
      }
     },
     "metadata": {},
     "output_type": "display_data"
    }
   ],
   "source": [
    "# Page visit patterns\n",
    "plot_counts(dataframe_filled, 'page', 'Page Visit Distribution')\n",
    "\n",
    "# Authentication patterns  \n",
    "plot_counts(dataframe_filled, 'auth', 'Authentication Status Distribution')"
   ]
  },
  {
   "cell_type": "markdown",
   "metadata": {},
   "source": [
    "### User Demographics"
   ]
  },
  {
   "cell_type": "code",
   "execution_count": 60,
   "metadata": {},
   "outputs": [
    {
     "name": "stdout",
     "output_type": "stream",
     "text": [
      "User demographics summary:\n",
      "- Total unique users: 225\n",
      "- Gender distribution:\n",
      "gender\n",
      "M    121\n",
      "F    104\n",
      "Name: count, dtype: int64\n",
      "- Level distribution:\n",
      "level\n",
      "paid    145\n",
      "free     80\n",
      "Name: count, dtype: int64\n"
     ]
    },
    {
     "data": {
      "application/vnd.plotly.v1+json": {
       "config": {
        "plotlyServerURL": "https://plot.ly"
       },
       "data": [
        {
         "hovertemplate": "State=%{x}<br>Count=%{y}<extra></extra>",
         "legendgroup": "",
         "marker": {
          "color": "#636efa",
          "pattern": {
           "shape": ""
          }
         },
         "name": "",
         "orientation": "v",
         "showlegend": false,
         "textposition": "auto",
         "type": "bar",
         "x": [
          "CA",
          "TX",
          "NY-NJ-PA",
          "FL",
          "AZ",
          "CT",
          "NC",
          "NC-SC",
          "MO-IL",
          "IL-IN-WI",
          "NY",
          "PA-NJ-DE-MD",
          "MI",
          "MA-NH",
          "CO",
          "GA",
          "AL",
          "WA",
          "DC-VA-MD-WV",
          "MN-WI",
          "IN",
          "NV",
          "KY",
          "PA",
          "IL",
          "OH",
          "MS",
          "VA-NC",
          "OR-WA",
          "MD",
          "NJ",
          "SC",
          "NH",
          "AK",
          "MO-KS",
          "LA",
          "MT",
          "GA-AL",
          "OH-KY-IN",
          "VA",
          "RI-MA",
          "SC-NC",
          "AR",
          "KY-IN",
          "MD-WV",
          "OR",
          "UT-ID",
          "UT",
          "IA",
          "TN-VA",
          "TN-MS-AR",
          "OK",
          "NE-IA",
          "PA-NJ",
          "IL-MO",
          "WI",
          "WV",
          "TN"
         ],
         "xaxis": "x",
         "y": {
          "bdata": "IRAPDgcHBgYGBgUFBQUEBAQEBAMDAwMDAwMDAgICAgICAgICAgICAgIBAQEBAQEBAQEBAQEBAQEBAQ==",
          "dtype": "i1"
         },
         "yaxis": "y"
        }
       ],
       "layout": {
        "barmode": "relative",
        "legend": {
         "tracegroupgap": 0
        },
        "template": {
         "data": {
          "bar": [
           {
            "error_x": {
             "color": "#2a3f5f"
            },
            "error_y": {
             "color": "#2a3f5f"
            },
            "marker": {
             "line": {
              "color": "#E5ECF6",
              "width": 0.5
             },
             "pattern": {
              "fillmode": "overlay",
              "size": 10,
              "solidity": 0.2
             }
            },
            "type": "bar"
           }
          ],
          "barpolar": [
           {
            "marker": {
             "line": {
              "color": "#E5ECF6",
              "width": 0.5
             },
             "pattern": {
              "fillmode": "overlay",
              "size": 10,
              "solidity": 0.2
             }
            },
            "type": "barpolar"
           }
          ],
          "carpet": [
           {
            "aaxis": {
             "endlinecolor": "#2a3f5f",
             "gridcolor": "white",
             "linecolor": "white",
             "minorgridcolor": "white",
             "startlinecolor": "#2a3f5f"
            },
            "baxis": {
             "endlinecolor": "#2a3f5f",
             "gridcolor": "white",
             "linecolor": "white",
             "minorgridcolor": "white",
             "startlinecolor": "#2a3f5f"
            },
            "type": "carpet"
           }
          ],
          "choropleth": [
           {
            "colorbar": {
             "outlinewidth": 0,
             "ticks": ""
            },
            "type": "choropleth"
           }
          ],
          "contour": [
           {
            "colorbar": {
             "outlinewidth": 0,
             "ticks": ""
            },
            "colorscale": [
             [
              0,
              "#0d0887"
             ],
             [
              0.1111111111111111,
              "#46039f"
             ],
             [
              0.2222222222222222,
              "#7201a8"
             ],
             [
              0.3333333333333333,
              "#9c179e"
             ],
             [
              0.4444444444444444,
              "#bd3786"
             ],
             [
              0.5555555555555556,
              "#d8576b"
             ],
             [
              0.6666666666666666,
              "#ed7953"
             ],
             [
              0.7777777777777778,
              "#fb9f3a"
             ],
             [
              0.8888888888888888,
              "#fdca26"
             ],
             [
              1,
              "#f0f921"
             ]
            ],
            "type": "contour"
           }
          ],
          "contourcarpet": [
           {
            "colorbar": {
             "outlinewidth": 0,
             "ticks": ""
            },
            "type": "contourcarpet"
           }
          ],
          "heatmap": [
           {
            "colorbar": {
             "outlinewidth": 0,
             "ticks": ""
            },
            "colorscale": [
             [
              0,
              "#0d0887"
             ],
             [
              0.1111111111111111,
              "#46039f"
             ],
             [
              0.2222222222222222,
              "#7201a8"
             ],
             [
              0.3333333333333333,
              "#9c179e"
             ],
             [
              0.4444444444444444,
              "#bd3786"
             ],
             [
              0.5555555555555556,
              "#d8576b"
             ],
             [
              0.6666666666666666,
              "#ed7953"
             ],
             [
              0.7777777777777778,
              "#fb9f3a"
             ],
             [
              0.8888888888888888,
              "#fdca26"
             ],
             [
              1,
              "#f0f921"
             ]
            ],
            "type": "heatmap"
           }
          ],
          "histogram": [
           {
            "marker": {
             "pattern": {
              "fillmode": "overlay",
              "size": 10,
              "solidity": 0.2
             }
            },
            "type": "histogram"
           }
          ],
          "histogram2d": [
           {
            "colorbar": {
             "outlinewidth": 0,
             "ticks": ""
            },
            "colorscale": [
             [
              0,
              "#0d0887"
             ],
             [
              0.1111111111111111,
              "#46039f"
             ],
             [
              0.2222222222222222,
              "#7201a8"
             ],
             [
              0.3333333333333333,
              "#9c179e"
             ],
             [
              0.4444444444444444,
              "#bd3786"
             ],
             [
              0.5555555555555556,
              "#d8576b"
             ],
             [
              0.6666666666666666,
              "#ed7953"
             ],
             [
              0.7777777777777778,
              "#fb9f3a"
             ],
             [
              0.8888888888888888,
              "#fdca26"
             ],
             [
              1,
              "#f0f921"
             ]
            ],
            "type": "histogram2d"
           }
          ],
          "histogram2dcontour": [
           {
            "colorbar": {
             "outlinewidth": 0,
             "ticks": ""
            },
            "colorscale": [
             [
              0,
              "#0d0887"
             ],
             [
              0.1111111111111111,
              "#46039f"
             ],
             [
              0.2222222222222222,
              "#7201a8"
             ],
             [
              0.3333333333333333,
              "#9c179e"
             ],
             [
              0.4444444444444444,
              "#bd3786"
             ],
             [
              0.5555555555555556,
              "#d8576b"
             ],
             [
              0.6666666666666666,
              "#ed7953"
             ],
             [
              0.7777777777777778,
              "#fb9f3a"
             ],
             [
              0.8888888888888888,
              "#fdca26"
             ],
             [
              1,
              "#f0f921"
             ]
            ],
            "type": "histogram2dcontour"
           }
          ],
          "mesh3d": [
           {
            "colorbar": {
             "outlinewidth": 0,
             "ticks": ""
            },
            "type": "mesh3d"
           }
          ],
          "parcoords": [
           {
            "line": {
             "colorbar": {
              "outlinewidth": 0,
              "ticks": ""
             }
            },
            "type": "parcoords"
           }
          ],
          "pie": [
           {
            "automargin": true,
            "type": "pie"
           }
          ],
          "scatter": [
           {
            "fillpattern": {
             "fillmode": "overlay",
             "size": 10,
             "solidity": 0.2
            },
            "type": "scatter"
           }
          ],
          "scatter3d": [
           {
            "line": {
             "colorbar": {
              "outlinewidth": 0,
              "ticks": ""
             }
            },
            "marker": {
             "colorbar": {
              "outlinewidth": 0,
              "ticks": ""
             }
            },
            "type": "scatter3d"
           }
          ],
          "scattercarpet": [
           {
            "marker": {
             "colorbar": {
              "outlinewidth": 0,
              "ticks": ""
             }
            },
            "type": "scattercarpet"
           }
          ],
          "scattergeo": [
           {
            "marker": {
             "colorbar": {
              "outlinewidth": 0,
              "ticks": ""
             }
            },
            "type": "scattergeo"
           }
          ],
          "scattergl": [
           {
            "marker": {
             "colorbar": {
              "outlinewidth": 0,
              "ticks": ""
             }
            },
            "type": "scattergl"
           }
          ],
          "scattermap": [
           {
            "marker": {
             "colorbar": {
              "outlinewidth": 0,
              "ticks": ""
             }
            },
            "type": "scattermap"
           }
          ],
          "scattermapbox": [
           {
            "marker": {
             "colorbar": {
              "outlinewidth": 0,
              "ticks": ""
             }
            },
            "type": "scattermapbox"
           }
          ],
          "scatterpolar": [
           {
            "marker": {
             "colorbar": {
              "outlinewidth": 0,
              "ticks": ""
             }
            },
            "type": "scatterpolar"
           }
          ],
          "scatterpolargl": [
           {
            "marker": {
             "colorbar": {
              "outlinewidth": 0,
              "ticks": ""
             }
            },
            "type": "scatterpolargl"
           }
          ],
          "scatterternary": [
           {
            "marker": {
             "colorbar": {
              "outlinewidth": 0,
              "ticks": ""
             }
            },
            "type": "scatterternary"
           }
          ],
          "surface": [
           {
            "colorbar": {
             "outlinewidth": 0,
             "ticks": ""
            },
            "colorscale": [
             [
              0,
              "#0d0887"
             ],
             [
              0.1111111111111111,
              "#46039f"
             ],
             [
              0.2222222222222222,
              "#7201a8"
             ],
             [
              0.3333333333333333,
              "#9c179e"
             ],
             [
              0.4444444444444444,
              "#bd3786"
             ],
             [
              0.5555555555555556,
              "#d8576b"
             ],
             [
              0.6666666666666666,
              "#ed7953"
             ],
             [
              0.7777777777777778,
              "#fb9f3a"
             ],
             [
              0.8888888888888888,
              "#fdca26"
             ],
             [
              1,
              "#f0f921"
             ]
            ],
            "type": "surface"
           }
          ],
          "table": [
           {
            "cells": {
             "fill": {
              "color": "#EBF0F8"
             },
             "line": {
              "color": "white"
             }
            },
            "header": {
             "fill": {
              "color": "#C8D4E3"
             },
             "line": {
              "color": "white"
             }
            },
            "type": "table"
           }
          ]
         },
         "layout": {
          "annotationdefaults": {
           "arrowcolor": "#2a3f5f",
           "arrowhead": 0,
           "arrowwidth": 1
          },
          "autotypenumbers": "strict",
          "coloraxis": {
           "colorbar": {
            "outlinewidth": 0,
            "ticks": ""
           }
          },
          "colorscale": {
           "diverging": [
            [
             0,
             "#8e0152"
            ],
            [
             0.1,
             "#c51b7d"
            ],
            [
             0.2,
             "#de77ae"
            ],
            [
             0.3,
             "#f1b6da"
            ],
            [
             0.4,
             "#fde0ef"
            ],
            [
             0.5,
             "#f7f7f7"
            ],
            [
             0.6,
             "#e6f5d0"
            ],
            [
             0.7,
             "#b8e186"
            ],
            [
             0.8,
             "#7fbc41"
            ],
            [
             0.9,
             "#4d9221"
            ],
            [
             1,
             "#276419"
            ]
           ],
           "sequential": [
            [
             0,
             "#0d0887"
            ],
            [
             0.1111111111111111,
             "#46039f"
            ],
            [
             0.2222222222222222,
             "#7201a8"
            ],
            [
             0.3333333333333333,
             "#9c179e"
            ],
            [
             0.4444444444444444,
             "#bd3786"
            ],
            [
             0.5555555555555556,
             "#d8576b"
            ],
            [
             0.6666666666666666,
             "#ed7953"
            ],
            [
             0.7777777777777778,
             "#fb9f3a"
            ],
            [
             0.8888888888888888,
             "#fdca26"
            ],
            [
             1,
             "#f0f921"
            ]
           ],
           "sequentialminus": [
            [
             0,
             "#0d0887"
            ],
            [
             0.1111111111111111,
             "#46039f"
            ],
            [
             0.2222222222222222,
             "#7201a8"
            ],
            [
             0.3333333333333333,
             "#9c179e"
            ],
            [
             0.4444444444444444,
             "#bd3786"
            ],
            [
             0.5555555555555556,
             "#d8576b"
            ],
            [
             0.6666666666666666,
             "#ed7953"
            ],
            [
             0.7777777777777778,
             "#fb9f3a"
            ],
            [
             0.8888888888888888,
             "#fdca26"
            ],
            [
             1,
             "#f0f921"
            ]
           ]
          },
          "colorway": [
           "#636efa",
           "#EF553B",
           "#00cc96",
           "#ab63fa",
           "#FFA15A",
           "#19d3f3",
           "#FF6692",
           "#B6E880",
           "#FF97FF",
           "#FECB52"
          ],
          "font": {
           "color": "#2a3f5f"
          },
          "geo": {
           "bgcolor": "white",
           "lakecolor": "white",
           "landcolor": "#E5ECF6",
           "showlakes": true,
           "showland": true,
           "subunitcolor": "white"
          },
          "hoverlabel": {
           "align": "left"
          },
          "hovermode": "closest",
          "mapbox": {
           "style": "light"
          },
          "paper_bgcolor": "white",
          "plot_bgcolor": "#E5ECF6",
          "polar": {
           "angularaxis": {
            "gridcolor": "white",
            "linecolor": "white",
            "ticks": ""
           },
           "bgcolor": "#E5ECF6",
           "radialaxis": {
            "gridcolor": "white",
            "linecolor": "white",
            "ticks": ""
           }
          },
          "scene": {
           "xaxis": {
            "backgroundcolor": "#E5ECF6",
            "gridcolor": "white",
            "gridwidth": 2,
            "linecolor": "white",
            "showbackground": true,
            "ticks": "",
            "zerolinecolor": "white"
           },
           "yaxis": {
            "backgroundcolor": "#E5ECF6",
            "gridcolor": "white",
            "gridwidth": 2,
            "linecolor": "white",
            "showbackground": true,
            "ticks": "",
            "zerolinecolor": "white"
           },
           "zaxis": {
            "backgroundcolor": "#E5ECF6",
            "gridcolor": "white",
            "gridwidth": 2,
            "linecolor": "white",
            "showbackground": true,
            "ticks": "",
            "zerolinecolor": "white"
           }
          },
          "shapedefaults": {
           "line": {
            "color": "#2a3f5f"
           }
          },
          "ternary": {
           "aaxis": {
            "gridcolor": "white",
            "linecolor": "white",
            "ticks": ""
           },
           "baxis": {
            "gridcolor": "white",
            "linecolor": "white",
            "ticks": ""
           },
           "bgcolor": "#E5ECF6",
           "caxis": {
            "gridcolor": "white",
            "linecolor": "white",
            "ticks": ""
           }
          },
          "title": {
           "x": 0.05
          },
          "xaxis": {
           "automargin": true,
           "gridcolor": "white",
           "linecolor": "white",
           "ticks": "",
           "title": {
            "standoff": 15
           },
           "zerolinecolor": "white",
           "zerolinewidth": 2
          },
          "yaxis": {
           "automargin": true,
           "gridcolor": "white",
           "linecolor": "white",
           "ticks": "",
           "title": {
            "standoff": 15
           },
           "zerolinecolor": "white",
           "zerolinewidth": 2
          }
         }
        },
        "title": {
         "text": "Users by State"
        },
        "xaxis": {
         "anchor": "y",
         "domain": [
          0,
          1
         ],
         "title": {
          "text": "State"
         }
        },
        "yaxis": {
         "anchor": "x",
         "domain": [
          0,
          1
         ],
         "title": {
          "text": "Count"
         }
        }
       }
      }
     },
     "metadata": {},
     "output_type": "display_data"
    },
    {
     "data": {
      "application/vnd.plotly.v1+json": {
       "config": {
        "plotlyServerURL": "https://plot.ly"
       },
       "data": [
        {
         "hovertemplate": "City=%{x}<br>Count=%{y}<extra></extra>",
         "legendgroup": "",
         "marker": {
          "color": "#636efa",
          "pattern": {
           "shape": ""
          }
         },
         "name": "",
         "orientation": "v",
         "showlegend": false,
         "textposition": "auto",
         "type": "bar",
         "x": [
          "Los Angeles-Long Beach-Anaheim",
          "New York-Newark-Jersey City",
          "Phoenix-Mesa-Scottsdale",
          "Dallas-Fort Worth-Arlington",
          "St. Louis",
          "Charlotte-Concord-Gastonia",
          "Chicago-Naperville-Elgin",
          "Boston-Cambridge-Newton",
          "Philadelphia-Camden-Wilmington",
          "Miami-Fort Lauderdale-West Palm Beach",
          "Washington-Arlington-Alexandria",
          "Atlanta-Sandy Springs-Roswell",
          "Houston-The Woodlands-Sugar Land",
          "New Haven-Milford",
          "San Diego-Carlsbad",
          "Las Vegas-Henderson-Paradise",
          "Greenville-Anderson-Mauldin",
          "Bridgeport-Stamford-Norwalk",
          "Columbus",
          "Flint",
          "Portland-Vancouver-Hillsboro",
          "Jacksonville",
          "Jackson",
          "Spokane-Spokane Valley",
          "Pittsburgh",
          "Truckee-Grass Valley",
          "Virginia Beach-Norfolk-Newport News",
          "San Francisco-Oakland-Hayward",
          "Sacramento--Roseville--Arden-Arcade",
          "Buffalo-Cheektowaga-Niagara Falls",
          "San Antonio-New Braunfels",
          "Tallahassee",
          "Providence-Warwick",
          "Baltimore-Columbia-Towson",
          "Seattle-Tacoma-Bellevue",
          "Hartford-West Hartford-East Hartford",
          "London",
          "Tampa-St. Petersburg-Clearwater",
          "Detroit-Warren-Dearborn",
          "Denver-Aurora-Lakewood",
          "Cincinnati",
          "Minneapolis-St. Paul-Bloomington",
          "Kansas City",
          "Indianapolis-Carmel-Anderson",
          "Syracuse",
          "Fairbanks",
          "Price",
          "Louisville/Jefferson County",
          "Memphis",
          "Oxnard-Thousand Oaks-Ventura",
          "Kingsport-Bristol-Bristol",
          "Vineland-Bridgeton",
          "Corpus Christi",
          "Montgomery",
          "Raleigh",
          "Birmingham-Hoover",
          "Myrtle Beach-Conway-North Myrtle Beach",
          "Greensboro-High Point",
          "Wilson",
          "Ionia",
          "Cookeville",
          "Roanoke",
          "Colorado Springs",
          "Salinas",
          "Orlando-Kissimmee-Sanford",
          "Hagerstown-Martinsburg",
          "Logan",
          "Sterling",
          "North Wilkesboro",
          "Cleveland-Elyria",
          "Albany",
          "Little Rock-North Little Rock-Conway",
          "Monroe",
          "Santa Maria-Santa Barbara",
          "Scranton--Wilkes-Barre--Hazleton",
          "Oklahoma City",
          "Albany-Schenectady-Troy",
          "Muncie",
          "Pontiac",
          "Dubuque",
          "Napa",
          "Danville",
          "Manchester-Nashua",
          "Austin-Round Rock",
          "Deltona-Daytona Beach-Ormond Beach",
          "Bakersfield",
          "New Philadelphia-Dover",
          "Stockton-Lodi",
          "Troy",
          "Kankakee",
          "Dayton",
          "Winston-Salem",
          "Morgantown",
          "Laurel",
          "Lexington-Fayette",
          "Alexandria",
          "Selma",
          "Anchorage",
          "Billings",
          "Riverside-San Bernardino-Ontario",
          "Atlantic City-Hammonton",
          "Omaha-Council Bluffs",
          "Allentown-Bethlehem-Easton",
          "Quincy",
          "McAllen-Edinburg-Mission",
          "Boulder",
          "Gainesville",
          "Bozeman",
          "Port St. Lucie",
          "Milwaukee-Waukesha-West Allis",
          "Concord",
          "Duluth",
          "San Jose-Sunnyvale-Santa Clara"
         ],
         "xaxis": "x",
         "y": {
          "bdata": "EA8HBwYGBgUFBQQEBAMDAwICAgICAgICAgICAgICAgICAgICAgICAgICAgICAQEBAQEBAQEBAQEBAQEBAQEBAQEBAQEBAQEBAQEBAQEBAQEBAQEBAQEBAQEBAQEBAQEBAQEBAQEBAQEBAQEBAQEBAQE=",
          "dtype": "i1"
         },
         "yaxis": "y"
        }
       ],
       "layout": {
        "barmode": "relative",
        "legend": {
         "tracegroupgap": 0
        },
        "template": {
         "data": {
          "bar": [
           {
            "error_x": {
             "color": "#2a3f5f"
            },
            "error_y": {
             "color": "#2a3f5f"
            },
            "marker": {
             "line": {
              "color": "#E5ECF6",
              "width": 0.5
             },
             "pattern": {
              "fillmode": "overlay",
              "size": 10,
              "solidity": 0.2
             }
            },
            "type": "bar"
           }
          ],
          "barpolar": [
           {
            "marker": {
             "line": {
              "color": "#E5ECF6",
              "width": 0.5
             },
             "pattern": {
              "fillmode": "overlay",
              "size": 10,
              "solidity": 0.2
             }
            },
            "type": "barpolar"
           }
          ],
          "carpet": [
           {
            "aaxis": {
             "endlinecolor": "#2a3f5f",
             "gridcolor": "white",
             "linecolor": "white",
             "minorgridcolor": "white",
             "startlinecolor": "#2a3f5f"
            },
            "baxis": {
             "endlinecolor": "#2a3f5f",
             "gridcolor": "white",
             "linecolor": "white",
             "minorgridcolor": "white",
             "startlinecolor": "#2a3f5f"
            },
            "type": "carpet"
           }
          ],
          "choropleth": [
           {
            "colorbar": {
             "outlinewidth": 0,
             "ticks": ""
            },
            "type": "choropleth"
           }
          ],
          "contour": [
           {
            "colorbar": {
             "outlinewidth": 0,
             "ticks": ""
            },
            "colorscale": [
             [
              0,
              "#0d0887"
             ],
             [
              0.1111111111111111,
              "#46039f"
             ],
             [
              0.2222222222222222,
              "#7201a8"
             ],
             [
              0.3333333333333333,
              "#9c179e"
             ],
             [
              0.4444444444444444,
              "#bd3786"
             ],
             [
              0.5555555555555556,
              "#d8576b"
             ],
             [
              0.6666666666666666,
              "#ed7953"
             ],
             [
              0.7777777777777778,
              "#fb9f3a"
             ],
             [
              0.8888888888888888,
              "#fdca26"
             ],
             [
              1,
              "#f0f921"
             ]
            ],
            "type": "contour"
           }
          ],
          "contourcarpet": [
           {
            "colorbar": {
             "outlinewidth": 0,
             "ticks": ""
            },
            "type": "contourcarpet"
           }
          ],
          "heatmap": [
           {
            "colorbar": {
             "outlinewidth": 0,
             "ticks": ""
            },
            "colorscale": [
             [
              0,
              "#0d0887"
             ],
             [
              0.1111111111111111,
              "#46039f"
             ],
             [
              0.2222222222222222,
              "#7201a8"
             ],
             [
              0.3333333333333333,
              "#9c179e"
             ],
             [
              0.4444444444444444,
              "#bd3786"
             ],
             [
              0.5555555555555556,
              "#d8576b"
             ],
             [
              0.6666666666666666,
              "#ed7953"
             ],
             [
              0.7777777777777778,
              "#fb9f3a"
             ],
             [
              0.8888888888888888,
              "#fdca26"
             ],
             [
              1,
              "#f0f921"
             ]
            ],
            "type": "heatmap"
           }
          ],
          "histogram": [
           {
            "marker": {
             "pattern": {
              "fillmode": "overlay",
              "size": 10,
              "solidity": 0.2
             }
            },
            "type": "histogram"
           }
          ],
          "histogram2d": [
           {
            "colorbar": {
             "outlinewidth": 0,
             "ticks": ""
            },
            "colorscale": [
             [
              0,
              "#0d0887"
             ],
             [
              0.1111111111111111,
              "#46039f"
             ],
             [
              0.2222222222222222,
              "#7201a8"
             ],
             [
              0.3333333333333333,
              "#9c179e"
             ],
             [
              0.4444444444444444,
              "#bd3786"
             ],
             [
              0.5555555555555556,
              "#d8576b"
             ],
             [
              0.6666666666666666,
              "#ed7953"
             ],
             [
              0.7777777777777778,
              "#fb9f3a"
             ],
             [
              0.8888888888888888,
              "#fdca26"
             ],
             [
              1,
              "#f0f921"
             ]
            ],
            "type": "histogram2d"
           }
          ],
          "histogram2dcontour": [
           {
            "colorbar": {
             "outlinewidth": 0,
             "ticks": ""
            },
            "colorscale": [
             [
              0,
              "#0d0887"
             ],
             [
              0.1111111111111111,
              "#46039f"
             ],
             [
              0.2222222222222222,
              "#7201a8"
             ],
             [
              0.3333333333333333,
              "#9c179e"
             ],
             [
              0.4444444444444444,
              "#bd3786"
             ],
             [
              0.5555555555555556,
              "#d8576b"
             ],
             [
              0.6666666666666666,
              "#ed7953"
             ],
             [
              0.7777777777777778,
              "#fb9f3a"
             ],
             [
              0.8888888888888888,
              "#fdca26"
             ],
             [
              1,
              "#f0f921"
             ]
            ],
            "type": "histogram2dcontour"
           }
          ],
          "mesh3d": [
           {
            "colorbar": {
             "outlinewidth": 0,
             "ticks": ""
            },
            "type": "mesh3d"
           }
          ],
          "parcoords": [
           {
            "line": {
             "colorbar": {
              "outlinewidth": 0,
              "ticks": ""
             }
            },
            "type": "parcoords"
           }
          ],
          "pie": [
           {
            "automargin": true,
            "type": "pie"
           }
          ],
          "scatter": [
           {
            "fillpattern": {
             "fillmode": "overlay",
             "size": 10,
             "solidity": 0.2
            },
            "type": "scatter"
           }
          ],
          "scatter3d": [
           {
            "line": {
             "colorbar": {
              "outlinewidth": 0,
              "ticks": ""
             }
            },
            "marker": {
             "colorbar": {
              "outlinewidth": 0,
              "ticks": ""
             }
            },
            "type": "scatter3d"
           }
          ],
          "scattercarpet": [
           {
            "marker": {
             "colorbar": {
              "outlinewidth": 0,
              "ticks": ""
             }
            },
            "type": "scattercarpet"
           }
          ],
          "scattergeo": [
           {
            "marker": {
             "colorbar": {
              "outlinewidth": 0,
              "ticks": ""
             }
            },
            "type": "scattergeo"
           }
          ],
          "scattergl": [
           {
            "marker": {
             "colorbar": {
              "outlinewidth": 0,
              "ticks": ""
             }
            },
            "type": "scattergl"
           }
          ],
          "scattermap": [
           {
            "marker": {
             "colorbar": {
              "outlinewidth": 0,
              "ticks": ""
             }
            },
            "type": "scattermap"
           }
          ],
          "scattermapbox": [
           {
            "marker": {
             "colorbar": {
              "outlinewidth": 0,
              "ticks": ""
             }
            },
            "type": "scattermapbox"
           }
          ],
          "scatterpolar": [
           {
            "marker": {
             "colorbar": {
              "outlinewidth": 0,
              "ticks": ""
             }
            },
            "type": "scatterpolar"
           }
          ],
          "scatterpolargl": [
           {
            "marker": {
             "colorbar": {
              "outlinewidth": 0,
              "ticks": ""
             }
            },
            "type": "scatterpolargl"
           }
          ],
          "scatterternary": [
           {
            "marker": {
             "colorbar": {
              "outlinewidth": 0,
              "ticks": ""
             }
            },
            "type": "scatterternary"
           }
          ],
          "surface": [
           {
            "colorbar": {
             "outlinewidth": 0,
             "ticks": ""
            },
            "colorscale": [
             [
              0,
              "#0d0887"
             ],
             [
              0.1111111111111111,
              "#46039f"
             ],
             [
              0.2222222222222222,
              "#7201a8"
             ],
             [
              0.3333333333333333,
              "#9c179e"
             ],
             [
              0.4444444444444444,
              "#bd3786"
             ],
             [
              0.5555555555555556,
              "#d8576b"
             ],
             [
              0.6666666666666666,
              "#ed7953"
             ],
             [
              0.7777777777777778,
              "#fb9f3a"
             ],
             [
              0.8888888888888888,
              "#fdca26"
             ],
             [
              1,
              "#f0f921"
             ]
            ],
            "type": "surface"
           }
          ],
          "table": [
           {
            "cells": {
             "fill": {
              "color": "#EBF0F8"
             },
             "line": {
              "color": "white"
             }
            },
            "header": {
             "fill": {
              "color": "#C8D4E3"
             },
             "line": {
              "color": "white"
             }
            },
            "type": "table"
           }
          ]
         },
         "layout": {
          "annotationdefaults": {
           "arrowcolor": "#2a3f5f",
           "arrowhead": 0,
           "arrowwidth": 1
          },
          "autotypenumbers": "strict",
          "coloraxis": {
           "colorbar": {
            "outlinewidth": 0,
            "ticks": ""
           }
          },
          "colorscale": {
           "diverging": [
            [
             0,
             "#8e0152"
            ],
            [
             0.1,
             "#c51b7d"
            ],
            [
             0.2,
             "#de77ae"
            ],
            [
             0.3,
             "#f1b6da"
            ],
            [
             0.4,
             "#fde0ef"
            ],
            [
             0.5,
             "#f7f7f7"
            ],
            [
             0.6,
             "#e6f5d0"
            ],
            [
             0.7,
             "#b8e186"
            ],
            [
             0.8,
             "#7fbc41"
            ],
            [
             0.9,
             "#4d9221"
            ],
            [
             1,
             "#276419"
            ]
           ],
           "sequential": [
            [
             0,
             "#0d0887"
            ],
            [
             0.1111111111111111,
             "#46039f"
            ],
            [
             0.2222222222222222,
             "#7201a8"
            ],
            [
             0.3333333333333333,
             "#9c179e"
            ],
            [
             0.4444444444444444,
             "#bd3786"
            ],
            [
             0.5555555555555556,
             "#d8576b"
            ],
            [
             0.6666666666666666,
             "#ed7953"
            ],
            [
             0.7777777777777778,
             "#fb9f3a"
            ],
            [
             0.8888888888888888,
             "#fdca26"
            ],
            [
             1,
             "#f0f921"
            ]
           ],
           "sequentialminus": [
            [
             0,
             "#0d0887"
            ],
            [
             0.1111111111111111,
             "#46039f"
            ],
            [
             0.2222222222222222,
             "#7201a8"
            ],
            [
             0.3333333333333333,
             "#9c179e"
            ],
            [
             0.4444444444444444,
             "#bd3786"
            ],
            [
             0.5555555555555556,
             "#d8576b"
            ],
            [
             0.6666666666666666,
             "#ed7953"
            ],
            [
             0.7777777777777778,
             "#fb9f3a"
            ],
            [
             0.8888888888888888,
             "#fdca26"
            ],
            [
             1,
             "#f0f921"
            ]
           ]
          },
          "colorway": [
           "#636efa",
           "#EF553B",
           "#00cc96",
           "#ab63fa",
           "#FFA15A",
           "#19d3f3",
           "#FF6692",
           "#B6E880",
           "#FF97FF",
           "#FECB52"
          ],
          "font": {
           "color": "#2a3f5f"
          },
          "geo": {
           "bgcolor": "white",
           "lakecolor": "white",
           "landcolor": "#E5ECF6",
           "showlakes": true,
           "showland": true,
           "subunitcolor": "white"
          },
          "hoverlabel": {
           "align": "left"
          },
          "hovermode": "closest",
          "mapbox": {
           "style": "light"
          },
          "paper_bgcolor": "white",
          "plot_bgcolor": "#E5ECF6",
          "polar": {
           "angularaxis": {
            "gridcolor": "white",
            "linecolor": "white",
            "ticks": ""
           },
           "bgcolor": "#E5ECF6",
           "radialaxis": {
            "gridcolor": "white",
            "linecolor": "white",
            "ticks": ""
           }
          },
          "scene": {
           "xaxis": {
            "backgroundcolor": "#E5ECF6",
            "gridcolor": "white",
            "gridwidth": 2,
            "linecolor": "white",
            "showbackground": true,
            "ticks": "",
            "zerolinecolor": "white"
           },
           "yaxis": {
            "backgroundcolor": "#E5ECF6",
            "gridcolor": "white",
            "gridwidth": 2,
            "linecolor": "white",
            "showbackground": true,
            "ticks": "",
            "zerolinecolor": "white"
           },
           "zaxis": {
            "backgroundcolor": "#E5ECF6",
            "gridcolor": "white",
            "gridwidth": 2,
            "linecolor": "white",
            "showbackground": true,
            "ticks": "",
            "zerolinecolor": "white"
           }
          },
          "shapedefaults": {
           "line": {
            "color": "#2a3f5f"
           }
          },
          "ternary": {
           "aaxis": {
            "gridcolor": "white",
            "linecolor": "white",
            "ticks": ""
           },
           "baxis": {
            "gridcolor": "white",
            "linecolor": "white",
            "ticks": ""
           },
           "bgcolor": "#E5ECF6",
           "caxis": {
            "gridcolor": "white",
            "linecolor": "white",
            "ticks": ""
           }
          },
          "title": {
           "x": 0.05
          },
          "xaxis": {
           "automargin": true,
           "gridcolor": "white",
           "linecolor": "white",
           "ticks": "",
           "title": {
            "standoff": 15
           },
           "zerolinecolor": "white",
           "zerolinewidth": 2
          },
          "yaxis": {
           "automargin": true,
           "gridcolor": "white",
           "linecolor": "white",
           "ticks": "",
           "title": {
            "standoff": 15
           },
           "zerolinecolor": "white",
           "zerolinewidth": 2
          }
         }
        },
        "title": {
         "text": "Users by City"
        },
        "xaxis": {
         "anchor": "y",
         "domain": [
          0,
          1
         ],
         "title": {
          "text": "City"
         }
        },
        "yaxis": {
         "anchor": "x",
         "domain": [
          0,
          1
         ],
         "title": {
          "text": "Count"
         }
        }
       }
      }
     },
     "metadata": {},
     "output_type": "display_data"
    },
    {
     "data": {
      "application/vnd.plotly.v1+json": {
       "config": {
        "plotlyServerURL": "https://plot.ly"
       },
       "data": [
        {
         "hovertemplate": "Gender=%{x}<br>Count=%{y}<extra></extra>",
         "legendgroup": "",
         "marker": {
          "color": "#636efa",
          "pattern": {
           "shape": ""
          }
         },
         "name": "",
         "orientation": "v",
         "showlegend": false,
         "textposition": "auto",
         "type": "bar",
         "x": [
          "M",
          "F"
         ],
         "xaxis": "x",
         "y": {
          "bdata": "eWg=",
          "dtype": "i1"
         },
         "yaxis": "y"
        }
       ],
       "layout": {
        "barmode": "relative",
        "legend": {
         "tracegroupgap": 0
        },
        "template": {
         "data": {
          "bar": [
           {
            "error_x": {
             "color": "#2a3f5f"
            },
            "error_y": {
             "color": "#2a3f5f"
            },
            "marker": {
             "line": {
              "color": "#E5ECF6",
              "width": 0.5
             },
             "pattern": {
              "fillmode": "overlay",
              "size": 10,
              "solidity": 0.2
             }
            },
            "type": "bar"
           }
          ],
          "barpolar": [
           {
            "marker": {
             "line": {
              "color": "#E5ECF6",
              "width": 0.5
             },
             "pattern": {
              "fillmode": "overlay",
              "size": 10,
              "solidity": 0.2
             }
            },
            "type": "barpolar"
           }
          ],
          "carpet": [
           {
            "aaxis": {
             "endlinecolor": "#2a3f5f",
             "gridcolor": "white",
             "linecolor": "white",
             "minorgridcolor": "white",
             "startlinecolor": "#2a3f5f"
            },
            "baxis": {
             "endlinecolor": "#2a3f5f",
             "gridcolor": "white",
             "linecolor": "white",
             "minorgridcolor": "white",
             "startlinecolor": "#2a3f5f"
            },
            "type": "carpet"
           }
          ],
          "choropleth": [
           {
            "colorbar": {
             "outlinewidth": 0,
             "ticks": ""
            },
            "type": "choropleth"
           }
          ],
          "contour": [
           {
            "colorbar": {
             "outlinewidth": 0,
             "ticks": ""
            },
            "colorscale": [
             [
              0,
              "#0d0887"
             ],
             [
              0.1111111111111111,
              "#46039f"
             ],
             [
              0.2222222222222222,
              "#7201a8"
             ],
             [
              0.3333333333333333,
              "#9c179e"
             ],
             [
              0.4444444444444444,
              "#bd3786"
             ],
             [
              0.5555555555555556,
              "#d8576b"
             ],
             [
              0.6666666666666666,
              "#ed7953"
             ],
             [
              0.7777777777777778,
              "#fb9f3a"
             ],
             [
              0.8888888888888888,
              "#fdca26"
             ],
             [
              1,
              "#f0f921"
             ]
            ],
            "type": "contour"
           }
          ],
          "contourcarpet": [
           {
            "colorbar": {
             "outlinewidth": 0,
             "ticks": ""
            },
            "type": "contourcarpet"
           }
          ],
          "heatmap": [
           {
            "colorbar": {
             "outlinewidth": 0,
             "ticks": ""
            },
            "colorscale": [
             [
              0,
              "#0d0887"
             ],
             [
              0.1111111111111111,
              "#46039f"
             ],
             [
              0.2222222222222222,
              "#7201a8"
             ],
             [
              0.3333333333333333,
              "#9c179e"
             ],
             [
              0.4444444444444444,
              "#bd3786"
             ],
             [
              0.5555555555555556,
              "#d8576b"
             ],
             [
              0.6666666666666666,
              "#ed7953"
             ],
             [
              0.7777777777777778,
              "#fb9f3a"
             ],
             [
              0.8888888888888888,
              "#fdca26"
             ],
             [
              1,
              "#f0f921"
             ]
            ],
            "type": "heatmap"
           }
          ],
          "histogram": [
           {
            "marker": {
             "pattern": {
              "fillmode": "overlay",
              "size": 10,
              "solidity": 0.2
             }
            },
            "type": "histogram"
           }
          ],
          "histogram2d": [
           {
            "colorbar": {
             "outlinewidth": 0,
             "ticks": ""
            },
            "colorscale": [
             [
              0,
              "#0d0887"
             ],
             [
              0.1111111111111111,
              "#46039f"
             ],
             [
              0.2222222222222222,
              "#7201a8"
             ],
             [
              0.3333333333333333,
              "#9c179e"
             ],
             [
              0.4444444444444444,
              "#bd3786"
             ],
             [
              0.5555555555555556,
              "#d8576b"
             ],
             [
              0.6666666666666666,
              "#ed7953"
             ],
             [
              0.7777777777777778,
              "#fb9f3a"
             ],
             [
              0.8888888888888888,
              "#fdca26"
             ],
             [
              1,
              "#f0f921"
             ]
            ],
            "type": "histogram2d"
           }
          ],
          "histogram2dcontour": [
           {
            "colorbar": {
             "outlinewidth": 0,
             "ticks": ""
            },
            "colorscale": [
             [
              0,
              "#0d0887"
             ],
             [
              0.1111111111111111,
              "#46039f"
             ],
             [
              0.2222222222222222,
              "#7201a8"
             ],
             [
              0.3333333333333333,
              "#9c179e"
             ],
             [
              0.4444444444444444,
              "#bd3786"
             ],
             [
              0.5555555555555556,
              "#d8576b"
             ],
             [
              0.6666666666666666,
              "#ed7953"
             ],
             [
              0.7777777777777778,
              "#fb9f3a"
             ],
             [
              0.8888888888888888,
              "#fdca26"
             ],
             [
              1,
              "#f0f921"
             ]
            ],
            "type": "histogram2dcontour"
           }
          ],
          "mesh3d": [
           {
            "colorbar": {
             "outlinewidth": 0,
             "ticks": ""
            },
            "type": "mesh3d"
           }
          ],
          "parcoords": [
           {
            "line": {
             "colorbar": {
              "outlinewidth": 0,
              "ticks": ""
             }
            },
            "type": "parcoords"
           }
          ],
          "pie": [
           {
            "automargin": true,
            "type": "pie"
           }
          ],
          "scatter": [
           {
            "fillpattern": {
             "fillmode": "overlay",
             "size": 10,
             "solidity": 0.2
            },
            "type": "scatter"
           }
          ],
          "scatter3d": [
           {
            "line": {
             "colorbar": {
              "outlinewidth": 0,
              "ticks": ""
             }
            },
            "marker": {
             "colorbar": {
              "outlinewidth": 0,
              "ticks": ""
             }
            },
            "type": "scatter3d"
           }
          ],
          "scattercarpet": [
           {
            "marker": {
             "colorbar": {
              "outlinewidth": 0,
              "ticks": ""
             }
            },
            "type": "scattercarpet"
           }
          ],
          "scattergeo": [
           {
            "marker": {
             "colorbar": {
              "outlinewidth": 0,
              "ticks": ""
             }
            },
            "type": "scattergeo"
           }
          ],
          "scattergl": [
           {
            "marker": {
             "colorbar": {
              "outlinewidth": 0,
              "ticks": ""
             }
            },
            "type": "scattergl"
           }
          ],
          "scattermap": [
           {
            "marker": {
             "colorbar": {
              "outlinewidth": 0,
              "ticks": ""
             }
            },
            "type": "scattermap"
           }
          ],
          "scattermapbox": [
           {
            "marker": {
             "colorbar": {
              "outlinewidth": 0,
              "ticks": ""
             }
            },
            "type": "scattermapbox"
           }
          ],
          "scatterpolar": [
           {
            "marker": {
             "colorbar": {
              "outlinewidth": 0,
              "ticks": ""
             }
            },
            "type": "scatterpolar"
           }
          ],
          "scatterpolargl": [
           {
            "marker": {
             "colorbar": {
              "outlinewidth": 0,
              "ticks": ""
             }
            },
            "type": "scatterpolargl"
           }
          ],
          "scatterternary": [
           {
            "marker": {
             "colorbar": {
              "outlinewidth": 0,
              "ticks": ""
             }
            },
            "type": "scatterternary"
           }
          ],
          "surface": [
           {
            "colorbar": {
             "outlinewidth": 0,
             "ticks": ""
            },
            "colorscale": [
             [
              0,
              "#0d0887"
             ],
             [
              0.1111111111111111,
              "#46039f"
             ],
             [
              0.2222222222222222,
              "#7201a8"
             ],
             [
              0.3333333333333333,
              "#9c179e"
             ],
             [
              0.4444444444444444,
              "#bd3786"
             ],
             [
              0.5555555555555556,
              "#d8576b"
             ],
             [
              0.6666666666666666,
              "#ed7953"
             ],
             [
              0.7777777777777778,
              "#fb9f3a"
             ],
             [
              0.8888888888888888,
              "#fdca26"
             ],
             [
              1,
              "#f0f921"
             ]
            ],
            "type": "surface"
           }
          ],
          "table": [
           {
            "cells": {
             "fill": {
              "color": "#EBF0F8"
             },
             "line": {
              "color": "white"
             }
            },
            "header": {
             "fill": {
              "color": "#C8D4E3"
             },
             "line": {
              "color": "white"
             }
            },
            "type": "table"
           }
          ]
         },
         "layout": {
          "annotationdefaults": {
           "arrowcolor": "#2a3f5f",
           "arrowhead": 0,
           "arrowwidth": 1
          },
          "autotypenumbers": "strict",
          "coloraxis": {
           "colorbar": {
            "outlinewidth": 0,
            "ticks": ""
           }
          },
          "colorscale": {
           "diverging": [
            [
             0,
             "#8e0152"
            ],
            [
             0.1,
             "#c51b7d"
            ],
            [
             0.2,
             "#de77ae"
            ],
            [
             0.3,
             "#f1b6da"
            ],
            [
             0.4,
             "#fde0ef"
            ],
            [
             0.5,
             "#f7f7f7"
            ],
            [
             0.6,
             "#e6f5d0"
            ],
            [
             0.7,
             "#b8e186"
            ],
            [
             0.8,
             "#7fbc41"
            ],
            [
             0.9,
             "#4d9221"
            ],
            [
             1,
             "#276419"
            ]
           ],
           "sequential": [
            [
             0,
             "#0d0887"
            ],
            [
             0.1111111111111111,
             "#46039f"
            ],
            [
             0.2222222222222222,
             "#7201a8"
            ],
            [
             0.3333333333333333,
             "#9c179e"
            ],
            [
             0.4444444444444444,
             "#bd3786"
            ],
            [
             0.5555555555555556,
             "#d8576b"
            ],
            [
             0.6666666666666666,
             "#ed7953"
            ],
            [
             0.7777777777777778,
             "#fb9f3a"
            ],
            [
             0.8888888888888888,
             "#fdca26"
            ],
            [
             1,
             "#f0f921"
            ]
           ],
           "sequentialminus": [
            [
             0,
             "#0d0887"
            ],
            [
             0.1111111111111111,
             "#46039f"
            ],
            [
             0.2222222222222222,
             "#7201a8"
            ],
            [
             0.3333333333333333,
             "#9c179e"
            ],
            [
             0.4444444444444444,
             "#bd3786"
            ],
            [
             0.5555555555555556,
             "#d8576b"
            ],
            [
             0.6666666666666666,
             "#ed7953"
            ],
            [
             0.7777777777777778,
             "#fb9f3a"
            ],
            [
             0.8888888888888888,
             "#fdca26"
            ],
            [
             1,
             "#f0f921"
            ]
           ]
          },
          "colorway": [
           "#636efa",
           "#EF553B",
           "#00cc96",
           "#ab63fa",
           "#FFA15A",
           "#19d3f3",
           "#FF6692",
           "#B6E880",
           "#FF97FF",
           "#FECB52"
          ],
          "font": {
           "color": "#2a3f5f"
          },
          "geo": {
           "bgcolor": "white",
           "lakecolor": "white",
           "landcolor": "#E5ECF6",
           "showlakes": true,
           "showland": true,
           "subunitcolor": "white"
          },
          "hoverlabel": {
           "align": "left"
          },
          "hovermode": "closest",
          "mapbox": {
           "style": "light"
          },
          "paper_bgcolor": "white",
          "plot_bgcolor": "#E5ECF6",
          "polar": {
           "angularaxis": {
            "gridcolor": "white",
            "linecolor": "white",
            "ticks": ""
           },
           "bgcolor": "#E5ECF6",
           "radialaxis": {
            "gridcolor": "white",
            "linecolor": "white",
            "ticks": ""
           }
          },
          "scene": {
           "xaxis": {
            "backgroundcolor": "#E5ECF6",
            "gridcolor": "white",
            "gridwidth": 2,
            "linecolor": "white",
            "showbackground": true,
            "ticks": "",
            "zerolinecolor": "white"
           },
           "yaxis": {
            "backgroundcolor": "#E5ECF6",
            "gridcolor": "white",
            "gridwidth": 2,
            "linecolor": "white",
            "showbackground": true,
            "ticks": "",
            "zerolinecolor": "white"
           },
           "zaxis": {
            "backgroundcolor": "#E5ECF6",
            "gridcolor": "white",
            "gridwidth": 2,
            "linecolor": "white",
            "showbackground": true,
            "ticks": "",
            "zerolinecolor": "white"
           }
          },
          "shapedefaults": {
           "line": {
            "color": "#2a3f5f"
           }
          },
          "ternary": {
           "aaxis": {
            "gridcolor": "white",
            "linecolor": "white",
            "ticks": ""
           },
           "baxis": {
            "gridcolor": "white",
            "linecolor": "white",
            "ticks": ""
           },
           "bgcolor": "#E5ECF6",
           "caxis": {
            "gridcolor": "white",
            "linecolor": "white",
            "ticks": ""
           }
          },
          "title": {
           "x": 0.05
          },
          "xaxis": {
           "automargin": true,
           "gridcolor": "white",
           "linecolor": "white",
           "ticks": "",
           "title": {
            "standoff": 15
           },
           "zerolinecolor": "white",
           "zerolinewidth": 2
          },
          "yaxis": {
           "automargin": true,
           "gridcolor": "white",
           "linecolor": "white",
           "ticks": "",
           "title": {
            "standoff": 15
           },
           "zerolinecolor": "white",
           "zerolinewidth": 2
          }
         }
        },
        "title": {
         "text": "Users by Gender"
        },
        "xaxis": {
         "anchor": "y",
         "domain": [
          0,
          1
         ],
         "title": {
          "text": "Gender"
         }
        },
        "yaxis": {
         "anchor": "x",
         "domain": [
          0,
          1
         ],
         "title": {
          "text": "Count"
         }
        }
       }
      }
     },
     "metadata": {},
     "output_type": "display_data"
    },
    {
     "data": {
      "application/vnd.plotly.v1+json": {
       "config": {
        "plotlyServerURL": "https://plot.ly"
       },
       "data": [
        {
         "hovertemplate": "Level=%{x}<br>Count=%{y}<extra></extra>",
         "legendgroup": "",
         "marker": {
          "color": "#636efa",
          "pattern": {
           "shape": ""
          }
         },
         "name": "",
         "orientation": "v",
         "showlegend": false,
         "textposition": "auto",
         "type": "bar",
         "x": [
          "paid",
          "free"
         ],
         "xaxis": "x",
         "y": {
          "bdata": "kQBQAA==",
          "dtype": "i2"
         },
         "yaxis": "y"
        }
       ],
       "layout": {
        "barmode": "relative",
        "legend": {
         "tracegroupgap": 0
        },
        "template": {
         "data": {
          "bar": [
           {
            "error_x": {
             "color": "#2a3f5f"
            },
            "error_y": {
             "color": "#2a3f5f"
            },
            "marker": {
             "line": {
              "color": "#E5ECF6",
              "width": 0.5
             },
             "pattern": {
              "fillmode": "overlay",
              "size": 10,
              "solidity": 0.2
             }
            },
            "type": "bar"
           }
          ],
          "barpolar": [
           {
            "marker": {
             "line": {
              "color": "#E5ECF6",
              "width": 0.5
             },
             "pattern": {
              "fillmode": "overlay",
              "size": 10,
              "solidity": 0.2
             }
            },
            "type": "barpolar"
           }
          ],
          "carpet": [
           {
            "aaxis": {
             "endlinecolor": "#2a3f5f",
             "gridcolor": "white",
             "linecolor": "white",
             "minorgridcolor": "white",
             "startlinecolor": "#2a3f5f"
            },
            "baxis": {
             "endlinecolor": "#2a3f5f",
             "gridcolor": "white",
             "linecolor": "white",
             "minorgridcolor": "white",
             "startlinecolor": "#2a3f5f"
            },
            "type": "carpet"
           }
          ],
          "choropleth": [
           {
            "colorbar": {
             "outlinewidth": 0,
             "ticks": ""
            },
            "type": "choropleth"
           }
          ],
          "contour": [
           {
            "colorbar": {
             "outlinewidth": 0,
             "ticks": ""
            },
            "colorscale": [
             [
              0,
              "#0d0887"
             ],
             [
              0.1111111111111111,
              "#46039f"
             ],
             [
              0.2222222222222222,
              "#7201a8"
             ],
             [
              0.3333333333333333,
              "#9c179e"
             ],
             [
              0.4444444444444444,
              "#bd3786"
             ],
             [
              0.5555555555555556,
              "#d8576b"
             ],
             [
              0.6666666666666666,
              "#ed7953"
             ],
             [
              0.7777777777777778,
              "#fb9f3a"
             ],
             [
              0.8888888888888888,
              "#fdca26"
             ],
             [
              1,
              "#f0f921"
             ]
            ],
            "type": "contour"
           }
          ],
          "contourcarpet": [
           {
            "colorbar": {
             "outlinewidth": 0,
             "ticks": ""
            },
            "type": "contourcarpet"
           }
          ],
          "heatmap": [
           {
            "colorbar": {
             "outlinewidth": 0,
             "ticks": ""
            },
            "colorscale": [
             [
              0,
              "#0d0887"
             ],
             [
              0.1111111111111111,
              "#46039f"
             ],
             [
              0.2222222222222222,
              "#7201a8"
             ],
             [
              0.3333333333333333,
              "#9c179e"
             ],
             [
              0.4444444444444444,
              "#bd3786"
             ],
             [
              0.5555555555555556,
              "#d8576b"
             ],
             [
              0.6666666666666666,
              "#ed7953"
             ],
             [
              0.7777777777777778,
              "#fb9f3a"
             ],
             [
              0.8888888888888888,
              "#fdca26"
             ],
             [
              1,
              "#f0f921"
             ]
            ],
            "type": "heatmap"
           }
          ],
          "histogram": [
           {
            "marker": {
             "pattern": {
              "fillmode": "overlay",
              "size": 10,
              "solidity": 0.2
             }
            },
            "type": "histogram"
           }
          ],
          "histogram2d": [
           {
            "colorbar": {
             "outlinewidth": 0,
             "ticks": ""
            },
            "colorscale": [
             [
              0,
              "#0d0887"
             ],
             [
              0.1111111111111111,
              "#46039f"
             ],
             [
              0.2222222222222222,
              "#7201a8"
             ],
             [
              0.3333333333333333,
              "#9c179e"
             ],
             [
              0.4444444444444444,
              "#bd3786"
             ],
             [
              0.5555555555555556,
              "#d8576b"
             ],
             [
              0.6666666666666666,
              "#ed7953"
             ],
             [
              0.7777777777777778,
              "#fb9f3a"
             ],
             [
              0.8888888888888888,
              "#fdca26"
             ],
             [
              1,
              "#f0f921"
             ]
            ],
            "type": "histogram2d"
           }
          ],
          "histogram2dcontour": [
           {
            "colorbar": {
             "outlinewidth": 0,
             "ticks": ""
            },
            "colorscale": [
             [
              0,
              "#0d0887"
             ],
             [
              0.1111111111111111,
              "#46039f"
             ],
             [
              0.2222222222222222,
              "#7201a8"
             ],
             [
              0.3333333333333333,
              "#9c179e"
             ],
             [
              0.4444444444444444,
              "#bd3786"
             ],
             [
              0.5555555555555556,
              "#d8576b"
             ],
             [
              0.6666666666666666,
              "#ed7953"
             ],
             [
              0.7777777777777778,
              "#fb9f3a"
             ],
             [
              0.8888888888888888,
              "#fdca26"
             ],
             [
              1,
              "#f0f921"
             ]
            ],
            "type": "histogram2dcontour"
           }
          ],
          "mesh3d": [
           {
            "colorbar": {
             "outlinewidth": 0,
             "ticks": ""
            },
            "type": "mesh3d"
           }
          ],
          "parcoords": [
           {
            "line": {
             "colorbar": {
              "outlinewidth": 0,
              "ticks": ""
             }
            },
            "type": "parcoords"
           }
          ],
          "pie": [
           {
            "automargin": true,
            "type": "pie"
           }
          ],
          "scatter": [
           {
            "fillpattern": {
             "fillmode": "overlay",
             "size": 10,
             "solidity": 0.2
            },
            "type": "scatter"
           }
          ],
          "scatter3d": [
           {
            "line": {
             "colorbar": {
              "outlinewidth": 0,
              "ticks": ""
             }
            },
            "marker": {
             "colorbar": {
              "outlinewidth": 0,
              "ticks": ""
             }
            },
            "type": "scatter3d"
           }
          ],
          "scattercarpet": [
           {
            "marker": {
             "colorbar": {
              "outlinewidth": 0,
              "ticks": ""
             }
            },
            "type": "scattercarpet"
           }
          ],
          "scattergeo": [
           {
            "marker": {
             "colorbar": {
              "outlinewidth": 0,
              "ticks": ""
             }
            },
            "type": "scattergeo"
           }
          ],
          "scattergl": [
           {
            "marker": {
             "colorbar": {
              "outlinewidth": 0,
              "ticks": ""
             }
            },
            "type": "scattergl"
           }
          ],
          "scattermap": [
           {
            "marker": {
             "colorbar": {
              "outlinewidth": 0,
              "ticks": ""
             }
            },
            "type": "scattermap"
           }
          ],
          "scattermapbox": [
           {
            "marker": {
             "colorbar": {
              "outlinewidth": 0,
              "ticks": ""
             }
            },
            "type": "scattermapbox"
           }
          ],
          "scatterpolar": [
           {
            "marker": {
             "colorbar": {
              "outlinewidth": 0,
              "ticks": ""
             }
            },
            "type": "scatterpolar"
           }
          ],
          "scatterpolargl": [
           {
            "marker": {
             "colorbar": {
              "outlinewidth": 0,
              "ticks": ""
             }
            },
            "type": "scatterpolargl"
           }
          ],
          "scatterternary": [
           {
            "marker": {
             "colorbar": {
              "outlinewidth": 0,
              "ticks": ""
             }
            },
            "type": "scatterternary"
           }
          ],
          "surface": [
           {
            "colorbar": {
             "outlinewidth": 0,
             "ticks": ""
            },
            "colorscale": [
             [
              0,
              "#0d0887"
             ],
             [
              0.1111111111111111,
              "#46039f"
             ],
             [
              0.2222222222222222,
              "#7201a8"
             ],
             [
              0.3333333333333333,
              "#9c179e"
             ],
             [
              0.4444444444444444,
              "#bd3786"
             ],
             [
              0.5555555555555556,
              "#d8576b"
             ],
             [
              0.6666666666666666,
              "#ed7953"
             ],
             [
              0.7777777777777778,
              "#fb9f3a"
             ],
             [
              0.8888888888888888,
              "#fdca26"
             ],
             [
              1,
              "#f0f921"
             ]
            ],
            "type": "surface"
           }
          ],
          "table": [
           {
            "cells": {
             "fill": {
              "color": "#EBF0F8"
             },
             "line": {
              "color": "white"
             }
            },
            "header": {
             "fill": {
              "color": "#C8D4E3"
             },
             "line": {
              "color": "white"
             }
            },
            "type": "table"
           }
          ]
         },
         "layout": {
          "annotationdefaults": {
           "arrowcolor": "#2a3f5f",
           "arrowhead": 0,
           "arrowwidth": 1
          },
          "autotypenumbers": "strict",
          "coloraxis": {
           "colorbar": {
            "outlinewidth": 0,
            "ticks": ""
           }
          },
          "colorscale": {
           "diverging": [
            [
             0,
             "#8e0152"
            ],
            [
             0.1,
             "#c51b7d"
            ],
            [
             0.2,
             "#de77ae"
            ],
            [
             0.3,
             "#f1b6da"
            ],
            [
             0.4,
             "#fde0ef"
            ],
            [
             0.5,
             "#f7f7f7"
            ],
            [
             0.6,
             "#e6f5d0"
            ],
            [
             0.7,
             "#b8e186"
            ],
            [
             0.8,
             "#7fbc41"
            ],
            [
             0.9,
             "#4d9221"
            ],
            [
             1,
             "#276419"
            ]
           ],
           "sequential": [
            [
             0,
             "#0d0887"
            ],
            [
             0.1111111111111111,
             "#46039f"
            ],
            [
             0.2222222222222222,
             "#7201a8"
            ],
            [
             0.3333333333333333,
             "#9c179e"
            ],
            [
             0.4444444444444444,
             "#bd3786"
            ],
            [
             0.5555555555555556,
             "#d8576b"
            ],
            [
             0.6666666666666666,
             "#ed7953"
            ],
            [
             0.7777777777777778,
             "#fb9f3a"
            ],
            [
             0.8888888888888888,
             "#fdca26"
            ],
            [
             1,
             "#f0f921"
            ]
           ],
           "sequentialminus": [
            [
             0,
             "#0d0887"
            ],
            [
             0.1111111111111111,
             "#46039f"
            ],
            [
             0.2222222222222222,
             "#7201a8"
            ],
            [
             0.3333333333333333,
             "#9c179e"
            ],
            [
             0.4444444444444444,
             "#bd3786"
            ],
            [
             0.5555555555555556,
             "#d8576b"
            ],
            [
             0.6666666666666666,
             "#ed7953"
            ],
            [
             0.7777777777777778,
             "#fb9f3a"
            ],
            [
             0.8888888888888888,
             "#fdca26"
            ],
            [
             1,
             "#f0f921"
            ]
           ]
          },
          "colorway": [
           "#636efa",
           "#EF553B",
           "#00cc96",
           "#ab63fa",
           "#FFA15A",
           "#19d3f3",
           "#FF6692",
           "#B6E880",
           "#FF97FF",
           "#FECB52"
          ],
          "font": {
           "color": "#2a3f5f"
          },
          "geo": {
           "bgcolor": "white",
           "lakecolor": "white",
           "landcolor": "#E5ECF6",
           "showlakes": true,
           "showland": true,
           "subunitcolor": "white"
          },
          "hoverlabel": {
           "align": "left"
          },
          "hovermode": "closest",
          "mapbox": {
           "style": "light"
          },
          "paper_bgcolor": "white",
          "plot_bgcolor": "#E5ECF6",
          "polar": {
           "angularaxis": {
            "gridcolor": "white",
            "linecolor": "white",
            "ticks": ""
           },
           "bgcolor": "#E5ECF6",
           "radialaxis": {
            "gridcolor": "white",
            "linecolor": "white",
            "ticks": ""
           }
          },
          "scene": {
           "xaxis": {
            "backgroundcolor": "#E5ECF6",
            "gridcolor": "white",
            "gridwidth": 2,
            "linecolor": "white",
            "showbackground": true,
            "ticks": "",
            "zerolinecolor": "white"
           },
           "yaxis": {
            "backgroundcolor": "#E5ECF6",
            "gridcolor": "white",
            "gridwidth": 2,
            "linecolor": "white",
            "showbackground": true,
            "ticks": "",
            "zerolinecolor": "white"
           },
           "zaxis": {
            "backgroundcolor": "#E5ECF6",
            "gridcolor": "white",
            "gridwidth": 2,
            "linecolor": "white",
            "showbackground": true,
            "ticks": "",
            "zerolinecolor": "white"
           }
          },
          "shapedefaults": {
           "line": {
            "color": "#2a3f5f"
           }
          },
          "ternary": {
           "aaxis": {
            "gridcolor": "white",
            "linecolor": "white",
            "ticks": ""
           },
           "baxis": {
            "gridcolor": "white",
            "linecolor": "white",
            "ticks": ""
           },
           "bgcolor": "#E5ECF6",
           "caxis": {
            "gridcolor": "white",
            "linecolor": "white",
            "ticks": ""
           }
          },
          "title": {
           "x": 0.05
          },
          "xaxis": {
           "automargin": true,
           "gridcolor": "white",
           "linecolor": "white",
           "ticks": "",
           "title": {
            "standoff": 15
           },
           "zerolinecolor": "white",
           "zerolinewidth": 2
          },
          "yaxis": {
           "automargin": true,
           "gridcolor": "white",
           "linecolor": "white",
           "ticks": "",
           "title": {
            "standoff": 15
           },
           "zerolinecolor": "white",
           "zerolinewidth": 2
          }
         }
        },
        "title": {
         "text": "Users by level"
        },
        "xaxis": {
         "anchor": "y",
         "domain": [
          0,
          1
         ],
         "title": {
          "text": "Level"
         }
        },
        "yaxis": {
         "anchor": "x",
         "domain": [
          0,
          1
         ],
         "title": {
          "text": "Count"
         }
        }
       }
      }
     },
     "metadata": {},
     "output_type": "display_data"
    }
   ],
   "source": [
    "# Create user-level dataset\n",
    "user_data_last_snapshot = dataframe_filled.groupby('userId').last()\n",
    "\n",
    "print(f\"User demographics summary:\")\n",
    "print(f\"- Total unique users: {len(user_data_last_snapshot):,}\")\n",
    "print(f\"- Gender distribution:\\n{user_data_last_snapshot['gender'].value_counts()}\")\n",
    "print(f\"- Level distribution:\\n{user_data_last_snapshot['level'].value_counts()}\")\n",
    "\n",
    "\n",
    "# Geographic distribution\n",
    "plot_counts(user_data_last_snapshot, 'state', 'Users by State')\n",
    "plot_counts(user_data_last_snapshot, 'city', 'Users by City') \n",
    "plot_counts(user_data_last_snapshot, 'gender', 'Users by Gender')\n",
    "plot_counts(user_data_last_snapshot, 'level', 'Users by level')"
   ]
  },
  {
   "cell_type": "markdown",
   "metadata": {},
   "source": [
    "### Music Analysis"
   ]
  },
  {
   "cell_type": "code",
   "execution_count": 61,
   "metadata": {},
   "outputs": [
    {
     "name": "stdout",
     "output_type": "stream",
     "text": [
      "- Total unique songs Listened to: 58,480\n",
      "- Total unique artists Listened to: 17,655\n"
     ]
    },
    {
     "data": {
      "application/vnd.plotly.v1+json": {
       "config": {
        "plotlyServerURL": "https://plot.ly"
       },
       "data": [
        {
         "hovertemplate": "Song=%{x}<br>Count=%{y}<extra></extra>",
         "legendgroup": "",
         "marker": {
          "color": "#636efa",
          "pattern": {
           "shape": ""
          }
         },
         "name": "",
         "orientation": "v",
         "showlegend": false,
         "textposition": "auto",
         "type": "bar",
         "x": [
          "You're The One",
          "Undo",
          "Revelry",
          "Sehr kosmisch",
          "Horn Concerto No. 4 in E flat K495: II. Romance (Andante cantabile)",
          "Dog Days Are Over (Radio Edit)",
          "Secrets",
          "Use Somebody",
          "Canada",
          "Invalid"
         ],
         "xaxis": "x",
         "y": {
          "bdata": "gQQCBFYD2AKBAj4C0gHLAbMBqAE=",
          "dtype": "i2"
         },
         "yaxis": "y"
        }
       ],
       "layout": {
        "barmode": "relative",
        "legend": {
         "tracegroupgap": 0
        },
        "template": {
         "data": {
          "bar": [
           {
            "error_x": {
             "color": "#2a3f5f"
            },
            "error_y": {
             "color": "#2a3f5f"
            },
            "marker": {
             "line": {
              "color": "#E5ECF6",
              "width": 0.5
             },
             "pattern": {
              "fillmode": "overlay",
              "size": 10,
              "solidity": 0.2
             }
            },
            "type": "bar"
           }
          ],
          "barpolar": [
           {
            "marker": {
             "line": {
              "color": "#E5ECF6",
              "width": 0.5
             },
             "pattern": {
              "fillmode": "overlay",
              "size": 10,
              "solidity": 0.2
             }
            },
            "type": "barpolar"
           }
          ],
          "carpet": [
           {
            "aaxis": {
             "endlinecolor": "#2a3f5f",
             "gridcolor": "white",
             "linecolor": "white",
             "minorgridcolor": "white",
             "startlinecolor": "#2a3f5f"
            },
            "baxis": {
             "endlinecolor": "#2a3f5f",
             "gridcolor": "white",
             "linecolor": "white",
             "minorgridcolor": "white",
             "startlinecolor": "#2a3f5f"
            },
            "type": "carpet"
           }
          ],
          "choropleth": [
           {
            "colorbar": {
             "outlinewidth": 0,
             "ticks": ""
            },
            "type": "choropleth"
           }
          ],
          "contour": [
           {
            "colorbar": {
             "outlinewidth": 0,
             "ticks": ""
            },
            "colorscale": [
             [
              0,
              "#0d0887"
             ],
             [
              0.1111111111111111,
              "#46039f"
             ],
             [
              0.2222222222222222,
              "#7201a8"
             ],
             [
              0.3333333333333333,
              "#9c179e"
             ],
             [
              0.4444444444444444,
              "#bd3786"
             ],
             [
              0.5555555555555556,
              "#d8576b"
             ],
             [
              0.6666666666666666,
              "#ed7953"
             ],
             [
              0.7777777777777778,
              "#fb9f3a"
             ],
             [
              0.8888888888888888,
              "#fdca26"
             ],
             [
              1,
              "#f0f921"
             ]
            ],
            "type": "contour"
           }
          ],
          "contourcarpet": [
           {
            "colorbar": {
             "outlinewidth": 0,
             "ticks": ""
            },
            "type": "contourcarpet"
           }
          ],
          "heatmap": [
           {
            "colorbar": {
             "outlinewidth": 0,
             "ticks": ""
            },
            "colorscale": [
             [
              0,
              "#0d0887"
             ],
             [
              0.1111111111111111,
              "#46039f"
             ],
             [
              0.2222222222222222,
              "#7201a8"
             ],
             [
              0.3333333333333333,
              "#9c179e"
             ],
             [
              0.4444444444444444,
              "#bd3786"
             ],
             [
              0.5555555555555556,
              "#d8576b"
             ],
             [
              0.6666666666666666,
              "#ed7953"
             ],
             [
              0.7777777777777778,
              "#fb9f3a"
             ],
             [
              0.8888888888888888,
              "#fdca26"
             ],
             [
              1,
              "#f0f921"
             ]
            ],
            "type": "heatmap"
           }
          ],
          "histogram": [
           {
            "marker": {
             "pattern": {
              "fillmode": "overlay",
              "size": 10,
              "solidity": 0.2
             }
            },
            "type": "histogram"
           }
          ],
          "histogram2d": [
           {
            "colorbar": {
             "outlinewidth": 0,
             "ticks": ""
            },
            "colorscale": [
             [
              0,
              "#0d0887"
             ],
             [
              0.1111111111111111,
              "#46039f"
             ],
             [
              0.2222222222222222,
              "#7201a8"
             ],
             [
              0.3333333333333333,
              "#9c179e"
             ],
             [
              0.4444444444444444,
              "#bd3786"
             ],
             [
              0.5555555555555556,
              "#d8576b"
             ],
             [
              0.6666666666666666,
              "#ed7953"
             ],
             [
              0.7777777777777778,
              "#fb9f3a"
             ],
             [
              0.8888888888888888,
              "#fdca26"
             ],
             [
              1,
              "#f0f921"
             ]
            ],
            "type": "histogram2d"
           }
          ],
          "histogram2dcontour": [
           {
            "colorbar": {
             "outlinewidth": 0,
             "ticks": ""
            },
            "colorscale": [
             [
              0,
              "#0d0887"
             ],
             [
              0.1111111111111111,
              "#46039f"
             ],
             [
              0.2222222222222222,
              "#7201a8"
             ],
             [
              0.3333333333333333,
              "#9c179e"
             ],
             [
              0.4444444444444444,
              "#bd3786"
             ],
             [
              0.5555555555555556,
              "#d8576b"
             ],
             [
              0.6666666666666666,
              "#ed7953"
             ],
             [
              0.7777777777777778,
              "#fb9f3a"
             ],
             [
              0.8888888888888888,
              "#fdca26"
             ],
             [
              1,
              "#f0f921"
             ]
            ],
            "type": "histogram2dcontour"
           }
          ],
          "mesh3d": [
           {
            "colorbar": {
             "outlinewidth": 0,
             "ticks": ""
            },
            "type": "mesh3d"
           }
          ],
          "parcoords": [
           {
            "line": {
             "colorbar": {
              "outlinewidth": 0,
              "ticks": ""
             }
            },
            "type": "parcoords"
           }
          ],
          "pie": [
           {
            "automargin": true,
            "type": "pie"
           }
          ],
          "scatter": [
           {
            "fillpattern": {
             "fillmode": "overlay",
             "size": 10,
             "solidity": 0.2
            },
            "type": "scatter"
           }
          ],
          "scatter3d": [
           {
            "line": {
             "colorbar": {
              "outlinewidth": 0,
              "ticks": ""
             }
            },
            "marker": {
             "colorbar": {
              "outlinewidth": 0,
              "ticks": ""
             }
            },
            "type": "scatter3d"
           }
          ],
          "scattercarpet": [
           {
            "marker": {
             "colorbar": {
              "outlinewidth": 0,
              "ticks": ""
             }
            },
            "type": "scattercarpet"
           }
          ],
          "scattergeo": [
           {
            "marker": {
             "colorbar": {
              "outlinewidth": 0,
              "ticks": ""
             }
            },
            "type": "scattergeo"
           }
          ],
          "scattergl": [
           {
            "marker": {
             "colorbar": {
              "outlinewidth": 0,
              "ticks": ""
             }
            },
            "type": "scattergl"
           }
          ],
          "scattermap": [
           {
            "marker": {
             "colorbar": {
              "outlinewidth": 0,
              "ticks": ""
             }
            },
            "type": "scattermap"
           }
          ],
          "scattermapbox": [
           {
            "marker": {
             "colorbar": {
              "outlinewidth": 0,
              "ticks": ""
             }
            },
            "type": "scattermapbox"
           }
          ],
          "scatterpolar": [
           {
            "marker": {
             "colorbar": {
              "outlinewidth": 0,
              "ticks": ""
             }
            },
            "type": "scatterpolar"
           }
          ],
          "scatterpolargl": [
           {
            "marker": {
             "colorbar": {
              "outlinewidth": 0,
              "ticks": ""
             }
            },
            "type": "scatterpolargl"
           }
          ],
          "scatterternary": [
           {
            "marker": {
             "colorbar": {
              "outlinewidth": 0,
              "ticks": ""
             }
            },
            "type": "scatterternary"
           }
          ],
          "surface": [
           {
            "colorbar": {
             "outlinewidth": 0,
             "ticks": ""
            },
            "colorscale": [
             [
              0,
              "#0d0887"
             ],
             [
              0.1111111111111111,
              "#46039f"
             ],
             [
              0.2222222222222222,
              "#7201a8"
             ],
             [
              0.3333333333333333,
              "#9c179e"
             ],
             [
              0.4444444444444444,
              "#bd3786"
             ],
             [
              0.5555555555555556,
              "#d8576b"
             ],
             [
              0.6666666666666666,
              "#ed7953"
             ],
             [
              0.7777777777777778,
              "#fb9f3a"
             ],
             [
              0.8888888888888888,
              "#fdca26"
             ],
             [
              1,
              "#f0f921"
             ]
            ],
            "type": "surface"
           }
          ],
          "table": [
           {
            "cells": {
             "fill": {
              "color": "#EBF0F8"
             },
             "line": {
              "color": "white"
             }
            },
            "header": {
             "fill": {
              "color": "#C8D4E3"
             },
             "line": {
              "color": "white"
             }
            },
            "type": "table"
           }
          ]
         },
         "layout": {
          "annotationdefaults": {
           "arrowcolor": "#2a3f5f",
           "arrowhead": 0,
           "arrowwidth": 1
          },
          "autotypenumbers": "strict",
          "coloraxis": {
           "colorbar": {
            "outlinewidth": 0,
            "ticks": ""
           }
          },
          "colorscale": {
           "diverging": [
            [
             0,
             "#8e0152"
            ],
            [
             0.1,
             "#c51b7d"
            ],
            [
             0.2,
             "#de77ae"
            ],
            [
             0.3,
             "#f1b6da"
            ],
            [
             0.4,
             "#fde0ef"
            ],
            [
             0.5,
             "#f7f7f7"
            ],
            [
             0.6,
             "#e6f5d0"
            ],
            [
             0.7,
             "#b8e186"
            ],
            [
             0.8,
             "#7fbc41"
            ],
            [
             0.9,
             "#4d9221"
            ],
            [
             1,
             "#276419"
            ]
           ],
           "sequential": [
            [
             0,
             "#0d0887"
            ],
            [
             0.1111111111111111,
             "#46039f"
            ],
            [
             0.2222222222222222,
             "#7201a8"
            ],
            [
             0.3333333333333333,
             "#9c179e"
            ],
            [
             0.4444444444444444,
             "#bd3786"
            ],
            [
             0.5555555555555556,
             "#d8576b"
            ],
            [
             0.6666666666666666,
             "#ed7953"
            ],
            [
             0.7777777777777778,
             "#fb9f3a"
            ],
            [
             0.8888888888888888,
             "#fdca26"
            ],
            [
             1,
             "#f0f921"
            ]
           ],
           "sequentialminus": [
            [
             0,
             "#0d0887"
            ],
            [
             0.1111111111111111,
             "#46039f"
            ],
            [
             0.2222222222222222,
             "#7201a8"
            ],
            [
             0.3333333333333333,
             "#9c179e"
            ],
            [
             0.4444444444444444,
             "#bd3786"
            ],
            [
             0.5555555555555556,
             "#d8576b"
            ],
            [
             0.6666666666666666,
             "#ed7953"
            ],
            [
             0.7777777777777778,
             "#fb9f3a"
            ],
            [
             0.8888888888888888,
             "#fdca26"
            ],
            [
             1,
             "#f0f921"
            ]
           ]
          },
          "colorway": [
           "#636efa",
           "#EF553B",
           "#00cc96",
           "#ab63fa",
           "#FFA15A",
           "#19d3f3",
           "#FF6692",
           "#B6E880",
           "#FF97FF",
           "#FECB52"
          ],
          "font": {
           "color": "#2a3f5f"
          },
          "geo": {
           "bgcolor": "white",
           "lakecolor": "white",
           "landcolor": "#E5ECF6",
           "showlakes": true,
           "showland": true,
           "subunitcolor": "white"
          },
          "hoverlabel": {
           "align": "left"
          },
          "hovermode": "closest",
          "mapbox": {
           "style": "light"
          },
          "paper_bgcolor": "white",
          "plot_bgcolor": "#E5ECF6",
          "polar": {
           "angularaxis": {
            "gridcolor": "white",
            "linecolor": "white",
            "ticks": ""
           },
           "bgcolor": "#E5ECF6",
           "radialaxis": {
            "gridcolor": "white",
            "linecolor": "white",
            "ticks": ""
           }
          },
          "scene": {
           "xaxis": {
            "backgroundcolor": "#E5ECF6",
            "gridcolor": "white",
            "gridwidth": 2,
            "linecolor": "white",
            "showbackground": true,
            "ticks": "",
            "zerolinecolor": "white"
           },
           "yaxis": {
            "backgroundcolor": "#E5ECF6",
            "gridcolor": "white",
            "gridwidth": 2,
            "linecolor": "white",
            "showbackground": true,
            "ticks": "",
            "zerolinecolor": "white"
           },
           "zaxis": {
            "backgroundcolor": "#E5ECF6",
            "gridcolor": "white",
            "gridwidth": 2,
            "linecolor": "white",
            "showbackground": true,
            "ticks": "",
            "zerolinecolor": "white"
           }
          },
          "shapedefaults": {
           "line": {
            "color": "#2a3f5f"
           }
          },
          "ternary": {
           "aaxis": {
            "gridcolor": "white",
            "linecolor": "white",
            "ticks": ""
           },
           "baxis": {
            "gridcolor": "white",
            "linecolor": "white",
            "ticks": ""
           },
           "bgcolor": "#E5ECF6",
           "caxis": {
            "gridcolor": "white",
            "linecolor": "white",
            "ticks": ""
           }
          },
          "title": {
           "x": 0.05
          },
          "xaxis": {
           "automargin": true,
           "gridcolor": "white",
           "linecolor": "white",
           "ticks": "",
           "title": {
            "standoff": 15
           },
           "zerolinecolor": "white",
           "zerolinewidth": 2
          },
          "yaxis": {
           "automargin": true,
           "gridcolor": "white",
           "linecolor": "white",
           "ticks": "",
           "title": {
            "standoff": 15
           },
           "zerolinecolor": "white",
           "zerolinewidth": 2
          }
         }
        },
        "title": {
         "text": "Top 10 songs listened most"
        },
        "xaxis": {
         "anchor": "y",
         "domain": [
          0,
          1
         ],
         "title": {
          "text": "Song"
         }
        },
        "yaxis": {
         "anchor": "x",
         "domain": [
          0,
          1
         ],
         "title": {
          "text": "Count"
         }
        }
       }
      }
     },
     "metadata": {},
     "output_type": "display_data"
    },
    {
     "data": {
      "application/vnd.plotly.v1+json": {
       "config": {
        "plotlyServerURL": "https://plot.ly"
       },
       "data": [
        {
         "hovertemplate": "Artist=%{x}<br>Count=%{y}<extra></extra>",
         "legendgroup": "",
         "marker": {
          "color": "#636efa",
          "pattern": {
           "shape": ""
          }
         },
         "name": "",
         "orientation": "v",
         "showlegend": false,
         "textposition": "auto",
         "type": "bar",
         "x": [
          "Kings Of Leon",
          "Dwight Yoakam",
          "BjÃÂ¶rk",
          "Harmonia",
          "Barry Tuckwell/Academy of St Martin-in-the-Fields/Sir Neville Marriner",
          "Florence + The Machine",
          "OneRepublic",
          "Five Iron Frenzy",
          "Tub Ring",
          "The Black Keys",
          "SWV",
          "Devin Townsend",
          "Daedelus Featuring Om'mas Keith",
          "Nagisa Ni Te",
          "The Zutons",
          "The Vogues",
          "Alain Caron",
          "Buddy Holly",
          "Blood_ Sweat & Tears"
         ],
         "xaxis": "x",
         "y": {
          "bdata": "IQViBAIE2AKBAj4CzwGyAagBGgABAAEAAQABAAEAAQABAAEAAQA=",
          "dtype": "i2"
         },
         "yaxis": "y"
        }
       ],
       "layout": {
        "barmode": "relative",
        "legend": {
         "tracegroupgap": 0
        },
        "template": {
         "data": {
          "bar": [
           {
            "error_x": {
             "color": "#2a3f5f"
            },
            "error_y": {
             "color": "#2a3f5f"
            },
            "marker": {
             "line": {
              "color": "#E5ECF6",
              "width": 0.5
             },
             "pattern": {
              "fillmode": "overlay",
              "size": 10,
              "solidity": 0.2
             }
            },
            "type": "bar"
           }
          ],
          "barpolar": [
           {
            "marker": {
             "line": {
              "color": "#E5ECF6",
              "width": 0.5
             },
             "pattern": {
              "fillmode": "overlay",
              "size": 10,
              "solidity": 0.2
             }
            },
            "type": "barpolar"
           }
          ],
          "carpet": [
           {
            "aaxis": {
             "endlinecolor": "#2a3f5f",
             "gridcolor": "white",
             "linecolor": "white",
             "minorgridcolor": "white",
             "startlinecolor": "#2a3f5f"
            },
            "baxis": {
             "endlinecolor": "#2a3f5f",
             "gridcolor": "white",
             "linecolor": "white",
             "minorgridcolor": "white",
             "startlinecolor": "#2a3f5f"
            },
            "type": "carpet"
           }
          ],
          "choropleth": [
           {
            "colorbar": {
             "outlinewidth": 0,
             "ticks": ""
            },
            "type": "choropleth"
           }
          ],
          "contour": [
           {
            "colorbar": {
             "outlinewidth": 0,
             "ticks": ""
            },
            "colorscale": [
             [
              0,
              "#0d0887"
             ],
             [
              0.1111111111111111,
              "#46039f"
             ],
             [
              0.2222222222222222,
              "#7201a8"
             ],
             [
              0.3333333333333333,
              "#9c179e"
             ],
             [
              0.4444444444444444,
              "#bd3786"
             ],
             [
              0.5555555555555556,
              "#d8576b"
             ],
             [
              0.6666666666666666,
              "#ed7953"
             ],
             [
              0.7777777777777778,
              "#fb9f3a"
             ],
             [
              0.8888888888888888,
              "#fdca26"
             ],
             [
              1,
              "#f0f921"
             ]
            ],
            "type": "contour"
           }
          ],
          "contourcarpet": [
           {
            "colorbar": {
             "outlinewidth": 0,
             "ticks": ""
            },
            "type": "contourcarpet"
           }
          ],
          "heatmap": [
           {
            "colorbar": {
             "outlinewidth": 0,
             "ticks": ""
            },
            "colorscale": [
             [
              0,
              "#0d0887"
             ],
             [
              0.1111111111111111,
              "#46039f"
             ],
             [
              0.2222222222222222,
              "#7201a8"
             ],
             [
              0.3333333333333333,
              "#9c179e"
             ],
             [
              0.4444444444444444,
              "#bd3786"
             ],
             [
              0.5555555555555556,
              "#d8576b"
             ],
             [
              0.6666666666666666,
              "#ed7953"
             ],
             [
              0.7777777777777778,
              "#fb9f3a"
             ],
             [
              0.8888888888888888,
              "#fdca26"
             ],
             [
              1,
              "#f0f921"
             ]
            ],
            "type": "heatmap"
           }
          ],
          "histogram": [
           {
            "marker": {
             "pattern": {
              "fillmode": "overlay",
              "size": 10,
              "solidity": 0.2
             }
            },
            "type": "histogram"
           }
          ],
          "histogram2d": [
           {
            "colorbar": {
             "outlinewidth": 0,
             "ticks": ""
            },
            "colorscale": [
             [
              0,
              "#0d0887"
             ],
             [
              0.1111111111111111,
              "#46039f"
             ],
             [
              0.2222222222222222,
              "#7201a8"
             ],
             [
              0.3333333333333333,
              "#9c179e"
             ],
             [
              0.4444444444444444,
              "#bd3786"
             ],
             [
              0.5555555555555556,
              "#d8576b"
             ],
             [
              0.6666666666666666,
              "#ed7953"
             ],
             [
              0.7777777777777778,
              "#fb9f3a"
             ],
             [
              0.8888888888888888,
              "#fdca26"
             ],
             [
              1,
              "#f0f921"
             ]
            ],
            "type": "histogram2d"
           }
          ],
          "histogram2dcontour": [
           {
            "colorbar": {
             "outlinewidth": 0,
             "ticks": ""
            },
            "colorscale": [
             [
              0,
              "#0d0887"
             ],
             [
              0.1111111111111111,
              "#46039f"
             ],
             [
              0.2222222222222222,
              "#7201a8"
             ],
             [
              0.3333333333333333,
              "#9c179e"
             ],
             [
              0.4444444444444444,
              "#bd3786"
             ],
             [
              0.5555555555555556,
              "#d8576b"
             ],
             [
              0.6666666666666666,
              "#ed7953"
             ],
             [
              0.7777777777777778,
              "#fb9f3a"
             ],
             [
              0.8888888888888888,
              "#fdca26"
             ],
             [
              1,
              "#f0f921"
             ]
            ],
            "type": "histogram2dcontour"
           }
          ],
          "mesh3d": [
           {
            "colorbar": {
             "outlinewidth": 0,
             "ticks": ""
            },
            "type": "mesh3d"
           }
          ],
          "parcoords": [
           {
            "line": {
             "colorbar": {
              "outlinewidth": 0,
              "ticks": ""
             }
            },
            "type": "parcoords"
           }
          ],
          "pie": [
           {
            "automargin": true,
            "type": "pie"
           }
          ],
          "scatter": [
           {
            "fillpattern": {
             "fillmode": "overlay",
             "size": 10,
             "solidity": 0.2
            },
            "type": "scatter"
           }
          ],
          "scatter3d": [
           {
            "line": {
             "colorbar": {
              "outlinewidth": 0,
              "ticks": ""
             }
            },
            "marker": {
             "colorbar": {
              "outlinewidth": 0,
              "ticks": ""
             }
            },
            "type": "scatter3d"
           }
          ],
          "scattercarpet": [
           {
            "marker": {
             "colorbar": {
              "outlinewidth": 0,
              "ticks": ""
             }
            },
            "type": "scattercarpet"
           }
          ],
          "scattergeo": [
           {
            "marker": {
             "colorbar": {
              "outlinewidth": 0,
              "ticks": ""
             }
            },
            "type": "scattergeo"
           }
          ],
          "scattergl": [
           {
            "marker": {
             "colorbar": {
              "outlinewidth": 0,
              "ticks": ""
             }
            },
            "type": "scattergl"
           }
          ],
          "scattermap": [
           {
            "marker": {
             "colorbar": {
              "outlinewidth": 0,
              "ticks": ""
             }
            },
            "type": "scattermap"
           }
          ],
          "scattermapbox": [
           {
            "marker": {
             "colorbar": {
              "outlinewidth": 0,
              "ticks": ""
             }
            },
            "type": "scattermapbox"
           }
          ],
          "scatterpolar": [
           {
            "marker": {
             "colorbar": {
              "outlinewidth": 0,
              "ticks": ""
             }
            },
            "type": "scatterpolar"
           }
          ],
          "scatterpolargl": [
           {
            "marker": {
             "colorbar": {
              "outlinewidth": 0,
              "ticks": ""
             }
            },
            "type": "scatterpolargl"
           }
          ],
          "scatterternary": [
           {
            "marker": {
             "colorbar": {
              "outlinewidth": 0,
              "ticks": ""
             }
            },
            "type": "scatterternary"
           }
          ],
          "surface": [
           {
            "colorbar": {
             "outlinewidth": 0,
             "ticks": ""
            },
            "colorscale": [
             [
              0,
              "#0d0887"
             ],
             [
              0.1111111111111111,
              "#46039f"
             ],
             [
              0.2222222222222222,
              "#7201a8"
             ],
             [
              0.3333333333333333,
              "#9c179e"
             ],
             [
              0.4444444444444444,
              "#bd3786"
             ],
             [
              0.5555555555555556,
              "#d8576b"
             ],
             [
              0.6666666666666666,
              "#ed7953"
             ],
             [
              0.7777777777777778,
              "#fb9f3a"
             ],
             [
              0.8888888888888888,
              "#fdca26"
             ],
             [
              1,
              "#f0f921"
             ]
            ],
            "type": "surface"
           }
          ],
          "table": [
           {
            "cells": {
             "fill": {
              "color": "#EBF0F8"
             },
             "line": {
              "color": "white"
             }
            },
            "header": {
             "fill": {
              "color": "#C8D4E3"
             },
             "line": {
              "color": "white"
             }
            },
            "type": "table"
           }
          ]
         },
         "layout": {
          "annotationdefaults": {
           "arrowcolor": "#2a3f5f",
           "arrowhead": 0,
           "arrowwidth": 1
          },
          "autotypenumbers": "strict",
          "coloraxis": {
           "colorbar": {
            "outlinewidth": 0,
            "ticks": ""
           }
          },
          "colorscale": {
           "diverging": [
            [
             0,
             "#8e0152"
            ],
            [
             0.1,
             "#c51b7d"
            ],
            [
             0.2,
             "#de77ae"
            ],
            [
             0.3,
             "#f1b6da"
            ],
            [
             0.4,
             "#fde0ef"
            ],
            [
             0.5,
             "#f7f7f7"
            ],
            [
             0.6,
             "#e6f5d0"
            ],
            [
             0.7,
             "#b8e186"
            ],
            [
             0.8,
             "#7fbc41"
            ],
            [
             0.9,
             "#4d9221"
            ],
            [
             1,
             "#276419"
            ]
           ],
           "sequential": [
            [
             0,
             "#0d0887"
            ],
            [
             0.1111111111111111,
             "#46039f"
            ],
            [
             0.2222222222222222,
             "#7201a8"
            ],
            [
             0.3333333333333333,
             "#9c179e"
            ],
            [
             0.4444444444444444,
             "#bd3786"
            ],
            [
             0.5555555555555556,
             "#d8576b"
            ],
            [
             0.6666666666666666,
             "#ed7953"
            ],
            [
             0.7777777777777778,
             "#fb9f3a"
            ],
            [
             0.8888888888888888,
             "#fdca26"
            ],
            [
             1,
             "#f0f921"
            ]
           ],
           "sequentialminus": [
            [
             0,
             "#0d0887"
            ],
            [
             0.1111111111111111,
             "#46039f"
            ],
            [
             0.2222222222222222,
             "#7201a8"
            ],
            [
             0.3333333333333333,
             "#9c179e"
            ],
            [
             0.4444444444444444,
             "#bd3786"
            ],
            [
             0.5555555555555556,
             "#d8576b"
            ],
            [
             0.6666666666666666,
             "#ed7953"
            ],
            [
             0.7777777777777778,
             "#fb9f3a"
            ],
            [
             0.8888888888888888,
             "#fdca26"
            ],
            [
             1,
             "#f0f921"
            ]
           ]
          },
          "colorway": [
           "#636efa",
           "#EF553B",
           "#00cc96",
           "#ab63fa",
           "#FFA15A",
           "#19d3f3",
           "#FF6692",
           "#B6E880",
           "#FF97FF",
           "#FECB52"
          ],
          "font": {
           "color": "#2a3f5f"
          },
          "geo": {
           "bgcolor": "white",
           "lakecolor": "white",
           "landcolor": "#E5ECF6",
           "showlakes": true,
           "showland": true,
           "subunitcolor": "white"
          },
          "hoverlabel": {
           "align": "left"
          },
          "hovermode": "closest",
          "mapbox": {
           "style": "light"
          },
          "paper_bgcolor": "white",
          "plot_bgcolor": "#E5ECF6",
          "polar": {
           "angularaxis": {
            "gridcolor": "white",
            "linecolor": "white",
            "ticks": ""
           },
           "bgcolor": "#E5ECF6",
           "radialaxis": {
            "gridcolor": "white",
            "linecolor": "white",
            "ticks": ""
           }
          },
          "scene": {
           "xaxis": {
            "backgroundcolor": "#E5ECF6",
            "gridcolor": "white",
            "gridwidth": 2,
            "linecolor": "white",
            "showbackground": true,
            "ticks": "",
            "zerolinecolor": "white"
           },
           "yaxis": {
            "backgroundcolor": "#E5ECF6",
            "gridcolor": "white",
            "gridwidth": 2,
            "linecolor": "white",
            "showbackground": true,
            "ticks": "",
            "zerolinecolor": "white"
           },
           "zaxis": {
            "backgroundcolor": "#E5ECF6",
            "gridcolor": "white",
            "gridwidth": 2,
            "linecolor": "white",
            "showbackground": true,
            "ticks": "",
            "zerolinecolor": "white"
           }
          },
          "shapedefaults": {
           "line": {
            "color": "#2a3f5f"
           }
          },
          "ternary": {
           "aaxis": {
            "gridcolor": "white",
            "linecolor": "white",
            "ticks": ""
           },
           "baxis": {
            "gridcolor": "white",
            "linecolor": "white",
            "ticks": ""
           },
           "bgcolor": "#E5ECF6",
           "caxis": {
            "gridcolor": "white",
            "linecolor": "white",
            "ticks": ""
           }
          },
          "title": {
           "x": 0.05
          },
          "xaxis": {
           "automargin": true,
           "gridcolor": "white",
           "linecolor": "white",
           "ticks": "",
           "title": {
            "standoff": 15
           },
           "zerolinecolor": "white",
           "zerolinewidth": 2
          },
          "yaxis": {
           "automargin": true,
           "gridcolor": "white",
           "linecolor": "white",
           "ticks": "",
           "title": {
            "standoff": 15
           },
           "zerolinecolor": "white",
           "zerolinewidth": 2
          }
         }
        },
        "title": {
         "text": "Top 10 artists listened most"
        },
        "xaxis": {
         "anchor": "y",
         "domain": [
          0,
          1
         ],
         "title": {
          "text": "Artist"
         }
        },
        "yaxis": {
         "anchor": "x",
         "domain": [
          0,
          1
         ],
         "title": {
          "text": "Count"
         }
        }
       }
      }
     },
     "metadata": {},
     "output_type": "display_data"
    }
   ],
   "source": [
    "# Get top 10 songs and filter dataframe to only those songs\n",
    "top_10_songs = dataframe_filled['song'].value_counts().head(10).index\n",
    "top_10s_df = dataframe_filled[dataframe_filled['song'].isin(top_10_songs)]\n",
    "\n",
    "# Get top 10 songs and filter dataframe to only those songs\n",
    "top_10_artists = dataframe_filled['artist'].value_counts().head(10).index\n",
    "top_10a_df = dataframe_filled[dataframe_filled['artist'].isin(top_10_artists)]\n",
    "\n",
    "print(f\"- Total unique songs Listened to: {dataframe_filled['song'].nunique():,}\")\n",
    "print(f\"- Total unique artists Listened to: {dataframe_filled['artist'].nunique():,}\")\n",
    "\n",
    "\n",
    "plot_counts(top_10s_df, 'song', 'Top 10 songs listened most')\n",
    "plot_counts(top_10s_df, 'artist', 'Top 10 artists listened most')"
   ]
  },
  {
   "cell_type": "markdown",
   "metadata": {},
   "source": [
    "# Feature Engineering"
   ]
  },
  {
   "cell_type": "markdown",
   "metadata": {},
   "source": [
    "### Let's define churn"
   ]
  },
  {
   "cell_type": "markdown",
   "metadata": {},
   "source": [
    "### I noticed that Downgrading is not considered customer churn, as users continue using the app even after downgrading, regardless of it's importance to indicate churn event in the future\n",
    "### what can be observed is that Cancellation Confirmation page is the indicator of customer churn, as the user completely stops interacting with the platform after visiting this page"
   ]
  },
  {
   "cell_type": "code",
   "execution_count": 63,
   "metadata": {},
   "outputs": [
    {
     "data": {
      "text/plain": [
       "52"
      ]
     },
     "execution_count": 63,
     "metadata": {},
     "output_type": "execute_result"
    }
   ],
   "source": [
    "dataframe_filled.query(\"page == 'Cancellation Confirmation'\").shape[0]"
   ]
  },
  {
   "cell_type": "code",
   "execution_count": 234,
   "metadata": {},
   "outputs": [
    {
     "name": "stdout",
     "output_type": "stream",
     "text": [
      "=== CHURN ANALYSIS ===\n",
      "Total users: 225\n",
      "Total churned users: 52\n",
      "Churn rate: 23.1%\n"
     ]
    }
   ],
   "source": [
    "def define_churn_users(df, inactivity_days=30):\n",
    "    \"\"\"\n",
    "    Define churn as:\n",
    "    1. Explicit: Users who visited 'Cancellation Confirmation'\n",
    "    2. Implicit: Users inactive for X days from dataset end\n",
    "    \"\"\"\n",
    "    \n",
    "    # Explicit churn\n",
    "    explicit_churn = df.query(\"page == 'Cancellation Confirmation'\")['userId'].unique()\n",
    "    \n",
    "    # # Implicit churn - users with no activity in last X days\n",
    "    # max_date = df['ts'].max()\n",
    "    # cutoff_date = max_date - pd.Timedelta(days=inactivity_days)\n",
    "    \n",
    "    # # Get last activity per user\n",
    "    # last_activity = df.groupby('userId')['ts'].max()\n",
    "    # implicit_churn = last_activity[last_activity < cutoff_date].index.values\n",
    "    \n",
    "    # # Combine both types\n",
    "    all_churned = np.unique(np.concatenate([explicit_churn]))\n",
    "    \n",
    "    return {\n",
    "        # 'explicit_churn': explicit_churn,\n",
    "        # 'implicit_churn': implicit_churn, \n",
    "        'total_churn': explicit_churn\n",
    "    }\n",
    "\n",
    "# Apply the definition\n",
    "churn_analysis = define_churn_users(dataframe_filled, inactivity_days=30)\n",
    "\n",
    "print(\"=== CHURN ANALYSIS ===\")\n",
    "print(f\"Total users: {dataframe_filled['userId'].nunique():,}\")\n",
    "# print(f\"Explicit churn (Cancellation): {len(churn_analysis['explicit_churn']):,}\")\n",
    "# print(f\"Implicit churn (Inactive): {len(churn_analysis['implicit_churn']):,}\")\n",
    "print(f\"Total churned users: {len(churn_analysis['total_churn']):,}\")\n",
    "print(f\"Churn rate: {len(churn_analysis['total_churn']) / dataframe_filled['userId'].nunique():.1%}\")"
   ]
  },
  {
   "cell_type": "markdown",
   "metadata": {},
   "source": [
    "### Create the target variable \"is_churned\""
   ]
  },
  {
   "cell_type": "code",
   "execution_count": 235,
   "metadata": {},
   "outputs": [],
   "source": [
    "# Add churn labels to dataframe\n",
    "dataframe_filled['is_churned'] = dataframe_filled['userId'].isin(churn_analysis['total_churn'])"
   ]
  },
  {
   "cell_type": "markdown",
   "metadata": {},
   "source": [
    "# Feature Engineering"
   ]
  },
  {
   "cell_type": "markdown",
   "metadata": {},
   "source": [
    "## Activity Features"
   ]
  },
  {
   "cell_type": "markdown",
   "metadata": {},
   "source": [
    "### 1. total_events\n",
    "### 2. num_sessions\n",
    "### 3. total_interactions\n"
   ]
  },
  {
   "cell_type": "code",
   "execution_count": 273,
   "metadata": {},
   "outputs": [
    {
     "data": {
      "text/html": [
       "<div>\n",
       "<style scoped>\n",
       "    .dataframe tbody tr th:only-of-type {\n",
       "        vertical-align: middle;\n",
       "    }\n",
       "\n",
       "    .dataframe tbody tr th {\n",
       "        vertical-align: top;\n",
       "    }\n",
       "\n",
       "    .dataframe thead th {\n",
       "        text-align: right;\n",
       "    }\n",
       "</style>\n",
       "<table border=\"1\" class=\"dataframe\">\n",
       "  <thead>\n",
       "    <tr style=\"text-align: right;\">\n",
       "      <th></th>\n",
       "      <th>total_events</th>\n",
       "      <th>num_sessions</th>\n",
       "      <th>total_interactions</th>\n",
       "      <th>events_per_session</th>\n",
       "    </tr>\n",
       "    <tr>\n",
       "      <th>userId</th>\n",
       "      <th></th>\n",
       "      <th></th>\n",
       "      <th></th>\n",
       "      <th></th>\n",
       "    </tr>\n",
       "  </thead>\n",
       "  <tbody>\n",
       "    <tr>\n",
       "      <th>2</th>\n",
       "      <td>926</td>\n",
       "      <td>7</td>\n",
       "      <td>129117</td>\n",
       "      <td>132.285714</td>\n",
       "    </tr>\n",
       "    <tr>\n",
       "      <th>3</th>\n",
       "      <td>262</td>\n",
       "      <td>4</td>\n",
       "      <td>12274</td>\n",
       "      <td>65.500000</td>\n",
       "    </tr>\n",
       "    <tr>\n",
       "      <th>4</th>\n",
       "      <td>2504</td>\n",
       "      <td>22</td>\n",
       "      <td>380347</td>\n",
       "      <td>113.818182</td>\n",
       "    </tr>\n",
       "    <tr>\n",
       "      <th>5</th>\n",
       "      <td>229</td>\n",
       "      <td>6</td>\n",
       "      <td>6459</td>\n",
       "      <td>38.166667</td>\n",
       "    </tr>\n",
       "    <tr>\n",
       "      <th>6</th>\n",
       "      <td>3877</td>\n",
       "      <td>24</td>\n",
       "      <td>667436</td>\n",
       "      <td>161.541667</td>\n",
       "    </tr>\n",
       "  </tbody>\n",
       "</table>\n",
       "</div>"
      ],
      "text/plain": [
       "        total_events  num_sessions  total_interactions  events_per_session\n",
       "userId                                                                    \n",
       "2                926             7              129117          132.285714\n",
       "3                262             4               12274           65.500000\n",
       "4               2504            22              380347          113.818182\n",
       "5                229             6                6459           38.166667\n",
       "6               3877            24              667436          161.541667"
      ]
     },
     "execution_count": 273,
     "metadata": {},
     "output_type": "execute_result"
    }
   ],
   "source": [
    "# Calculate feature window (last 60 days) to handle, as recency matters more than old data, and most importantly,\n",
    "# It's suitable for Real-world deployment when the data is huge\n",
    "\n",
    "max_date = dataframe_filled['ts'].max()\n",
    "window_days = 60\n",
    "feature_start = max_date - pd.Timedelta(days=window_days)\n",
    "\n",
    "# Filter to feature window\n",
    "window_df = dataframe_filled\n",
    "\n",
    "# Basic activity counts per user\n",
    "user_activity = window_df.groupby('userId').agg({\n",
    "    'ts': 'count',                    # total_events\n",
    "    'sessionId': 'nunique',           # num_sessions  \n",
    "    'itemInSession': 'sum'            # total_interactions\n",
    "}).fillna(0)\n",
    "\n",
    "user_activity.columns = ['total_events', 'num_sessions', 'total_interactions']\n",
    "\n",
    "# Events per session\n",
    "user_activity['events_per_session'] = (\n",
    "    user_activity['total_events'] / user_activity['num_sessions']\n",
    ").fillna(0)\n",
    "\n",
    "user_activity.head()"
   ]
  },
  {
   "cell_type": "markdown",
   "metadata": {},
   "source": [
    "## Listening Behaviour Features"
   ]
  },
  {
   "cell_type": "markdown",
   "metadata": {},
   "source": [
    "### 1. songs_played\n",
    "### 2. total_listening_time\n",
    "### 3. avg_song_length\n",
    "### 4. unique_artists\n",
    "### 5. unique_songs\n",
    "### 6. registration_date\n",
    "### 7. days_since_registration\n",
    "### 8. avg_daily_listening_time\n",
    "### 9. avg_daily_songs\n",
    "### 10. artist_diversity\n"
   ]
  },
  {
   "cell_type": "code",
   "execution_count": 274,
   "metadata": {},
   "outputs": [
    {
     "name": "stdout",
     "output_type": "stream",
     "text": [
      "\n",
      "Listening stats:\n",
      "- Average songs played: 1013.8\n",
      "- Average listening time (min): 4209.3\n",
      "- Average daily listening time (min): 48.7\n",
      "- Average daily songs: 11.7\n"
     ]
    },
    {
     "data": {
      "text/html": [
       "<div>\n",
       "<style scoped>\n",
       "    .dataframe tbody tr th:only-of-type {\n",
       "        vertical-align: middle;\n",
       "    }\n",
       "\n",
       "    .dataframe tbody tr th {\n",
       "        vertical-align: top;\n",
       "    }\n",
       "\n",
       "    .dataframe thead th {\n",
       "        text-align: right;\n",
       "    }\n",
       "</style>\n",
       "<table border=\"1\" class=\"dataframe\">\n",
       "  <thead>\n",
       "    <tr style=\"text-align: right;\">\n",
       "      <th></th>\n",
       "      <th>songs_played</th>\n",
       "      <th>total_listening_time</th>\n",
       "      <th>avg_song_length</th>\n",
       "      <th>unique_artists</th>\n",
       "      <th>unique_songs</th>\n",
       "      <th>registration_date</th>\n",
       "      <th>days_since_registration</th>\n",
       "      <th>avg_daily_listening_time</th>\n",
       "      <th>avg_daily_songs</th>\n",
       "      <th>artist_diversity</th>\n",
       "    </tr>\n",
       "    <tr>\n",
       "      <th>userId</th>\n",
       "      <th></th>\n",
       "      <th></th>\n",
       "      <th></th>\n",
       "      <th></th>\n",
       "      <th></th>\n",
       "      <th></th>\n",
       "      <th></th>\n",
       "      <th></th>\n",
       "      <th></th>\n",
       "      <th></th>\n",
       "    </tr>\n",
       "  </thead>\n",
       "  <tbody>\n",
       "    <tr>\n",
       "      <th>2</th>\n",
       "      <td>755</td>\n",
       "      <td>188687.38342</td>\n",
       "      <td>249.917064</td>\n",
       "      <td>587</td>\n",
       "      <td>713</td>\n",
       "      <td>2018-09-13 00:49:30</td>\n",
       "      <td>81.015116</td>\n",
       "      <td>2329.039238</td>\n",
       "      <td>9.319249</td>\n",
       "      <td>0.777483</td>\n",
       "    </tr>\n",
       "    <tr>\n",
       "      <th>3</th>\n",
       "      <td>214</td>\n",
       "      <td>54424.74544</td>\n",
       "      <td>254.321240</td>\n",
       "      <td>197</td>\n",
       "      <td>211</td>\n",
       "      <td>2018-08-10 07:29:51</td>\n",
       "      <td>114.737095</td>\n",
       "      <td>474.343067</td>\n",
       "      <td>1.865134</td>\n",
       "      <td>0.920561</td>\n",
       "    </tr>\n",
       "    <tr>\n",
       "      <th>4</th>\n",
       "      <td>2048</td>\n",
       "      <td>506140.04138</td>\n",
       "      <td>247.138692</td>\n",
       "      <td>1342</td>\n",
       "      <td>1799</td>\n",
       "      <td>2018-09-28 21:23:43</td>\n",
       "      <td>65.158021</td>\n",
       "      <td>7767.885441</td>\n",
       "      <td>31.431280</td>\n",
       "      <td>0.655273</td>\n",
       "    </tr>\n",
       "    <tr>\n",
       "      <th>5</th>\n",
       "      <td>161</td>\n",
       "      <td>39525.04698</td>\n",
       "      <td>245.497186</td>\n",
       "      <td>154</td>\n",
       "      <td>159</td>\n",
       "      <td>2018-09-20 15:08:56</td>\n",
       "      <td>73.418287</td>\n",
       "      <td>538.354252</td>\n",
       "      <td>2.192914</td>\n",
       "      <td>0.956522</td>\n",
       "    </tr>\n",
       "    <tr>\n",
       "      <th>6</th>\n",
       "      <td>3159</td>\n",
       "      <td>787236.52359</td>\n",
       "      <td>249.204344</td>\n",
       "      <td>1868</td>\n",
       "      <td>2678</td>\n",
       "      <td>2018-03-18 13:44:35</td>\n",
       "      <td>259.476863</td>\n",
       "      <td>3033.937258</td>\n",
       "      <td>12.174496</td>\n",
       "      <td>0.591326</td>\n",
       "    </tr>\n",
       "  </tbody>\n",
       "</table>\n",
       "</div>"
      ],
      "text/plain": [
       "        songs_played  total_listening_time  avg_song_length  unique_artists  \\\n",
       "userId                                                                        \n",
       "2                755          188687.38342       249.917064             587   \n",
       "3                214           54424.74544       254.321240             197   \n",
       "4               2048          506140.04138       247.138692            1342   \n",
       "5                161           39525.04698       245.497186             154   \n",
       "6               3159          787236.52359       249.204344            1868   \n",
       "\n",
       "        unique_songs   registration_date  days_since_registration  \\\n",
       "userId                                                              \n",
       "2                713 2018-09-13 00:49:30                81.015116   \n",
       "3                211 2018-08-10 07:29:51               114.737095   \n",
       "4               1799 2018-09-28 21:23:43                65.158021   \n",
       "5                159 2018-09-20 15:08:56                73.418287   \n",
       "6               2678 2018-03-18 13:44:35               259.476863   \n",
       "\n",
       "        avg_daily_listening_time  avg_daily_songs  artist_diversity  \n",
       "userId                                                               \n",
       "2                    2329.039238         9.319249          0.777483  \n",
       "3                     474.343067         1.865134          0.920561  \n",
       "4                    7767.885441        31.431280          0.655273  \n",
       "5                     538.354252         2.192914          0.956522  \n",
       "6                    3033.937258        12.174496          0.591326  "
      ]
     },
     "execution_count": 274,
     "metadata": {},
     "output_type": "execute_result"
    }
   ],
   "source": [
    "# Filter to song listening events only\n",
    "songs_df = window_df.query(\"song.isna()==False\")\n",
    "\n",
    "# Song listening patterns per user\n",
    "listening_features = songs_df.groupby('userId').agg({\n",
    "    'ts': 'count',                    # songs_played\n",
    "    'length': ['sum', 'mean'],        # total_listening_time, avg_song_length\n",
    "    'artist': 'nunique',              # unique_artists\n",
    "    'song': 'nunique',                # unique_songs\n",
    "    'registration': 'first'           # registration_date\n",
    "}).fillna(0)\n",
    "\n",
    "listening_features.columns = ['songs_played', 'total_listening_time', 'avg_song_length', \n",
    "                             'unique_artists', 'unique_songs', 'registration_date']\n",
    "\n",
    "# Calculate days since registration\n",
    "max_date = window_df['ts'].max()\n",
    "listening_features['days_since_registration'] = (\n",
    "    (max_date - pd.to_datetime(listening_features['registration_date'])).dt.total_seconds() / (24 * 3600)\n",
    ")\n",
    "\n",
    "# Average daily features\n",
    "listening_features['avg_daily_listening_time'] = (\n",
    "    listening_features['total_listening_time'] / listening_features['days_since_registration']\n",
    ").fillna(0)\n",
    "\n",
    "listening_features['avg_daily_songs'] = (\n",
    "    listening_features['songs_played'] / listening_features['days_since_registration']\n",
    ").fillna(0)\n",
    "\n",
    "# Listening diversity (how varied is their music taste?)\n",
    "listening_features['artist_diversity'] = (\n",
    "    listening_features['unique_artists'] / listening_features['songs_played']\n",
    ").fillna(0)\n",
    "\n",
    "print(f\"\\nListening stats:\")\n",
    "print(f\"- Average songs played: {listening_features['songs_played'].mean():.1f}\")\n",
    "print(f\"- Average listening time (min): {listening_features['total_listening_time'].mean()/60:.1f}\")\n",
    "print(f\"- Average daily listening time (min): {listening_features['avg_daily_listening_time'].mean()/60:.1f}\")\n",
    "print(f\"- Average daily songs: {listening_features['avg_daily_songs'].mean():.1f}\")\n",
    "listening_features.head()"
   ]
  },
  {
   "cell_type": "markdown",
   "metadata": {},
   "source": [
    "## Engagement features"
   ]
  },
  {
   "cell_type": "markdown",
   "metadata": {},
   "source": [
    "### 1. thumbs_up\n",
    "### 2. thumbs_down\n",
    "### 3. total_feedback\n",
    "### 4. positive_feedback_ratio\n",
    "### 5. playlist_adds\n",
    "### 6. add_friend\n",
    "### 7. Roll Advert\n"
   ]
  },
  {
   "cell_type": "code",
   "execution_count": 275,
   "metadata": {},
   "outputs": [
    {
     "name": "stdout",
     "output_type": "stream",
     "text": [
      "Engagement stats:\n",
      "- Users with thumbs up: 220\n",
      "- Users with thumbs down: 203\n",
      "- Average positive ratio: 0.82\n",
      "- Users with playlist adds: 215\n"
     ]
    },
    {
     "data": {
      "text/html": [
       "<div>\n",
       "<style scoped>\n",
       "    .dataframe tbody tr th:only-of-type {\n",
       "        vertical-align: middle;\n",
       "    }\n",
       "\n",
       "    .dataframe tbody tr th {\n",
       "        vertical-align: top;\n",
       "    }\n",
       "\n",
       "    .dataframe thead th {\n",
       "        text-align: right;\n",
       "    }\n",
       "</style>\n",
       "<table border=\"1\" class=\"dataframe\">\n",
       "  <thead>\n",
       "    <tr style=\"text-align: right;\">\n",
       "      <th></th>\n",
       "      <th>thumbs_up</th>\n",
       "      <th>thumbs_down</th>\n",
       "      <th>total_feedback</th>\n",
       "      <th>positive_feedback_ratio</th>\n",
       "      <th>playlist_adds</th>\n",
       "      <th>add_friend</th>\n",
       "      <th>advert_roll</th>\n",
       "    </tr>\n",
       "    <tr>\n",
       "      <th>userId</th>\n",
       "      <th></th>\n",
       "      <th></th>\n",
       "      <th></th>\n",
       "      <th></th>\n",
       "      <th></th>\n",
       "      <th></th>\n",
       "      <th></th>\n",
       "    </tr>\n",
       "  </thead>\n",
       "  <tbody>\n",
       "    <tr>\n",
       "      <th>2</th>\n",
       "      <td>29.0</td>\n",
       "      <td>6.0</td>\n",
       "      <td>35.0</td>\n",
       "      <td>0.828571</td>\n",
       "      <td>13.0</td>\n",
       "      <td>20.0</td>\n",
       "      <td>NaN</td>\n",
       "    </tr>\n",
       "    <tr>\n",
       "      <th>3</th>\n",
       "      <td>14.0</td>\n",
       "      <td>3.0</td>\n",
       "      <td>17.0</td>\n",
       "      <td>0.823529</td>\n",
       "      <td>4.0</td>\n",
       "      <td>1.0</td>\n",
       "      <td>1.0</td>\n",
       "    </tr>\n",
       "    <tr>\n",
       "      <th>4</th>\n",
       "      <td>95.0</td>\n",
       "      <td>26.0</td>\n",
       "      <td>121.0</td>\n",
       "      <td>0.785124</td>\n",
       "      <td>59.0</td>\n",
       "      <td>46.0</td>\n",
       "      <td>4.0</td>\n",
       "    </tr>\n",
       "    <tr>\n",
       "      <th>5</th>\n",
       "      <td>11.0</td>\n",
       "      <td>0.0</td>\n",
       "      <td>11.0</td>\n",
       "      <td>1.000000</td>\n",
       "      <td>8.0</td>\n",
       "      <td>3.0</td>\n",
       "      <td>11.0</td>\n",
       "    </tr>\n",
       "    <tr>\n",
       "      <th>6</th>\n",
       "      <td>165.0</td>\n",
       "      <td>31.0</td>\n",
       "      <td>196.0</td>\n",
       "      <td>0.841837</td>\n",
       "      <td>83.0</td>\n",
       "      <td>41.0</td>\n",
       "      <td>9.0</td>\n",
       "    </tr>\n",
       "  </tbody>\n",
       "</table>\n",
       "</div>"
      ],
      "text/plain": [
       "        thumbs_up  thumbs_down  total_feedback  positive_feedback_ratio  \\\n",
       "userId                                                                    \n",
       "2            29.0          6.0            35.0                 0.828571   \n",
       "3            14.0          3.0            17.0                 0.823529   \n",
       "4            95.0         26.0           121.0                 0.785124   \n",
       "5            11.0          0.0            11.0                 1.000000   \n",
       "6           165.0         31.0           196.0                 0.841837   \n",
       "\n",
       "        playlist_adds  add_friend  advert_roll  \n",
       "userId                                          \n",
       "2                13.0        20.0          NaN  \n",
       "3                 4.0         1.0          1.0  \n",
       "4                59.0        46.0          4.0  \n",
       "5                 8.0         3.0         11.0  \n",
       "6                83.0        41.0          9.0  "
      ]
     },
     "execution_count": 275,
     "metadata": {},
     "output_type": "execute_result"
    }
   ],
   "source": [
    "# Thumbs up/down behavior\n",
    "thumbs_up = window_df.query(\"page == 'Thumbs Up'\").groupby('userId').size()\n",
    "thumbs_down = window_df.query(\"page == 'Thumbs Down'\").groupby('userId').size()\n",
    "\n",
    "engagement_features = pd.DataFrame({\n",
    "    'thumbs_up': thumbs_up,\n",
    "    'thumbs_down': thumbs_down\n",
    "}).fillna(0)\n",
    "\n",
    "# Total feedback and positive ratio\n",
    "engagement_features['total_feedback'] = engagement_features['thumbs_up'] + engagement_features['thumbs_down']\n",
    "engagement_features['positive_feedback_ratio'] = (\n",
    "    engagement_features['thumbs_up'] / engagement_features['total_feedback']\n",
    ").fillna(0.5)  # Neutral if no feedback\n",
    "\n",
    "# Playlist additions\n",
    "playlist_adds = window_df[window_df['page'] == 'Add to Playlist'].groupby('userId').size()\n",
    "engagement_features['playlist_adds'] = playlist_adds.fillna(0)\n",
    "\n",
    "# Add Friend behavior\n",
    "add_friend = window_df[window_df['page'] == 'Add Friend'].groupby('userId').size()\n",
    "engagement_features['add_friend'] = add_friend.fillna(0)\n",
    "\n",
    "# Rolling adverts\n",
    "advert_roll = window_df[window_df['page'] == 'Roll Advert'].groupby('userId').size()\n",
    "engagement_features['advert_roll'] = advert_roll.fillna(0)\n",
    "\n",
    "print(\"Engagement stats:\")\n",
    "print(f\"- Users with thumbs up: {(engagement_features['thumbs_up'] > 0).sum()}\")\n",
    "print(f\"- Users with thumbs down: {(engagement_features['thumbs_down'] > 0).sum()}\")\n",
    "print(f\"- Average positive ratio: {engagement_features['positive_feedback_ratio'].mean():.2f}\")\n",
    "print(f\"- Users with playlist adds: {(engagement_features['playlist_adds'] > 0).sum()}\")\n",
    "engagement_features.head()"
   ]
  },
  {
   "cell_type": "markdown",
   "metadata": {},
   "source": [
    "## Subscription Features"
   ]
  },
  {
   "cell_type": "markdown",
   "metadata": {},
   "source": [
    "### 1. is_paid\n",
    "### 2. subscription_changes\n",
    "### 3. downgrades\n",
    "### 4. upgrades\n"
   ]
  },
  {
   "cell_type": "code",
   "execution_count": 276,
   "metadata": {},
   "outputs": [
    {
     "name": "stdout",
     "output_type": "stream",
     "text": [
      "- Paid users: 145 (64.4%)\n",
      "- Users with subscription changes: 137\n",
      "- Users with downgrades: 49\n",
      "- Users with upgrades: 131\n"
     ]
    },
    {
     "data": {
      "text/html": [
       "<div>\n",
       "<style scoped>\n",
       "    .dataframe tbody tr th:only-of-type {\n",
       "        vertical-align: middle;\n",
       "    }\n",
       "\n",
       "    .dataframe tbody tr th {\n",
       "        vertical-align: top;\n",
       "    }\n",
       "\n",
       "    .dataframe thead th {\n",
       "        text-align: right;\n",
       "    }\n",
       "</style>\n",
       "<table border=\"1\" class=\"dataframe\">\n",
       "  <thead>\n",
       "    <tr style=\"text-align: right;\">\n",
       "      <th></th>\n",
       "      <th>is_paid</th>\n",
       "      <th>subscription_changes</th>\n",
       "      <th>downgrades</th>\n",
       "      <th>upgrades</th>\n",
       "    </tr>\n",
       "    <tr>\n",
       "      <th>userId</th>\n",
       "      <th></th>\n",
       "      <th></th>\n",
       "      <th></th>\n",
       "      <th></th>\n",
       "    </tr>\n",
       "  </thead>\n",
       "  <tbody>\n",
       "    <tr>\n",
       "      <th>2</th>\n",
       "      <td>1</td>\n",
       "      <td>0</td>\n",
       "      <td>0.0</td>\n",
       "      <td>0.0</td>\n",
       "    </tr>\n",
       "    <tr>\n",
       "      <th>3</th>\n",
       "      <td>1</td>\n",
       "      <td>0</td>\n",
       "      <td>0.0</td>\n",
       "      <td>0.0</td>\n",
       "    </tr>\n",
       "    <tr>\n",
       "      <th>4</th>\n",
       "      <td>1</td>\n",
       "      <td>1</td>\n",
       "      <td>0.0</td>\n",
       "      <td>1.0</td>\n",
       "    </tr>\n",
       "    <tr>\n",
       "      <th>5</th>\n",
       "      <td>0</td>\n",
       "      <td>0</td>\n",
       "      <td>0.0</td>\n",
       "      <td>0.0</td>\n",
       "    </tr>\n",
       "    <tr>\n",
       "      <th>6</th>\n",
       "      <td>1</td>\n",
       "      <td>1</td>\n",
       "      <td>0.0</td>\n",
       "      <td>1.0</td>\n",
       "    </tr>\n",
       "  </tbody>\n",
       "</table>\n",
       "</div>"
      ],
      "text/plain": [
       "        is_paid  subscription_changes  downgrades  upgrades\n",
       "userId                                                     \n",
       "2             1                     0         0.0       0.0\n",
       "3             1                     0         0.0       0.0\n",
       "4             1                     1         0.0       1.0\n",
       "5             0                     0         0.0       0.0\n",
       "6             1                     1         0.0       1.0"
      ]
     },
     "execution_count": 276,
     "metadata": {},
     "output_type": "execute_result"
    }
   ],
   "source": [
    "# Current subscription level (most recent)\n",
    "latest_level = window_df.groupby('userId')['level'].last()\n",
    "subscription_features = pd.DataFrame({\n",
    "    'is_paid': (latest_level == 'paid').astype(int)\n",
    "})\n",
    "\n",
    "# Subscription level changes (how many different levels they had)\n",
    "level_changes = window_df.groupby('userId')['level'].nunique()\n",
    "subscription_features['subscription_changes'] = (level_changes > 1).astype(int)\n",
    "\n",
    "# Downgrade events\n",
    "downgrades = window_df.query(\"page == 'Submit Downgrade'\").groupby('userId').size()\n",
    "subscription_features['downgrades'] = downgrades.fillna(0)\n",
    "\n",
    "# Upgrade events  \n",
    "upgrades = window_df.query(\"page == 'Submit Upgrade'\").groupby('userId').size()\n",
    "subscription_features['upgrades'] = upgrades.fillna(0)\n",
    "\n",
    "# Fill any remaining NaNs with 0\n",
    "subscription_features = subscription_features.fillna(0)\n",
    "\n",
    "print(f\"- Paid users: {subscription_features['is_paid'].sum()} ({subscription_features['is_paid'].mean():.1%})\")\n",
    "print(f\"- Users with subscription changes: {subscription_features['subscription_changes'].sum()}\")\n",
    "print(f\"- Users with downgrades: {(subscription_features['downgrades'] > 0).sum()}\")\n",
    "print(f\"- Users with upgrades: {(subscription_features['upgrades'] > 0).sum()}\")\n",
    "\n",
    "subscription_features.head()"
   ]
  },
  {
   "cell_type": "markdown",
   "metadata": {},
   "source": [
    "### Errors, problems/issues features"
   ]
  },
  {
   "cell_type": "markdown",
   "metadata": {},
   "source": [
    "### 1. error_count\n",
    "### 2. help_visits\n",
    "### 3. settings_visits\n",
    "### 4. logout_count\n",
    "### 5. has_issues\n"
   ]
  },
  {
   "cell_type": "code",
   "execution_count": 277,
   "metadata": {},
   "outputs": [
    {
     "name": "stdout",
     "output_type": "stream",
     "text": [
      "Problem/Issue stats:\n",
      "- Users with errors: 120\n",
      "- Users visiting help: 194\n",
      "- Users with issues: 198\n",
      "- Average errors per user: 1.17\n"
     ]
    },
    {
     "data": {
      "text/html": [
       "<div>\n",
       "<style scoped>\n",
       "    .dataframe tbody tr th:only-of-type {\n",
       "        vertical-align: middle;\n",
       "    }\n",
       "\n",
       "    .dataframe tbody tr th {\n",
       "        vertical-align: top;\n",
       "    }\n",
       "\n",
       "    .dataframe thead th {\n",
       "        text-align: right;\n",
       "    }\n",
       "</style>\n",
       "<table border=\"1\" class=\"dataframe\">\n",
       "  <thead>\n",
       "    <tr style=\"text-align: right;\">\n",
       "      <th></th>\n",
       "      <th>error_count</th>\n",
       "      <th>help_visits</th>\n",
       "      <th>settings_visits</th>\n",
       "      <th>logout_count</th>\n",
       "      <th>has_issues</th>\n",
       "    </tr>\n",
       "    <tr>\n",
       "      <th>userId</th>\n",
       "      <th></th>\n",
       "      <th></th>\n",
       "      <th></th>\n",
       "      <th></th>\n",
       "      <th></th>\n",
       "    </tr>\n",
       "  </thead>\n",
       "  <tbody>\n",
       "    <tr>\n",
       "      <th>2</th>\n",
       "      <td>0.0</td>\n",
       "      <td>6.0</td>\n",
       "      <td>6.0</td>\n",
       "      <td>11.0</td>\n",
       "      <td>1</td>\n",
       "    </tr>\n",
       "    <tr>\n",
       "      <th>3</th>\n",
       "      <td>0.0</td>\n",
       "      <td>1.0</td>\n",
       "      <td>0.0</td>\n",
       "      <td>3.0</td>\n",
       "      <td>1</td>\n",
       "    </tr>\n",
       "    <tr>\n",
       "      <th>4</th>\n",
       "      <td>4.0</td>\n",
       "      <td>14.0</td>\n",
       "      <td>10.0</td>\n",
       "      <td>24.0</td>\n",
       "      <td>1</td>\n",
       "    </tr>\n",
       "    <tr>\n",
       "      <th>5</th>\n",
       "      <td>0.0</td>\n",
       "      <td>2.0</td>\n",
       "      <td>1.0</td>\n",
       "      <td>4.0</td>\n",
       "      <td>1</td>\n",
       "    </tr>\n",
       "    <tr>\n",
       "      <th>6</th>\n",
       "      <td>4.0</td>\n",
       "      <td>27.0</td>\n",
       "      <td>17.0</td>\n",
       "      <td>48.0</td>\n",
       "      <td>1</td>\n",
       "    </tr>\n",
       "  </tbody>\n",
       "</table>\n",
       "</div>"
      ],
      "text/plain": [
       "        error_count  help_visits  settings_visits  logout_count  has_issues\n",
       "userId                                                                     \n",
       "2               0.0          6.0              6.0          11.0           1\n",
       "3               0.0          1.0              0.0           3.0           1\n",
       "4               4.0         14.0             10.0          24.0           1\n",
       "5               0.0          2.0              1.0           4.0           1\n",
       "6               4.0         27.0             17.0          48.0           1"
      ]
     },
     "execution_count": 277,
     "metadata": {},
     "output_type": "execute_result"
    }
   ],
   "source": [
    "# Error pages\n",
    "errors = window_df.query(\"page == 'Error'\").groupby('userId').size()\n",
    "\n",
    "# Help page visits (indicates user confusion/problems)\n",
    "help_visits = window_df.query(\"page == 'Help'\").groupby('userId').size()\n",
    "\n",
    "# Settings page visits (might indicate frustration)\n",
    "settings_visits = window_df.query(\"page == 'Settings'\").groupby('userId').size()\n",
    "\n",
    "# Logout events (might indicate frustration)\n",
    "logout_events = window_df.query(\"page == 'Logout'\").groupby('userId').size()\n",
    "\n",
    "issue_features = pd.DataFrame({\n",
    "    'error_count': errors,\n",
    "    'help_visits': help_visits,\n",
    "    'settings_visits': settings_visits,\n",
    "    'logout_count': logout_events\n",
    "}).fillna(0)\n",
    "\n",
    "# Problem indicator: users with multiple issues\n",
    "issue_features['has_issues'] = (\n",
    "    (issue_features['error_count'] > 0) | \n",
    "    (issue_features['help_visits'] > 0)\n",
    ").astype(int)\n",
    "\n",
    "print(\"Problem/Issue stats:\")\n",
    "print(f\"- Users with errors: {(issue_features['error_count'] > 0).sum()}\")\n",
    "print(f\"- Users visiting help: {(issue_features['help_visits'] > 0).sum()}\")\n",
    "print(f\"- Users with issues: {issue_features['has_issues'].sum()}\")\n",
    "print(f\"- Average errors per user: {issue_features['error_count'].mean():.2f}\")\n",
    "issue_features.head()"
   ]
  },
  {
   "cell_type": "markdown",
   "metadata": {},
   "source": [
    "## Temporal Features"
   ]
  },
  {
   "cell_type": "markdown",
   "metadata": {},
   "source": [
    "### 1. days_used_in_period\n",
    "### 2. days_available_in_period\n",
    "### 3. usage_frequency\n"
   ]
  },
  {
   "cell_type": "code",
   "execution_count": 278,
   "metadata": {},
   "outputs": [
    {
     "name": "stdout",
     "output_type": "stream",
     "text": [
      "Temporal stats:\n",
      "- Average days since last activity: 14.7\n",
      "- Average days used: 14.0\n",
      "- Average usage frequency: 23.3%\n"
     ]
    },
    {
     "name": "stderr",
     "output_type": "stream",
     "text": [
      "Exception ignored in: <function ResourceTracker.__del__ at 0x1067c05e0>\n",
      "Traceback (most recent call last):\n",
      "  File \"/Users/yasserjaber/miniforge3/envs/customer_churn/lib/python3.13/multiprocessing/resource_tracker.py\", line 82, in __del__\n",
      "  File \"/Users/yasserjaber/miniforge3/envs/customer_churn/lib/python3.13/multiprocessing/resource_tracker.py\", line 91, in _stop\n",
      "  File \"/Users/yasserjaber/miniforge3/envs/customer_churn/lib/python3.13/multiprocessing/resource_tracker.py\", line 116, in _stop_locked\n",
      "ChildProcessError: [Errno 10] No child processes\n",
      "Exception ignored in: <function ResourceTracker.__del__ at 0x109fd85e0>\n",
      "Traceback (most recent call last):\n",
      "  File \"/Users/yasserjaber/miniforge3/envs/customer_churn/lib/python3.13/multiprocessing/resource_tracker.py\", line 82, in __del__\n",
      "  File \"/Users/yasserjaber/miniforge3/envs/customer_churn/lib/python3.13/multiprocessing/resource_tracker.py\", line 91, in _stop\n",
      "  File \"/Users/yasserjaber/miniforge3/envs/customer_churn/lib/python3.13/multiprocessing/resource_tracker.py\", line 116, in _stop_locked\n",
      "ChildProcessError: [Errno 10] No child processes\n"
     ]
    },
    {
     "name": "stderr",
     "output_type": "stream",
     "text": [
      "Exception ignored in: <function ResourceTracker.__del__ at 0x10a9445e0>\n",
      "Traceback (most recent call last):\n",
      "  File \"/Users/yasserjaber/miniforge3/envs/customer_churn/lib/python3.13/multiprocessing/resource_tracker.py\", line 82, in __del__\n",
      "  File \"/Users/yasserjaber/miniforge3/envs/customer_churn/lib/python3.13/multiprocessing/resource_tracker.py\", line 91, in _stop\n",
      "  File \"/Users/yasserjaber/miniforge3/envs/customer_churn/lib/python3.13/multiprocessing/resource_tracker.py\", line 116, in _stop_locked\n",
      "ChildProcessError: [Errno 10] No child processes\n"
     ]
    },
    {
     "data": {
      "text/html": [
       "<div>\n",
       "<style scoped>\n",
       "    .dataframe tbody tr th:only-of-type {\n",
       "        vertical-align: middle;\n",
       "    }\n",
       "\n",
       "    .dataframe tbody tr th {\n",
       "        vertical-align: top;\n",
       "    }\n",
       "\n",
       "    .dataframe thead th {\n",
       "        text-align: right;\n",
       "    }\n",
       "</style>\n",
       "<table border=\"1\" class=\"dataframe\">\n",
       "  <thead>\n",
       "    <tr style=\"text-align: right;\">\n",
       "      <th></th>\n",
       "      <th>days_since_last_activity</th>\n",
       "      <th>days_used_in_period</th>\n",
       "      <th>days_available_in_period</th>\n",
       "      <th>usage_frequency</th>\n",
       "    </tr>\n",
       "    <tr>\n",
       "      <th>userId</th>\n",
       "      <th></th>\n",
       "      <th></th>\n",
       "      <th></th>\n",
       "      <th></th>\n",
       "    </tr>\n",
       "  </thead>\n",
       "  <tbody>\n",
       "    <tr>\n",
       "      <th>2</th>\n",
       "      <td>11.111944</td>\n",
       "      <td>9</td>\n",
       "      <td>61</td>\n",
       "      <td>0.147541</td>\n",
       "    </tr>\n",
       "    <tr>\n",
       "      <th>3</th>\n",
       "      <td>33.841817</td>\n",
       "      <td>5</td>\n",
       "      <td>61</td>\n",
       "      <td>0.081967</td>\n",
       "    </tr>\n",
       "    <tr>\n",
       "      <th>4</th>\n",
       "      <td>2.360278</td>\n",
       "      <td>26</td>\n",
       "      <td>61</td>\n",
       "      <td>0.426230</td>\n",
       "    </tr>\n",
       "    <tr>\n",
       "      <th>5</th>\n",
       "      <td>4.470787</td>\n",
       "      <td>9</td>\n",
       "      <td>61</td>\n",
       "      <td>0.147541</td>\n",
       "    </tr>\n",
       "    <tr>\n",
       "      <th>6</th>\n",
       "      <td>3.099190</td>\n",
       "      <td>28</td>\n",
       "      <td>61</td>\n",
       "      <td>0.459016</td>\n",
       "    </tr>\n",
       "  </tbody>\n",
       "</table>\n",
       "</div>"
      ],
      "text/plain": [
       "        days_since_last_activity  days_used_in_period  \\\n",
       "userId                                                  \n",
       "2                      11.111944                    9   \n",
       "3                      33.841817                    5   \n",
       "4                       2.360278                   26   \n",
       "5                       4.470787                    9   \n",
       "6                       3.099190                   28   \n",
       "\n",
       "        days_available_in_period  usage_frequency  \n",
       "userId                                             \n",
       "2                             61         0.147541  \n",
       "3                             61         0.081967  \n",
       "4                             61         0.426230  \n",
       "5                             61         0.147541  \n",
       "6                             61         0.459016  "
      ]
     },
     "execution_count": 278,
     "metadata": {},
     "output_type": "execute_result"
    },
    {
     "name": "stderr",
     "output_type": "stream",
     "text": [
      "Exception ignored in: <function ResourceTracker.__del__ at 0x1200445e0>\n",
      "Traceback (most recent call last):\n",
      "  File \"/Users/yasserjaber/miniforge3/envs/customer_churn/lib/python3.13/multiprocessing/resource_tracker.py\", line 82, in __del__\n",
      "  File \"/Users/yasserjaber/miniforge3/envs/customer_churn/lib/python3.13/multiprocessing/resource_tracker.py\", line 91, in _stop\n",
      "  File \"/Users/yasserjaber/miniforge3/envs/customer_churn/lib/python3.13/multiprocessing/resource_tracker.py\", line 116, in _stop_locked\n",
      "ChildProcessError: [Errno 10] No child processes\n",
      "Exception ignored in: <function ResourceTracker.__del__ at 0x107dd85e0>\n",
      "Traceback (most recent call last):\n",
      "  File \"/Users/yasserjaber/miniforge3/envs/customer_churn/lib/python3.13/multiprocessing/resource_tracker.py\", line 82, in __del__\n",
      "  File \"/Users/yasserjaber/miniforge3/envs/customer_churn/lib/python3.13/multiprocessing/resource_tracker.py\", line 91, in _stop\n",
      "  File \"/Users/yasserjaber/miniforge3/envs/customer_churn/lib/python3.13/multiprocessing/resource_tracker.py\", line 116, in _stop_locked\n",
      "ChildProcessError: [Errno 10] No child processes\n",
      "Exception ignored in: <function ResourceTracker.__del__ at 0x107b445e0>\n",
      "Traceback (most recent call last):\n",
      "  File \"/Users/yasserjaber/miniforge3/envs/customer_churn/lib/python3.13/multiprocessing/resource_tracker.py\", line 82, in __del__\n",
      "  File \"/Users/yasserjaber/miniforge3/envs/customer_churn/lib/python3.13/multiprocessing/resource_tracker.py\", line 91, in _stop\n",
      "  File \"/Users/yasserjaber/miniforge3/envs/customer_churn/lib/python3.13/multiprocessing/resource_tracker.py\", line 116, in _stop_locked\n",
      "ChildProcessError: [Errno 10] No child processes\n",
      "Exception ignored in: <function ResourceTracker.__del__ at 0x1075945e0>\n",
      "Traceback (most recent call last):\n",
      "  File \"/Users/yasserjaber/miniforge3/envs/customer_churn/lib/python3.13/multiprocessing/resource_tracker.py\", line 82, in __del__\n",
      "  File \"/Users/yasserjaber/miniforge3/envs/customer_churn/lib/python3.13/multiprocessing/resource_tracker.py\", line 91, in _stop\n",
      "  File \"/Users/yasserjaber/miniforge3/envs/customer_churn/lib/python3.13/multiprocessing/resource_tracker.py\", line 116, in _stop_locked\n",
      "ChildProcessError: [Errno 10] No child processes\n",
      "Exception ignored in: <function ResourceTracker.__del__ at 0x1129445e0>\n",
      "Traceback (most recent call last):\n",
      "  File \"/Users/yasserjaber/miniforge3/envs/customer_churn/lib/python3.13/multiprocessing/resource_tracker.py\", line 82, in __del__\n",
      "  File \"/Users/yasserjaber/miniforge3/envs/customer_churn/lib/python3.13/multiprocessing/resource_tracker.py\", line 91, in _stop\n",
      "  File \"/Users/yasserjaber/miniforge3/envs/customer_churn/lib/python3.13/multiprocessing/resource_tracker.py\", line 116, in _stop_locked\n",
      "ChildProcessError: [Errno 10] No child processes\n",
      "Exception ignored in: <function ResourceTracker.__del__ at 0x1055d85e0>\n",
      "Traceback (most recent call last):\n",
      "  File \"/Users/yasserjaber/miniforge3/envs/customer_churn/lib/python3.13/multiprocessing/resource_tracker.py\", line 82, in __del__\n",
      "  File \"/Users/yasserjaber/miniforge3/envs/customer_churn/lib/python3.13/multiprocessing/resource_tracker.py\", line 91, in _stop\n",
      "  File \"/Users/yasserjaber/miniforge3/envs/customer_churn/lib/python3.13/multiprocessing/resource_tracker.py\", line 116, in _stop_locked\n",
      "ChildProcessError: [Errno 10] No child processes\n",
      "Exception ignored in: <function ResourceTracker.__del__ at 0x1083f85e0>\n",
      "Traceback (most recent call last):\n",
      "  File \"/Users/yasserjaber/miniforge3/envs/customer_churn/lib/python3.13/multiprocessing/resource_tracker.py\", line 82, in __del__\n",
      "  File \"/Users/yasserjaber/miniforge3/envs/customer_churn/lib/python3.13/multiprocessing/resource_tracker.py\", line 91, in _stop\n",
      "  File \"/Users/yasserjaber/miniforge3/envs/customer_churn/lib/python3.13/multiprocessing/resource_tracker.py\", line 116, in _stop_locked\n",
      "ChildProcessError: [Errno 10] No child processes\n",
      "Exception ignored in: <function ResourceTracker.__del__ at 0x1140445e0>\n",
      "Traceback (most recent call last):\n",
      "  File \"/Users/yasserjaber/miniforge3/envs/customer_churn/lib/python3.13/multiprocessing/resource_tracker.py\", line 82, in __del__\n",
      "  File \"/Users/yasserjaber/miniforge3/envs/customer_churn/lib/python3.13/multiprocessing/resource_tracker.py\", line 91, in _stop\n",
      "  File \"/Users/yasserjaber/miniforge3/envs/customer_churn/lib/python3.13/multiprocessing/resource_tracker.py\", line 116, in _stop_locked\n",
      "ChildProcessError: [Errno 10] No child processes\n",
      "Exception ignored in: <function ResourceTracker.__del__ at 0x1078205e0>\n",
      "Traceback (most recent call last):\n",
      "  File \"/Users/yasserjaber/miniforge3/envs/customer_churn/lib/python3.13/multiprocessing/resource_tracker.py\", line 82, in __del__\n",
      "  File \"/Users/yasserjaber/miniforge3/envs/customer_churn/lib/python3.13/multiprocessing/resource_tracker.py\", line 91, in _stop\n",
      "  File \"/Users/yasserjaber/miniforge3/envs/customer_churn/lib/python3.13/multiprocessing/resource_tracker.py\", line 116, in _stop_locked\n",
      "ChildProcessError: [Errno 10] No child processes\n",
      "Exception ignored in: <function ResourceTracker.__del__ at 0x102e445e0>\n",
      "Traceback (most recent call last):\n",
      "  File \"/Users/yasserjaber/miniforge3/envs/customer_churn/lib/python3.13/multiprocessing/resource_tracker.py\", line 82, in __del__\n",
      "  File \"/Users/yasserjaber/miniforge3/envs/customer_churn/lib/python3.13/multiprocessing/resource_tracker.py\", line 91, in _stop\n",
      "  File \"/Users/yasserjaber/miniforge3/envs/customer_churn/lib/python3.13/multiprocessing/resource_tracker.py\", line 116, in _stop_locked\n",
      "ChildProcessError: [Errno 10] No child processes\n",
      "Exception ignored in: <function ResourceTracker.__del__ at 0x110bac5e0>\n",
      "Traceback (most recent call last):\n",
      "  File \"/Users/yasserjaber/miniforge3/envs/customer_churn/lib/python3.13/multiprocessing/resource_tracker.py\", line 82, in __del__\n",
      "  File \"/Users/yasserjaber/miniforge3/envs/customer_churn/lib/python3.13/multiprocessing/resource_tracker.py\", line 91, in _stop\n",
      "  File \"/Users/yasserjaber/miniforge3/envs/customer_churn/lib/python3.13/multiprocessing/resource_tracker.py\", line 116, in _stop_locked\n",
      "ChildProcessError: [Errno 10] No child processes\n"
     ]
    }
   ],
   "source": [
    "#Days since last activity\n",
    "last_activity = window_df.groupby('userId')['ts'].max()\n",
    "max_date = window_df['ts'].max()\n",
    "days_since_last_activity = (max_date - last_activity).dt.total_seconds() / (24 * 3600)\n",
    "\n",
    "# Days used since registration (with window constraints)\n",
    "user_registration = window_df.groupby('userId')['registration'].first()\n",
    "user_registration = pd.to_datetime(user_registration)\n",
    "\n",
    "# For each user, calculate their effective start date (registration or window start)\n",
    "effective_start_dates = []\n",
    "days_in_period = []\n",
    "\n",
    "for user_id in user_registration.index:\n",
    "    reg_date = user_registration[user_id]\n",
    "    effective_start = max(reg_date.date(), feature_start.date())\n",
    "    days_available = (max_date.date() - effective_start).days + 1 #Adding 1 for inclusive counting\n",
    "    \n",
    "    effective_start_dates.append(effective_start)\n",
    "    days_in_period.append(days_available)\n",
    "\n",
    "# Count unique days user was active (opened app)\n",
    "days_used = window_df.groupby('userId')['ts'].apply(lambda x: x.dt.date.nunique())\n",
    "\n",
    "temporal_features = pd.DataFrame({\n",
    "    'days_since_last_activity': days_since_last_activity,\n",
    "    'days_used_in_period': days_used,\n",
    "    'days_available_in_period': days_in_period,\n",
    "    'usage_frequency': days_used / pd.Series(days_in_period, index=days_used.index)\n",
    "}, index=user_registration.index).fillna(0)\n",
    "\n",
    "print(\"Temporal stats:\")\n",
    "print(f\"- Average days since last activity: {temporal_features['days_since_last_activity'].mean():.1f}\")\n",
    "print(f\"- Average days used: {temporal_features['days_used_in_period'].mean():.1f}\")\n",
    "print(f\"- Average usage frequency: {temporal_features['usage_frequency'].mean():.1%}\")\n",
    "temporal_features.head()"
   ]
  },
  {
   "cell_type": "markdown",
   "metadata": {},
   "source": [
    "## Session Patterns"
   ]
  },
  {
   "cell_type": "markdown",
   "metadata": {},
   "source": [
    "### 1. avg_session_length\n",
    "### 2. session_length_std\n",
    "### 3. max_session_length\n",
    "### 4. avg_session_duration_min\n",
    "### 5. session_duration_std_min\n",
    "### 6. max_session_duration_min\n",
    "### 7. session_consistency\n"
   ]
  },
  {
   "cell_type": "code",
   "execution_count": 279,
   "metadata": {},
   "outputs": [
    {
     "name": "stdout",
     "output_type": "stream",
     "text": [
      "Session pattern stats:\n",
      "- Average session length: 86.5 interactions\n",
      "- Average session duration: 1177.6 minutes\n"
     ]
    },
    {
     "data": {
      "text/html": [
       "<div>\n",
       "<style scoped>\n",
       "    .dataframe tbody tr th:only-of-type {\n",
       "        vertical-align: middle;\n",
       "    }\n",
       "\n",
       "    .dataframe tbody tr th {\n",
       "        vertical-align: top;\n",
       "    }\n",
       "\n",
       "    .dataframe thead th {\n",
       "        text-align: right;\n",
       "    }\n",
       "</style>\n",
       "<table border=\"1\" class=\"dataframe\">\n",
       "  <thead>\n",
       "    <tr style=\"text-align: right;\">\n",
       "      <th></th>\n",
       "      <th>avg_session_length</th>\n",
       "      <th>session_length_std</th>\n",
       "      <th>max_session_length</th>\n",
       "      <th>avg_session_duration_mins</th>\n",
       "      <th>session_duration_std_mins</th>\n",
       "      <th>max_session_duration_mins</th>\n",
       "      <th>session_consistency</th>\n",
       "    </tr>\n",
       "    <tr>\n",
       "      <th>userId</th>\n",
       "      <th></th>\n",
       "      <th></th>\n",
       "      <th></th>\n",
       "      <th></th>\n",
       "      <th></th>\n",
       "      <th></th>\n",
       "      <th></th>\n",
       "    </tr>\n",
       "  </thead>\n",
       "  <tbody>\n",
       "    <tr>\n",
       "      <th>2</th>\n",
       "      <td>131.285714</td>\n",
       "      <td>150.921298</td>\n",
       "      <td>443</td>\n",
       "      <td>445.116667</td>\n",
       "      <td>516.589537</td>\n",
       "      <td>1506.016667</td>\n",
       "      <td>0.006582</td>\n",
       "    </tr>\n",
       "    <tr>\n",
       "      <th>3</th>\n",
       "      <td>64.500000</td>\n",
       "      <td>50.494224</td>\n",
       "      <td>138</td>\n",
       "      <td>247.425000</td>\n",
       "      <td>203.812271</td>\n",
       "      <td>546.016667</td>\n",
       "      <td>0.019420</td>\n",
       "    </tr>\n",
       "    <tr>\n",
       "      <th>4</th>\n",
       "      <td>112.818182</td>\n",
       "      <td>150.901619</td>\n",
       "      <td>522</td>\n",
       "      <td>379.487879</td>\n",
       "      <td>526.184277</td>\n",
       "      <td>1836.600000</td>\n",
       "      <td>0.006583</td>\n",
       "    </tr>\n",
       "    <tr>\n",
       "      <th>5</th>\n",
       "      <td>37.166667</td>\n",
       "      <td>29.687820</td>\n",
       "      <td>74</td>\n",
       "      <td>24765.052778</td>\n",
       "      <td>38141.830232</td>\n",
       "      <td>74038.766667</td>\n",
       "      <td>0.032586</td>\n",
       "    </tr>\n",
       "    <tr>\n",
       "      <th>6</th>\n",
       "      <td>160.541667</td>\n",
       "      <td>176.000489</td>\n",
       "      <td>567</td>\n",
       "      <td>548.161111</td>\n",
       "      <td>601.268049</td>\n",
       "      <td>1913.416667</td>\n",
       "      <td>0.005650</td>\n",
       "    </tr>\n",
       "  </tbody>\n",
       "</table>\n",
       "</div>"
      ],
      "text/plain": [
       "        avg_session_length  session_length_std  max_session_length  \\\n",
       "userId                                                               \n",
       "2               131.285714          150.921298                 443   \n",
       "3                64.500000           50.494224                 138   \n",
       "4               112.818182          150.901619                 522   \n",
       "5                37.166667           29.687820                  74   \n",
       "6               160.541667          176.000489                 567   \n",
       "\n",
       "        avg_session_duration_mins  session_duration_std_mins  \\\n",
       "userId                                                         \n",
       "2                      445.116667                 516.589537   \n",
       "3                      247.425000                 203.812271   \n",
       "4                      379.487879                 526.184277   \n",
       "5                    24765.052778               38141.830232   \n",
       "6                      548.161111                 601.268049   \n",
       "\n",
       "        max_session_duration_mins  session_consistency  \n",
       "userId                                                  \n",
       "2                     1506.016667             0.006582  \n",
       "3                      546.016667             0.019420  \n",
       "4                     1836.600000             0.006583  \n",
       "5                    74038.766667             0.032586  \n",
       "6                     1913.416667             0.005650  "
      ]
     },
     "execution_count": 279,
     "metadata": {},
     "output_type": "execute_result"
    }
   ],
   "source": [
    "# Session length statistics (items per session)\n",
    "session_lengths = window_df.groupby(['userId', 'sessionId'])['itemInSession'].max()\n",
    "session_length_stats = session_lengths.groupby('userId').agg(['mean', 'std', 'max']).fillna(0)\n",
    "session_length_stats.columns = ['avg_session_length', 'session_length_std', 'max_session_length']\n",
    "\n",
    "# Session duration statistics (time spent per session)\n",
    "session_durations = window_df.groupby(['userId', 'sessionId'])['ts'].apply(\n",
    "    lambda x: (x.max() - x.min()).total_seconds() / 60  # convert to minutes\n",
    ")\n",
    "session_duration_stats = session_durations.groupby('userId').agg(['mean', 'std', 'max']).fillna(0)\n",
    "session_duration_stats.columns = ['avg_session_duration_mins', 'session_duration_std_mins', 'max_session_duration_mins']\n",
    "\n",
    "# Combine session features\n",
    "session_features = pd.concat([session_length_stats, session_duration_stats], axis=1)\n",
    "\n",
    "# Session consistency: how regular are their sessions?\n",
    "session_features['session_consistency'] = 1 / (1 + session_features['session_length_std'])  # Higher = more consistent\n",
    "\n",
    "print(\"Session pattern stats:\")\n",
    "print(f\"- Average session length: {session_features['avg_session_length'].mean():.1f} interactions\")\n",
    "print(f\"- Average session duration: {session_features['avg_session_duration_mins'].mean():.1f} minutes\")\n",
    "session_features.head()"
   ]
  },
  {
   "cell_type": "markdown",
   "metadata": {},
   "source": [
    "# Combine all features"
   ]
  },
  {
   "cell_type": "code",
   "execution_count": 280,
   "metadata": {},
   "outputs": [
    {
     "name": "stdout",
     "output_type": "stream",
     "text": [
      "Users: 225\n",
      "Features: 40 (+ 1 target column)\n",
      "Churn rate: 23.1%\n",
      "\n",
      "Feature columns:\n",
      " 1. total_events\n",
      " 2. num_sessions\n",
      " 3. total_interactions\n",
      " 4. events_per_session\n",
      " 5. songs_played\n",
      " 6. total_listening_time\n",
      " 7. avg_song_length\n",
      " 8. unique_artists\n",
      " 9. unique_songs\n",
      "10. days_since_registration\n",
      "11. avg_daily_listening_time\n",
      "12. avg_daily_songs\n",
      "13. artist_diversity\n",
      "14. thumbs_up\n",
      "15. thumbs_down\n",
      "16. total_feedback\n",
      "17. positive_feedback_ratio\n",
      "18. playlist_adds\n",
      "19. add_friend\n",
      "20. advert_roll\n",
      "21. is_paid\n",
      "22. subscription_changes\n",
      "23. downgrades\n",
      "24. upgrades\n",
      "25. error_count\n",
      "26. help_visits\n",
      "27. settings_visits\n",
      "28. logout_count\n",
      "29. has_issues\n",
      "30. days_since_last_activity\n",
      "31. days_used_in_period\n",
      "32. days_available_in_period\n",
      "33. usage_frequency\n",
      "34. avg_session_length\n",
      "35. session_length_std\n",
      "36. max_session_length\n",
      "37. avg_session_duration_mins\n",
      "38. session_duration_std_mins\n",
      "39. max_session_duration_mins\n",
      "40. session_consistency\n",
      "\n",
      "Sample of final features:\n"
     ]
    },
    {
     "data": {
      "text/html": [
       "<div>\n",
       "<style scoped>\n",
       "    .dataframe tbody tr th:only-of-type {\n",
       "        vertical-align: middle;\n",
       "    }\n",
       "\n",
       "    .dataframe tbody tr th {\n",
       "        vertical-align: top;\n",
       "    }\n",
       "\n",
       "    .dataframe thead th {\n",
       "        text-align: right;\n",
       "    }\n",
       "</style>\n",
       "<table border=\"1\" class=\"dataframe\">\n",
       "  <thead>\n",
       "    <tr style=\"text-align: right;\">\n",
       "      <th></th>\n",
       "      <th>total_events</th>\n",
       "      <th>num_sessions</th>\n",
       "      <th>total_interactions</th>\n",
       "      <th>events_per_session</th>\n",
       "      <th>songs_played</th>\n",
       "      <th>total_listening_time</th>\n",
       "      <th>avg_song_length</th>\n",
       "      <th>unique_artists</th>\n",
       "      <th>unique_songs</th>\n",
       "      <th>days_since_registration</th>\n",
       "      <th>avg_daily_listening_time</th>\n",
       "      <th>avg_daily_songs</th>\n",
       "      <th>artist_diversity</th>\n",
       "      <th>thumbs_up</th>\n",
       "      <th>thumbs_down</th>\n",
       "      <th>total_feedback</th>\n",
       "      <th>positive_feedback_ratio</th>\n",
       "      <th>playlist_adds</th>\n",
       "      <th>add_friend</th>\n",
       "      <th>advert_roll</th>\n",
       "      <th>is_paid</th>\n",
       "      <th>subscription_changes</th>\n",
       "      <th>downgrades</th>\n",
       "      <th>upgrades</th>\n",
       "      <th>error_count</th>\n",
       "      <th>help_visits</th>\n",
       "      <th>settings_visits</th>\n",
       "      <th>logout_count</th>\n",
       "      <th>has_issues</th>\n",
       "      <th>days_since_last_activity</th>\n",
       "      <th>days_used_in_period</th>\n",
       "      <th>days_available_in_period</th>\n",
       "      <th>usage_frequency</th>\n",
       "      <th>avg_session_length</th>\n",
       "      <th>session_length_std</th>\n",
       "      <th>max_session_length</th>\n",
       "      <th>avg_session_duration_mins</th>\n",
       "      <th>session_duration_std_mins</th>\n",
       "      <th>max_session_duration_mins</th>\n",
       "      <th>session_consistency</th>\n",
       "      <th>is_churned</th>\n",
       "    </tr>\n",
       "  </thead>\n",
       "  <tbody>\n",
       "    <tr>\n",
       "      <th>30</th>\n",
       "      <td>1825</td>\n",
       "      <td>32</td>\n",
       "      <td>158008</td>\n",
       "      <td>57.031250</td>\n",
       "      <td>1417</td>\n",
       "      <td>359808.24564</td>\n",
       "      <td>253.922545</td>\n",
       "      <td>1018</td>\n",
       "      <td>1272</td>\n",
       "      <td>65.117060</td>\n",
       "      <td>5525.560347</td>\n",
       "      <td>21.760810</td>\n",
       "      <td>0.718419</td>\n",
       "      <td>62.0</td>\n",
       "      <td>17.0</td>\n",
       "      <td>79.0</td>\n",
       "      <td>0.784810</td>\n",
       "      <td>47.0</td>\n",
       "      <td>25.0</td>\n",
       "      <td>72.0</td>\n",
       "      <td>1</td>\n",
       "      <td>1</td>\n",
       "      <td>1.0</td>\n",
       "      <td>1.0</td>\n",
       "      <td>1.0</td>\n",
       "      <td>7.0</td>\n",
       "      <td>13.0</td>\n",
       "      <td>20.0</td>\n",
       "      <td>1.0</td>\n",
       "      <td>2.050417</td>\n",
       "      <td>26</td>\n",
       "      <td>61</td>\n",
       "      <td>0.426230</td>\n",
       "      <td>57.593750</td>\n",
       "      <td>82.399052</td>\n",
       "      <td>315</td>\n",
       "      <td>183.628646</td>\n",
       "      <td>279.333463</td>\n",
       "      <td>1089.033333</td>\n",
       "      <td>0.011991</td>\n",
       "      <td>0</td>\n",
       "    </tr>\n",
       "    <tr>\n",
       "      <th>9</th>\n",
       "      <td>3277</td>\n",
       "      <td>31</td>\n",
       "      <td>258375</td>\n",
       "      <td>105.709677</td>\n",
       "      <td>2676</td>\n",
       "      <td>664572.01781</td>\n",
       "      <td>248.345298</td>\n",
       "      <td>1672</td>\n",
       "      <td>2300</td>\n",
       "      <td>63.285255</td>\n",
       "      <td>10501.214251</td>\n",
       "      <td>42.284732</td>\n",
       "      <td>0.624813</td>\n",
       "      <td>118.0</td>\n",
       "      <td>32.0</td>\n",
       "      <td>150.0</td>\n",
       "      <td>0.786667</td>\n",
       "      <td>77.0</td>\n",
       "      <td>40.0</td>\n",
       "      <td>16.0</td>\n",
       "      <td>1</td>\n",
       "      <td>1</td>\n",
       "      <td>1.0</td>\n",
       "      <td>2.0</td>\n",
       "      <td>3.0</td>\n",
       "      <td>17.0</td>\n",
       "      <td>12.0</td>\n",
       "      <td>34.0</td>\n",
       "      <td>1.0</td>\n",
       "      <td>2.452824</td>\n",
       "      <td>33</td>\n",
       "      <td>61</td>\n",
       "      <td>0.540984</td>\n",
       "      <td>107.258065</td>\n",
       "      <td>73.700732</td>\n",
       "      <td>249</td>\n",
       "      <td>352.667204</td>\n",
       "      <td>261.124374</td>\n",
       "      <td>851.400000</td>\n",
       "      <td>0.013387</td>\n",
       "      <td>0</td>\n",
       "    </tr>\n",
       "    <tr>\n",
       "      <th>74</th>\n",
       "      <td>2953</td>\n",
       "      <td>23</td>\n",
       "      <td>345381</td>\n",
       "      <td>128.391304</td>\n",
       "      <td>2400</td>\n",
       "      <td>601865.15156</td>\n",
       "      <td>250.777146</td>\n",
       "      <td>1557</td>\n",
       "      <td>2071</td>\n",
       "      <td>74.470567</td>\n",
       "      <td>8081.919807</td>\n",
       "      <td>32.227497</td>\n",
       "      <td>0.648750</td>\n",
       "      <td>135.0</td>\n",
       "      <td>25.0</td>\n",
       "      <td>160.0</td>\n",
       "      <td>0.843750</td>\n",
       "      <td>80.0</td>\n",
       "      <td>43.0</td>\n",
       "      <td>22.0</td>\n",
       "      <td>1</td>\n",
       "      <td>1</td>\n",
       "      <td>1.0</td>\n",
       "      <td>2.0</td>\n",
       "      <td>1.0</td>\n",
       "      <td>19.0</td>\n",
       "      <td>17.0</td>\n",
       "      <td>25.0</td>\n",
       "      <td>1.0</td>\n",
       "      <td>3.247037</td>\n",
       "      <td>24</td>\n",
       "      <td>61</td>\n",
       "      <td>0.393443</td>\n",
       "      <td>127.391304</td>\n",
       "      <td>119.577947</td>\n",
       "      <td>327</td>\n",
       "      <td>433.221739</td>\n",
       "      <td>412.330139</td>\n",
       "      <td>1122.716667</td>\n",
       "      <td>0.008293</td>\n",
       "      <td>0</td>\n",
       "    </tr>\n",
       "    <tr>\n",
       "      <th>54</th>\n",
       "      <td>3534</td>\n",
       "      <td>37</td>\n",
       "      <td>401370</td>\n",
       "      <td>95.513514</td>\n",
       "      <td>2841</td>\n",
       "      <td>711344.91954</td>\n",
       "      <td>250.385399</td>\n",
       "      <td>1744</td>\n",
       "      <td>2414</td>\n",
       "      <td>130.981644</td>\n",
       "      <td>5430.874895</td>\n",
       "      <td>21.690062</td>\n",
       "      <td>0.613868</td>\n",
       "      <td>163.0</td>\n",
       "      <td>29.0</td>\n",
       "      <td>192.0</td>\n",
       "      <td>0.848958</td>\n",
       "      <td>72.0</td>\n",
       "      <td>33.0</td>\n",
       "      <td>47.0</td>\n",
       "      <td>1</td>\n",
       "      <td>1</td>\n",
       "      <td>1.0</td>\n",
       "      <td>1.0</td>\n",
       "      <td>1.0</td>\n",
       "      <td>20.0</td>\n",
       "      <td>17.0</td>\n",
       "      <td>36.0</td>\n",
       "      <td>1.0</td>\n",
       "      <td>20.229954</td>\n",
       "      <td>31</td>\n",
       "      <td>61</td>\n",
       "      <td>0.508197</td>\n",
       "      <td>94.513514</td>\n",
       "      <td>114.106340</td>\n",
       "      <td>581</td>\n",
       "      <td>323.239640</td>\n",
       "      <td>403.132195</td>\n",
       "      <td>2043.200000</td>\n",
       "      <td>0.008688</td>\n",
       "      <td>1</td>\n",
       "    </tr>\n",
       "    <tr>\n",
       "      <th>4</th>\n",
       "      <td>2504</td>\n",
       "      <td>22</td>\n",
       "      <td>380347</td>\n",
       "      <td>113.818182</td>\n",
       "      <td>2048</td>\n",
       "      <td>506140.04138</td>\n",
       "      <td>247.138692</td>\n",
       "      <td>1342</td>\n",
       "      <td>1799</td>\n",
       "      <td>65.158021</td>\n",
       "      <td>7767.885441</td>\n",
       "      <td>31.431280</td>\n",
       "      <td>0.655273</td>\n",
       "      <td>95.0</td>\n",
       "      <td>26.0</td>\n",
       "      <td>121.0</td>\n",
       "      <td>0.785124</td>\n",
       "      <td>59.0</td>\n",
       "      <td>46.0</td>\n",
       "      <td>4.0</td>\n",
       "      <td>1</td>\n",
       "      <td>1</td>\n",
       "      <td>0.0</td>\n",
       "      <td>1.0</td>\n",
       "      <td>4.0</td>\n",
       "      <td>14.0</td>\n",
       "      <td>10.0</td>\n",
       "      <td>24.0</td>\n",
       "      <td>1.0</td>\n",
       "      <td>2.360278</td>\n",
       "      <td>26</td>\n",
       "      <td>61</td>\n",
       "      <td>0.426230</td>\n",
       "      <td>112.818182</td>\n",
       "      <td>150.901619</td>\n",
       "      <td>522</td>\n",
       "      <td>379.487879</td>\n",
       "      <td>526.184277</td>\n",
       "      <td>1836.600000</td>\n",
       "      <td>0.006583</td>\n",
       "      <td>0</td>\n",
       "    </tr>\n",
       "  </tbody>\n",
       "</table>\n",
       "</div>"
      ],
      "text/plain": [
       "    total_events  num_sessions  total_interactions  events_per_session  \\\n",
       "30          1825            32              158008           57.031250   \n",
       "9           3277            31              258375          105.709677   \n",
       "74          2953            23              345381          128.391304   \n",
       "54          3534            37              401370           95.513514   \n",
       "4           2504            22              380347          113.818182   \n",
       "\n",
       "    songs_played  total_listening_time  avg_song_length  unique_artists  \\\n",
       "30          1417          359808.24564       253.922545            1018   \n",
       "9           2676          664572.01781       248.345298            1672   \n",
       "74          2400          601865.15156       250.777146            1557   \n",
       "54          2841          711344.91954       250.385399            1744   \n",
       "4           2048          506140.04138       247.138692            1342   \n",
       "\n",
       "    unique_songs  days_since_registration  avg_daily_listening_time  \\\n",
       "30          1272                65.117060               5525.560347   \n",
       "9           2300                63.285255              10501.214251   \n",
       "74          2071                74.470567               8081.919807   \n",
       "54          2414               130.981644               5430.874895   \n",
       "4           1799                65.158021               7767.885441   \n",
       "\n",
       "    avg_daily_songs  artist_diversity  thumbs_up  thumbs_down  total_feedback  \\\n",
       "30        21.760810          0.718419       62.0         17.0            79.0   \n",
       "9         42.284732          0.624813      118.0         32.0           150.0   \n",
       "74        32.227497          0.648750      135.0         25.0           160.0   \n",
       "54        21.690062          0.613868      163.0         29.0           192.0   \n",
       "4         31.431280          0.655273       95.0         26.0           121.0   \n",
       "\n",
       "    positive_feedback_ratio  playlist_adds  add_friend  advert_roll  is_paid  \\\n",
       "30                 0.784810           47.0        25.0         72.0        1   \n",
       "9                  0.786667           77.0        40.0         16.0        1   \n",
       "74                 0.843750           80.0        43.0         22.0        1   \n",
       "54                 0.848958           72.0        33.0         47.0        1   \n",
       "4                  0.785124           59.0        46.0          4.0        1   \n",
       "\n",
       "    subscription_changes  downgrades  upgrades  error_count  help_visits  \\\n",
       "30                     1         1.0       1.0          1.0          7.0   \n",
       "9                      1         1.0       2.0          3.0         17.0   \n",
       "74                     1         1.0       2.0          1.0         19.0   \n",
       "54                     1         1.0       1.0          1.0         20.0   \n",
       "4                      1         0.0       1.0          4.0         14.0   \n",
       "\n",
       "    settings_visits  logout_count  has_issues  days_since_last_activity  \\\n",
       "30             13.0          20.0         1.0                  2.050417   \n",
       "9              12.0          34.0         1.0                  2.452824   \n",
       "74             17.0          25.0         1.0                  3.247037   \n",
       "54             17.0          36.0         1.0                 20.229954   \n",
       "4              10.0          24.0         1.0                  2.360278   \n",
       "\n",
       "    days_used_in_period  days_available_in_period  usage_frequency  \\\n",
       "30                   26                        61         0.426230   \n",
       "9                    33                        61         0.540984   \n",
       "74                   24                        61         0.393443   \n",
       "54                   31                        61         0.508197   \n",
       "4                    26                        61         0.426230   \n",
       "\n",
       "    avg_session_length  session_length_std  max_session_length  \\\n",
       "30           57.593750           82.399052                 315   \n",
       "9           107.258065           73.700732                 249   \n",
       "74          127.391304          119.577947                 327   \n",
       "54           94.513514          114.106340                 581   \n",
       "4           112.818182          150.901619                 522   \n",
       "\n",
       "    avg_session_duration_mins  session_duration_std_mins  \\\n",
       "30                 183.628646                 279.333463   \n",
       "9                  352.667204                 261.124374   \n",
       "74                 433.221739                 412.330139   \n",
       "54                 323.239640                 403.132195   \n",
       "4                  379.487879                 526.184277   \n",
       "\n",
       "    max_session_duration_mins  session_consistency  is_churned  \n",
       "30                1089.033333             0.011991           0  \n",
       "9                  851.400000             0.013387           0  \n",
       "74                1122.716667             0.008293           0  \n",
       "54                2043.200000             0.008688           1  \n",
       "4                 1836.600000             0.006583           0  "
      ]
     },
     "execution_count": 280,
     "metadata": {},
     "output_type": "execute_result"
    }
   ],
   "source": [
    "# Get all unique users from window\n",
    "all_users = window_df['userId'].dropna().unique()\n",
    "final_features = pd.DataFrame(index=all_users)\n",
    "\n",
    "# List of all feature DataFrames\n",
    "feature_sets = [\n",
    "    user_activity,           # Activity features\n",
    "    listening_features,      # Listening features  \n",
    "    engagement_features,     # Engagement features\n",
    "    subscription_features,   # Subscription features\n",
    "    issue_features,          # Problem/issue features\n",
    "    temporal_features,       # Temporal features\n",
    "    session_features         # Session features\n",
    "]\n",
    "\n",
    "# Merge all feature sets\n",
    "for i, feature_set in enumerate(feature_sets):\n",
    "    final_features = final_features.join(feature_set, how='left')\n",
    "\n",
    "# Fill any remaining NaNs with 0\n",
    "final_features = final_features.fillna(0)\n",
    "\n",
    "#Drop date column(s)\n",
    "final_features = final_features.drop(columns = \"registration_date\")\n",
    "\n",
    "#Add label column\n",
    "final_features['is_churned'] = final_features.index.isin(churn_analysis['total_churn']).astype(int)\n",
    "\n",
    "print(f\"Users: {len(final_features):,}\")\n",
    "print(f\"Features: {len(final_features.columns)-1:,} (+ 1 target column)\")\n",
    "print(f\"Churn rate: {final_features['is_churned'].mean():.1%}\")\n",
    "\n",
    "\n",
    "print(f\"\\nFeature columns:\")\n",
    "feature_cols = [col for col in final_features.columns if col not in ['is_churned']]\n",
    "for i, col in enumerate(feature_cols, 1):\n",
    "    print(f\"{i:2d}. {col}\")\n",
    "\n",
    "print(f\"\\nSample of final features:\")\n",
    "final_features.head()"
   ]
  },
  {
   "cell_type": "markdown",
   "metadata": {},
   "source": [
    "### Feature Selection"
   ]
  },
  {
   "cell_type": "code",
   "execution_count": 281,
   "metadata": {},
   "outputs": [
    {
     "name": "stdout",
     "output_type": "stream",
     "text": [
      "Top 10 features correlated with churn:\n",
      "is_churned                  1.000000\n",
      "days_since_last_activity    0.693251\n",
      "positive_feedback_ratio     0.236942\n",
      "usage_frequency             0.206271\n",
      "days_used_in_period         0.197511\n",
      "error_count                 0.190591\n",
      "add_friend                  0.180956\n",
      "thumbs_up                   0.168105\n",
      "unique_artists              0.161657\n",
      "unique_songs                0.159024\n",
      "Name: is_churned, dtype: float64\n"
     ]
    }
   ],
   "source": [
    "# Find features most correlated with churn\n",
    "numeric_features = final_features.select_dtypes(include=[np.number]).columns\n",
    "feature_cols = [col for col in numeric_features if col not in ['is_churned']]\n",
    "\n",
    "correlations = final_features[feature_cols + ['is_churned']].corr()['is_churned'].abs().sort_values(ascending=False)\n",
    "\n",
    "print(\"Top 10 features correlated with churn:\")\n",
    "print(correlations.head(10))"
   ]
  },
  {
   "cell_type": "markdown",
   "metadata": {},
   "source": [
    "## Observation:\n",
    "### Temporal patterns (usage frequency, consistency) are strongest predictors\n",
    "### Technical issues are major churn drivers\n",
    "### Content diversity shows engaged users\n"
   ]
  },
  {
   "cell_type": "markdown",
   "metadata": {},
   "source": [
    "## Model Training"
   ]
  },
  {
   "cell_type": "code",
   "execution_count": 282,
   "metadata": {},
   "outputs": [
    {
     "data": {
      "text/html": [
       "<div>\n",
       "<style scoped>\n",
       "    .dataframe tbody tr th:only-of-type {\n",
       "        vertical-align: middle;\n",
       "    }\n",
       "\n",
       "    .dataframe tbody tr th {\n",
       "        vertical-align: top;\n",
       "    }\n",
       "\n",
       "    .dataframe thead th {\n",
       "        text-align: right;\n",
       "    }\n",
       "</style>\n",
       "<table border=\"1\" class=\"dataframe\">\n",
       "  <thead>\n",
       "    <tr style=\"text-align: right;\">\n",
       "      <th></th>\n",
       "      <th>total_events</th>\n",
       "      <th>num_sessions</th>\n",
       "      <th>total_interactions</th>\n",
       "      <th>events_per_session</th>\n",
       "      <th>songs_played</th>\n",
       "      <th>total_listening_time</th>\n",
       "      <th>avg_song_length</th>\n",
       "      <th>unique_artists</th>\n",
       "      <th>unique_songs</th>\n",
       "      <th>days_since_registration</th>\n",
       "      <th>avg_daily_listening_time</th>\n",
       "      <th>avg_daily_songs</th>\n",
       "      <th>artist_diversity</th>\n",
       "      <th>thumbs_up</th>\n",
       "      <th>thumbs_down</th>\n",
       "      <th>total_feedback</th>\n",
       "      <th>positive_feedback_ratio</th>\n",
       "      <th>playlist_adds</th>\n",
       "      <th>add_friend</th>\n",
       "      <th>advert_roll</th>\n",
       "      <th>is_paid</th>\n",
       "      <th>subscription_changes</th>\n",
       "      <th>downgrades</th>\n",
       "      <th>upgrades</th>\n",
       "      <th>error_count</th>\n",
       "      <th>help_visits</th>\n",
       "      <th>settings_visits</th>\n",
       "      <th>logout_count</th>\n",
       "      <th>has_issues</th>\n",
       "      <th>days_since_last_activity</th>\n",
       "      <th>days_used_in_period</th>\n",
       "      <th>days_available_in_period</th>\n",
       "      <th>usage_frequency</th>\n",
       "      <th>avg_session_length</th>\n",
       "      <th>session_length_std</th>\n",
       "      <th>max_session_length</th>\n",
       "      <th>avg_session_duration_mins</th>\n",
       "      <th>session_duration_std_mins</th>\n",
       "      <th>max_session_duration_mins</th>\n",
       "      <th>session_consistency</th>\n",
       "      <th>is_churned</th>\n",
       "    </tr>\n",
       "  </thead>\n",
       "  <tbody>\n",
       "    <tr>\n",
       "      <th>30</th>\n",
       "      <td>1825</td>\n",
       "      <td>32</td>\n",
       "      <td>158008</td>\n",
       "      <td>57.031250</td>\n",
       "      <td>1417</td>\n",
       "      <td>359808.24564</td>\n",
       "      <td>253.922545</td>\n",
       "      <td>1018</td>\n",
       "      <td>1272</td>\n",
       "      <td>65.117060</td>\n",
       "      <td>5525.560347</td>\n",
       "      <td>21.760810</td>\n",
       "      <td>0.718419</td>\n",
       "      <td>62.0</td>\n",
       "      <td>17.0</td>\n",
       "      <td>79.0</td>\n",
       "      <td>0.784810</td>\n",
       "      <td>47.0</td>\n",
       "      <td>25.0</td>\n",
       "      <td>72.0</td>\n",
       "      <td>1</td>\n",
       "      <td>1</td>\n",
       "      <td>1.0</td>\n",
       "      <td>1.0</td>\n",
       "      <td>1.0</td>\n",
       "      <td>7.0</td>\n",
       "      <td>13.0</td>\n",
       "      <td>20.0</td>\n",
       "      <td>1.0</td>\n",
       "      <td>2.050417</td>\n",
       "      <td>26</td>\n",
       "      <td>61</td>\n",
       "      <td>0.426230</td>\n",
       "      <td>57.593750</td>\n",
       "      <td>82.399052</td>\n",
       "      <td>315</td>\n",
       "      <td>183.628646</td>\n",
       "      <td>279.333463</td>\n",
       "      <td>1089.033333</td>\n",
       "      <td>0.011991</td>\n",
       "      <td>0</td>\n",
       "    </tr>\n",
       "    <tr>\n",
       "      <th>9</th>\n",
       "      <td>3277</td>\n",
       "      <td>31</td>\n",
       "      <td>258375</td>\n",
       "      <td>105.709677</td>\n",
       "      <td>2676</td>\n",
       "      <td>664572.01781</td>\n",
       "      <td>248.345298</td>\n",
       "      <td>1672</td>\n",
       "      <td>2300</td>\n",
       "      <td>63.285255</td>\n",
       "      <td>10501.214251</td>\n",
       "      <td>42.284732</td>\n",
       "      <td>0.624813</td>\n",
       "      <td>118.0</td>\n",
       "      <td>32.0</td>\n",
       "      <td>150.0</td>\n",
       "      <td>0.786667</td>\n",
       "      <td>77.0</td>\n",
       "      <td>40.0</td>\n",
       "      <td>16.0</td>\n",
       "      <td>1</td>\n",
       "      <td>1</td>\n",
       "      <td>1.0</td>\n",
       "      <td>2.0</td>\n",
       "      <td>3.0</td>\n",
       "      <td>17.0</td>\n",
       "      <td>12.0</td>\n",
       "      <td>34.0</td>\n",
       "      <td>1.0</td>\n",
       "      <td>2.452824</td>\n",
       "      <td>33</td>\n",
       "      <td>61</td>\n",
       "      <td>0.540984</td>\n",
       "      <td>107.258065</td>\n",
       "      <td>73.700732</td>\n",
       "      <td>249</td>\n",
       "      <td>352.667204</td>\n",
       "      <td>261.124374</td>\n",
       "      <td>851.400000</td>\n",
       "      <td>0.013387</td>\n",
       "      <td>0</td>\n",
       "    </tr>\n",
       "    <tr>\n",
       "      <th>74</th>\n",
       "      <td>2953</td>\n",
       "      <td>23</td>\n",
       "      <td>345381</td>\n",
       "      <td>128.391304</td>\n",
       "      <td>2400</td>\n",
       "      <td>601865.15156</td>\n",
       "      <td>250.777146</td>\n",
       "      <td>1557</td>\n",
       "      <td>2071</td>\n",
       "      <td>74.470567</td>\n",
       "      <td>8081.919807</td>\n",
       "      <td>32.227497</td>\n",
       "      <td>0.648750</td>\n",
       "      <td>135.0</td>\n",
       "      <td>25.0</td>\n",
       "      <td>160.0</td>\n",
       "      <td>0.843750</td>\n",
       "      <td>80.0</td>\n",
       "      <td>43.0</td>\n",
       "      <td>22.0</td>\n",
       "      <td>1</td>\n",
       "      <td>1</td>\n",
       "      <td>1.0</td>\n",
       "      <td>2.0</td>\n",
       "      <td>1.0</td>\n",
       "      <td>19.0</td>\n",
       "      <td>17.0</td>\n",
       "      <td>25.0</td>\n",
       "      <td>1.0</td>\n",
       "      <td>3.247037</td>\n",
       "      <td>24</td>\n",
       "      <td>61</td>\n",
       "      <td>0.393443</td>\n",
       "      <td>127.391304</td>\n",
       "      <td>119.577947</td>\n",
       "      <td>327</td>\n",
       "      <td>433.221739</td>\n",
       "      <td>412.330139</td>\n",
       "      <td>1122.716667</td>\n",
       "      <td>0.008293</td>\n",
       "      <td>0</td>\n",
       "    </tr>\n",
       "    <tr>\n",
       "      <th>54</th>\n",
       "      <td>3534</td>\n",
       "      <td>37</td>\n",
       "      <td>401370</td>\n",
       "      <td>95.513514</td>\n",
       "      <td>2841</td>\n",
       "      <td>711344.91954</td>\n",
       "      <td>250.385399</td>\n",
       "      <td>1744</td>\n",
       "      <td>2414</td>\n",
       "      <td>130.981644</td>\n",
       "      <td>5430.874895</td>\n",
       "      <td>21.690062</td>\n",
       "      <td>0.613868</td>\n",
       "      <td>163.0</td>\n",
       "      <td>29.0</td>\n",
       "      <td>192.0</td>\n",
       "      <td>0.848958</td>\n",
       "      <td>72.0</td>\n",
       "      <td>33.0</td>\n",
       "      <td>47.0</td>\n",
       "      <td>1</td>\n",
       "      <td>1</td>\n",
       "      <td>1.0</td>\n",
       "      <td>1.0</td>\n",
       "      <td>1.0</td>\n",
       "      <td>20.0</td>\n",
       "      <td>17.0</td>\n",
       "      <td>36.0</td>\n",
       "      <td>1.0</td>\n",
       "      <td>20.229954</td>\n",
       "      <td>31</td>\n",
       "      <td>61</td>\n",
       "      <td>0.508197</td>\n",
       "      <td>94.513514</td>\n",
       "      <td>114.106340</td>\n",
       "      <td>581</td>\n",
       "      <td>323.239640</td>\n",
       "      <td>403.132195</td>\n",
       "      <td>2043.200000</td>\n",
       "      <td>0.008688</td>\n",
       "      <td>1</td>\n",
       "    </tr>\n",
       "    <tr>\n",
       "      <th>4</th>\n",
       "      <td>2504</td>\n",
       "      <td>22</td>\n",
       "      <td>380347</td>\n",
       "      <td>113.818182</td>\n",
       "      <td>2048</td>\n",
       "      <td>506140.04138</td>\n",
       "      <td>247.138692</td>\n",
       "      <td>1342</td>\n",
       "      <td>1799</td>\n",
       "      <td>65.158021</td>\n",
       "      <td>7767.885441</td>\n",
       "      <td>31.431280</td>\n",
       "      <td>0.655273</td>\n",
       "      <td>95.0</td>\n",
       "      <td>26.0</td>\n",
       "      <td>121.0</td>\n",
       "      <td>0.785124</td>\n",
       "      <td>59.0</td>\n",
       "      <td>46.0</td>\n",
       "      <td>4.0</td>\n",
       "      <td>1</td>\n",
       "      <td>1</td>\n",
       "      <td>0.0</td>\n",
       "      <td>1.0</td>\n",
       "      <td>4.0</td>\n",
       "      <td>14.0</td>\n",
       "      <td>10.0</td>\n",
       "      <td>24.0</td>\n",
       "      <td>1.0</td>\n",
       "      <td>2.360278</td>\n",
       "      <td>26</td>\n",
       "      <td>61</td>\n",
       "      <td>0.426230</td>\n",
       "      <td>112.818182</td>\n",
       "      <td>150.901619</td>\n",
       "      <td>522</td>\n",
       "      <td>379.487879</td>\n",
       "      <td>526.184277</td>\n",
       "      <td>1836.600000</td>\n",
       "      <td>0.006583</td>\n",
       "      <td>0</td>\n",
       "    </tr>\n",
       "    <tr>\n",
       "      <th>...</th>\n",
       "      <td>...</td>\n",
       "      <td>...</td>\n",
       "      <td>...</td>\n",
       "      <td>...</td>\n",
       "      <td>...</td>\n",
       "      <td>...</td>\n",
       "      <td>...</td>\n",
       "      <td>...</td>\n",
       "      <td>...</td>\n",
       "      <td>...</td>\n",
       "      <td>...</td>\n",
       "      <td>...</td>\n",
       "      <td>...</td>\n",
       "      <td>...</td>\n",
       "      <td>...</td>\n",
       "      <td>...</td>\n",
       "      <td>...</td>\n",
       "      <td>...</td>\n",
       "      <td>...</td>\n",
       "      <td>...</td>\n",
       "      <td>...</td>\n",
       "      <td>...</td>\n",
       "      <td>...</td>\n",
       "      <td>...</td>\n",
       "      <td>...</td>\n",
       "      <td>...</td>\n",
       "      <td>...</td>\n",
       "      <td>...</td>\n",
       "      <td>...</td>\n",
       "      <td>...</td>\n",
       "      <td>...</td>\n",
       "      <td>...</td>\n",
       "      <td>...</td>\n",
       "      <td>...</td>\n",
       "      <td>...</td>\n",
       "      <td>...</td>\n",
       "      <td>...</td>\n",
       "      <td>...</td>\n",
       "      <td>...</td>\n",
       "      <td>...</td>\n",
       "      <td>...</td>\n",
       "    </tr>\n",
       "    <tr>\n",
       "      <th>153</th>\n",
       "      <td>1165</td>\n",
       "      <td>9</td>\n",
       "      <td>164336</td>\n",
       "      <td>129.444444</td>\n",
       "      <td>941</td>\n",
       "      <td>233495.71048</td>\n",
       "      <td>248.135718</td>\n",
       "      <td>723</td>\n",
       "      <td>866</td>\n",
       "      <td>29.811794</td>\n",
       "      <td>7832.326717</td>\n",
       "      <td>31.564689</td>\n",
       "      <td>0.768332</td>\n",
       "      <td>52.0</td>\n",
       "      <td>4.0</td>\n",
       "      <td>56.0</td>\n",
       "      <td>0.928571</td>\n",
       "      <td>32.0</td>\n",
       "      <td>16.0</td>\n",
       "      <td>0.0</td>\n",
       "      <td>1</td>\n",
       "      <td>1</td>\n",
       "      <td>0.0</td>\n",
       "      <td>1.0</td>\n",
       "      <td>3.0</td>\n",
       "      <td>8.0</td>\n",
       "      <td>3.0</td>\n",
       "      <td>12.0</td>\n",
       "      <td>1.0</td>\n",
       "      <td>2.446632</td>\n",
       "      <td>13</td>\n",
       "      <td>31</td>\n",
       "      <td>0.419355</td>\n",
       "      <td>128.444444</td>\n",
       "      <td>149.597051</td>\n",
       "      <td>514</td>\n",
       "      <td>437.192593</td>\n",
       "      <td>517.009252</td>\n",
       "      <td>1764.000000</td>\n",
       "      <td>0.006640</td>\n",
       "      <td>0</td>\n",
       "    </tr>\n",
       "    <tr>\n",
       "      <th>22</th>\n",
       "      <td>40</td>\n",
       "      <td>2</td>\n",
       "      <td>605</td>\n",
       "      <td>20.000000</td>\n",
       "      <td>28</td>\n",
       "      <td>7403.82080</td>\n",
       "      <td>264.422171</td>\n",
       "      <td>28</td>\n",
       "      <td>28</td>\n",
       "      <td>70.815544</td>\n",
       "      <td>104.550786</td>\n",
       "      <td>0.395393</td>\n",
       "      <td>1.000000</td>\n",
       "      <td>3.0</td>\n",
       "      <td>0.0</td>\n",
       "      <td>3.0</td>\n",
       "      <td>1.000000</td>\n",
       "      <td>0.0</td>\n",
       "      <td>3.0</td>\n",
       "      <td>4.0</td>\n",
       "      <td>0</td>\n",
       "      <td>0</td>\n",
       "      <td>0.0</td>\n",
       "      <td>0.0</td>\n",
       "      <td>0.0</td>\n",
       "      <td>0.0</td>\n",
       "      <td>0.0</td>\n",
       "      <td>0.0</td>\n",
       "      <td>0.0</td>\n",
       "      <td>9.326030</td>\n",
       "      <td>2</td>\n",
       "      <td>61</td>\n",
       "      <td>0.032787</td>\n",
       "      <td>19.000000</td>\n",
       "      <td>21.213203</td>\n",
       "      <td>34</td>\n",
       "      <td>53.316667</td>\n",
       "      <td>68.683639</td>\n",
       "      <td>101.883333</td>\n",
       "      <td>0.045018</td>\n",
       "      <td>0</td>\n",
       "    </tr>\n",
       "    <tr>\n",
       "      <th>84</th>\n",
       "      <td>104</td>\n",
       "      <td>3</td>\n",
       "      <td>1859</td>\n",
       "      <td>34.666667</td>\n",
       "      <td>73</td>\n",
       "      <td>18111.52284</td>\n",
       "      <td>248.103053</td>\n",
       "      <td>69</td>\n",
       "      <td>71</td>\n",
       "      <td>69.188299</td>\n",
       "      <td>261.771473</td>\n",
       "      <td>1.055092</td>\n",
       "      <td>0.945205</td>\n",
       "      <td>4.0</td>\n",
       "      <td>0.0</td>\n",
       "      <td>4.0</td>\n",
       "      <td>1.000000</td>\n",
       "      <td>2.0</td>\n",
       "      <td>0.0</td>\n",
       "      <td>10.0</td>\n",
       "      <td>0</td>\n",
       "      <td>0</td>\n",
       "      <td>0.0</td>\n",
       "      <td>0.0</td>\n",
       "      <td>0.0</td>\n",
       "      <td>1.0</td>\n",
       "      <td>0.0</td>\n",
       "      <td>3.0</td>\n",
       "      <td>1.0</td>\n",
       "      <td>16.720127</td>\n",
       "      <td>3</td>\n",
       "      <td>61</td>\n",
       "      <td>0.049180</td>\n",
       "      <td>33.666667</td>\n",
       "      <td>10.408330</td>\n",
       "      <td>42</td>\n",
       "      <td>96.027778</td>\n",
       "      <td>48.202940</td>\n",
       "      <td>141.416667</td>\n",
       "      <td>0.087655</td>\n",
       "      <td>0</td>\n",
       "    </tr>\n",
       "    <tr>\n",
       "      <th>156</th>\n",
       "      <td>15</td>\n",
       "      <td>1</td>\n",
       "      <td>105</td>\n",
       "      <td>15.000000</td>\n",
       "      <td>3</td>\n",
       "      <td>691.66884</td>\n",
       "      <td>230.556280</td>\n",
       "      <td>3</td>\n",
       "      <td>3</td>\n",
       "      <td>6.390301</td>\n",
       "      <td>108.237288</td>\n",
       "      <td>0.469461</td>\n",
       "      <td>1.000000</td>\n",
       "      <td>0.0</td>\n",
       "      <td>0.0</td>\n",
       "      <td>0.0</td>\n",
       "      <td>0.000000</td>\n",
       "      <td>0.0</td>\n",
       "      <td>0.0</td>\n",
       "      <td>0.0</td>\n",
       "      <td>0</td>\n",
       "      <td>0</td>\n",
       "      <td>0.0</td>\n",
       "      <td>0.0</td>\n",
       "      <td>0.0</td>\n",
       "      <td>1.0</td>\n",
       "      <td>1.0</td>\n",
       "      <td>0.0</td>\n",
       "      <td>1.0</td>\n",
       "      <td>6.076574</td>\n",
       "      <td>1</td>\n",
       "      <td>8</td>\n",
       "      <td>0.125000</td>\n",
       "      <td>14.000000</td>\n",
       "      <td>0.000000</td>\n",
       "      <td>14</td>\n",
       "      <td>10.883333</td>\n",
       "      <td>0.000000</td>\n",
       "      <td>10.883333</td>\n",
       "      <td>1.000000</td>\n",
       "      <td>0</td>\n",
       "    </tr>\n",
       "    <tr>\n",
       "      <th>200012</th>\n",
       "      <td>87</td>\n",
       "      <td>2</td>\n",
       "      <td>2031</td>\n",
       "      <td>43.500000</td>\n",
       "      <td>66</td>\n",
       "      <td>16472.36843</td>\n",
       "      <td>249.581340</td>\n",
       "      <td>66</td>\n",
       "      <td>66</td>\n",
       "      <td>67.826620</td>\n",
       "      <td>242.859932</td>\n",
       "      <td>0.973069</td>\n",
       "      <td>1.000000</td>\n",
       "      <td>3.0</td>\n",
       "      <td>1.0</td>\n",
       "      <td>4.0</td>\n",
       "      <td>0.750000</td>\n",
       "      <td>0.0</td>\n",
       "      <td>3.0</td>\n",
       "      <td>8.0</td>\n",
       "      <td>0</td>\n",
       "      <td>0</td>\n",
       "      <td>0.0</td>\n",
       "      <td>0.0</td>\n",
       "      <td>0.0</td>\n",
       "      <td>0.0</td>\n",
       "      <td>1.0</td>\n",
       "      <td>1.0</td>\n",
       "      <td>0.0</td>\n",
       "      <td>2.114954</td>\n",
       "      <td>2</td>\n",
       "      <td>61</td>\n",
       "      <td>0.032787</td>\n",
       "      <td>42.500000</td>\n",
       "      <td>19.091883</td>\n",
       "      <td>56</td>\n",
       "      <td>133.533333</td>\n",
       "      <td>46.433345</td>\n",
       "      <td>166.366667</td>\n",
       "      <td>0.049771</td>\n",
       "      <td>0</td>\n",
       "    </tr>\n",
       "  </tbody>\n",
       "</table>\n",
       "<p>225 rows × 41 columns</p>\n",
       "</div>"
      ],
      "text/plain": [
       "        total_events  num_sessions  total_interactions  events_per_session  \\\n",
       "30              1825            32              158008           57.031250   \n",
       "9               3277            31              258375          105.709677   \n",
       "74              2953            23              345381          128.391304   \n",
       "54              3534            37              401370           95.513514   \n",
       "4               2504            22              380347          113.818182   \n",
       "...              ...           ...                 ...                 ...   \n",
       "153             1165             9              164336          129.444444   \n",
       "22                40             2                 605           20.000000   \n",
       "84               104             3                1859           34.666667   \n",
       "156               15             1                 105           15.000000   \n",
       "200012            87             2                2031           43.500000   \n",
       "\n",
       "        songs_played  total_listening_time  avg_song_length  unique_artists  \\\n",
       "30              1417          359808.24564       253.922545            1018   \n",
       "9               2676          664572.01781       248.345298            1672   \n",
       "74              2400          601865.15156       250.777146            1557   \n",
       "54              2841          711344.91954       250.385399            1744   \n",
       "4               2048          506140.04138       247.138692            1342   \n",
       "...              ...                   ...              ...             ...   \n",
       "153              941          233495.71048       248.135718             723   \n",
       "22                28            7403.82080       264.422171              28   \n",
       "84                73           18111.52284       248.103053              69   \n",
       "156                3             691.66884       230.556280               3   \n",
       "200012            66           16472.36843       249.581340              66   \n",
       "\n",
       "        unique_songs  days_since_registration  avg_daily_listening_time  \\\n",
       "30              1272                65.117060               5525.560347   \n",
       "9               2300                63.285255              10501.214251   \n",
       "74              2071                74.470567               8081.919807   \n",
       "54              2414               130.981644               5430.874895   \n",
       "4               1799                65.158021               7767.885441   \n",
       "...              ...                      ...                       ...   \n",
       "153              866                29.811794               7832.326717   \n",
       "22                28                70.815544                104.550786   \n",
       "84                71                69.188299                261.771473   \n",
       "156                3                 6.390301                108.237288   \n",
       "200012            66                67.826620                242.859932   \n",
       "\n",
       "        avg_daily_songs  artist_diversity  thumbs_up  thumbs_down  \\\n",
       "30            21.760810          0.718419       62.0         17.0   \n",
       "9             42.284732          0.624813      118.0         32.0   \n",
       "74            32.227497          0.648750      135.0         25.0   \n",
       "54            21.690062          0.613868      163.0         29.0   \n",
       "4             31.431280          0.655273       95.0         26.0   \n",
       "...                 ...               ...        ...          ...   \n",
       "153           31.564689          0.768332       52.0          4.0   \n",
       "22             0.395393          1.000000        3.0          0.0   \n",
       "84             1.055092          0.945205        4.0          0.0   \n",
       "156            0.469461          1.000000        0.0          0.0   \n",
       "200012         0.973069          1.000000        3.0          1.0   \n",
       "\n",
       "        total_feedback  positive_feedback_ratio  playlist_adds  add_friend  \\\n",
       "30                79.0                 0.784810           47.0        25.0   \n",
       "9                150.0                 0.786667           77.0        40.0   \n",
       "74               160.0                 0.843750           80.0        43.0   \n",
       "54               192.0                 0.848958           72.0        33.0   \n",
       "4                121.0                 0.785124           59.0        46.0   \n",
       "...                ...                      ...            ...         ...   \n",
       "153               56.0                 0.928571           32.0        16.0   \n",
       "22                 3.0                 1.000000            0.0         3.0   \n",
       "84                 4.0                 1.000000            2.0         0.0   \n",
       "156                0.0                 0.000000            0.0         0.0   \n",
       "200012             4.0                 0.750000            0.0         3.0   \n",
       "\n",
       "        advert_roll  is_paid  subscription_changes  downgrades  upgrades  \\\n",
       "30             72.0        1                     1         1.0       1.0   \n",
       "9              16.0        1                     1         1.0       2.0   \n",
       "74             22.0        1                     1         1.0       2.0   \n",
       "54             47.0        1                     1         1.0       1.0   \n",
       "4               4.0        1                     1         0.0       1.0   \n",
       "...             ...      ...                   ...         ...       ...   \n",
       "153             0.0        1                     1         0.0       1.0   \n",
       "22              4.0        0                     0         0.0       0.0   \n",
       "84             10.0        0                     0         0.0       0.0   \n",
       "156             0.0        0                     0         0.0       0.0   \n",
       "200012          8.0        0                     0         0.0       0.0   \n",
       "\n",
       "        error_count  help_visits  settings_visits  logout_count  has_issues  \\\n",
       "30              1.0          7.0             13.0          20.0         1.0   \n",
       "9               3.0         17.0             12.0          34.0         1.0   \n",
       "74              1.0         19.0             17.0          25.0         1.0   \n",
       "54              1.0         20.0             17.0          36.0         1.0   \n",
       "4               4.0         14.0             10.0          24.0         1.0   \n",
       "...             ...          ...              ...           ...         ...   \n",
       "153             3.0          8.0              3.0          12.0         1.0   \n",
       "22              0.0          0.0              0.0           0.0         0.0   \n",
       "84              0.0          1.0              0.0           3.0         1.0   \n",
       "156             0.0          1.0              1.0           0.0         1.0   \n",
       "200012          0.0          0.0              1.0           1.0         0.0   \n",
       "\n",
       "        days_since_last_activity  days_used_in_period  \\\n",
       "30                      2.050417                   26   \n",
       "9                       2.452824                   33   \n",
       "74                      3.247037                   24   \n",
       "54                     20.229954                   31   \n",
       "4                       2.360278                   26   \n",
       "...                          ...                  ...   \n",
       "153                     2.446632                   13   \n",
       "22                      9.326030                    2   \n",
       "84                     16.720127                    3   \n",
       "156                     6.076574                    1   \n",
       "200012                  2.114954                    2   \n",
       "\n",
       "        days_available_in_period  usage_frequency  avg_session_length  \\\n",
       "30                            61         0.426230           57.593750   \n",
       "9                             61         0.540984          107.258065   \n",
       "74                            61         0.393443          127.391304   \n",
       "54                            61         0.508197           94.513514   \n",
       "4                             61         0.426230          112.818182   \n",
       "...                          ...              ...                 ...   \n",
       "153                           31         0.419355          128.444444   \n",
       "22                            61         0.032787           19.000000   \n",
       "84                            61         0.049180           33.666667   \n",
       "156                            8         0.125000           14.000000   \n",
       "200012                        61         0.032787           42.500000   \n",
       "\n",
       "        session_length_std  max_session_length  avg_session_duration_mins  \\\n",
       "30               82.399052                 315                 183.628646   \n",
       "9                73.700732                 249                 352.667204   \n",
       "74              119.577947                 327                 433.221739   \n",
       "54              114.106340                 581                 323.239640   \n",
       "4               150.901619                 522                 379.487879   \n",
       "...                    ...                 ...                        ...   \n",
       "153             149.597051                 514                 437.192593   \n",
       "22               21.213203                  34                  53.316667   \n",
       "84               10.408330                  42                  96.027778   \n",
       "156               0.000000                  14                  10.883333   \n",
       "200012           19.091883                  56                 133.533333   \n",
       "\n",
       "        session_duration_std_mins  max_session_duration_mins  \\\n",
       "30                     279.333463                1089.033333   \n",
       "9                      261.124374                 851.400000   \n",
       "74                     412.330139                1122.716667   \n",
       "54                     403.132195                2043.200000   \n",
       "4                      526.184277                1836.600000   \n",
       "...                           ...                        ...   \n",
       "153                    517.009252                1764.000000   \n",
       "22                      68.683639                 101.883333   \n",
       "84                      48.202940                 141.416667   \n",
       "156                      0.000000                  10.883333   \n",
       "200012                  46.433345                 166.366667   \n",
       "\n",
       "        session_consistency  is_churned  \n",
       "30                 0.011991           0  \n",
       "9                  0.013387           0  \n",
       "74                 0.008293           0  \n",
       "54                 0.008688           1  \n",
       "4                  0.006583           0  \n",
       "...                     ...         ...  \n",
       "153                0.006640           0  \n",
       "22                 0.045018           0  \n",
       "84                 0.087655           0  \n",
       "156                1.000000           0  \n",
       "200012             0.049771           0  \n",
       "\n",
       "[225 rows x 41 columns]"
      ]
     },
     "execution_count": 282,
     "metadata": {},
     "output_type": "execute_result"
    }
   ],
   "source": [
    "final_features"
   ]
  },
  {
   "cell_type": "code",
   "execution_count": 283,
   "metadata": {},
   "outputs": [
    {
     "name": "stdout",
     "output_type": "stream",
     "text": [
      "Training features: 40\n",
      "Training samples: 225\n",
      "Churn rate: 23.1%\n"
     ]
    }
   ],
   "source": [
    "features_to_drop = ['is_churned']\n",
    "X = final_features.drop(features_to_drop, axis=1)\n",
    "y = final_features['is_churned']\n",
    "\n",
    "print(f\"Training features: {X.shape[1]}\")\n",
    "print(f\"Training samples: {len(X)}\")\n",
    "print(f\"Churn rate: {y.mean():.1%}\")"
   ]
  },
  {
   "cell_type": "code",
   "execution_count": 284,
   "metadata": {},
   "outputs": [
    {
     "name": "stdout",
     "output_type": "stream",
     "text": [
      "Libraries imported successfully!\n",
      "Dataset shape: (225, 40)\n",
      "Target distribution: is_churned\n",
      "0    173\n",
      "1     52\n",
      "Name: count, dtype: int64\n",
      "Churn rate: 23.1%\n"
     ]
    }
   ],
   "source": [
    "import numpy as np\n",
    "import pandas as pd\n",
    "from sklearn.model_selection import (\n",
    "    StratifiedKFold, cross_val_score, cross_val_predict, \n",
    "    GridSearchCV, RepeatedStratifiedKFold\n",
    ")\n",
    "from sklearn.preprocessing import StandardScaler, RobustScaler\n",
    "from sklearn.ensemble import (\n",
    "    RandomForestClassifier, GradientBoostingClassifier, \n",
    "    VotingClassifier\n",
    ")\n",
    "from sklearn.linear_model import LogisticRegression\n",
    "from sklearn.metrics import (\n",
    "    classification_report, confusion_matrix, \n",
    "    precision_recall_fscore_support, f1_score\n",
    ")\n",
    "from sklearn.pipeline import Pipeline\n",
    "from sklearn.feature_selection import SelectKBest, f_classif\n",
    "import warnings\n",
    "warnings.filterwarnings('ignore')\n",
    "\n",
    "print(\"Libraries imported successfully!\")\n",
    "print(f\"Dataset shape: {X.shape}\")\n",
    "print(f\"Target distribution: {y.value_counts()}\")\n",
    "print(f\"Churn rate: {y.mean():.1%}\")"
   ]
  },
  {
   "cell_type": "code",
   "execution_count": 294,
   "metadata": {},
   "outputs": [
    {
     "name": "stdout",
     "output_type": "stream",
     "text": [
      "Model creation functions defined!\n"
     ]
    }
   ],
   "source": [
    "def create_models(seed=42):\n",
    "    \"\"\"Create multiple models with different approaches\"\"\"\n",
    "\n",
    "    class_counts = pd.Series(y).value_counts()\n",
    "    scale_pos_weight = class_counts[0] / class_counts[1]\n",
    "\n",
    "    models = {\n",
    "        'logistic_regression': Pipeline([\n",
    "            ('scaler', StandardScaler()),\n",
    "            ('feature_selection', SelectKBest(f_classif, k=25)),\n",
    "            ('model', LogisticRegression(\n",
    "                random_state=seed,\n",
    "                max_iter=5000,\n",
    "                class_weight={0: 1, 1: 3},\n",
    "                tol=1e-4\n",
    "            ))\n",
    "        ]),\n",
    "        \n",
    "        'random_forest': Pipeline([\n",
    "            ('scaler', RobustScaler()),\n",
    "            ('model', RandomForestClassifier(\n",
    "                random_state=seed,\n",
    "                class_weight={0: 1, 1: 3},\n",
    "                n_jobs=-1\n",
    "            ))\n",
    "        ]),\n",
    "        \n",
    "        'gradient_boosting': Pipeline([\n",
    "            ('scaler', StandardScaler()),\n",
    "            ('model', GradientBoostingClassifier(\n",
    "                random_state=seed\n",
    "            ))\n",
    "        ]),\n",
    "\n",
    "        'xgboost': Pipeline([\n",
    "            ('scaler', StandardScaler()),\n",
    "            ('model', XGBClassifier(\n",
    "                random_state=seed,\n",
    "                scale_pos_weight=scale_pos_weight * 2,  # Give more weight to churn class\n",
    "                n_jobs=-1,\n",
    "                verbosity=0  # Suppress XGBoost warnings\n",
    "            ))\n",
    "        ])\n",
    "    }\n",
    "    return models\n",
    "\n",
    "def get_param_grids():\n",
    "    \"\"\"Define parameter grids for hyperparameter tuning\"\"\"\n",
    "    param_grids = {\n",
    "        'logistic_regression': {\n",
    "            'feature_selection__k': [20, 25, 30, 35],\n",
    "            'model__C': [0.1, 1, 10, 100],\n",
    "            'model__penalty': ['l1', 'l2'],\n",
    "            'model__solver': ['liblinear'],\n",
    "            'model__class_weight': [\n",
    "                'balanced',\n",
    "                {0: 1, 1: 2},\n",
    "                {0: 1, 1: 3},\n",
    "                {0: 1, 1: 4}\n",
    "            ]\n",
    "        },\n",
    "        \n",
    "        'random_forest': {\n",
    "            'model__n_estimators': [100, 200, 300],\n",
    "            'model__max_depth': [10, 15, 20, None],\n",
    "            'model__min_samples_split': [2, 5, 10],\n",
    "            'model__min_samples_leaf': [1, 2, 4],\n",
    "            'model__class_weight': [\n",
    "                'balanced',\n",
    "                {0: 1, 1: 2},\n",
    "                {0: 1, 1: 3}\n",
    "            ]\n",
    "        },\n",
    "        \n",
    "        'gradient_boosting': {\n",
    "            'model__n_estimators': [100, 200, 300],\n",
    "            'model__learning_rate': [0.05, 0.1, 0.2],\n",
    "            'model__max_depth': [3, 5, 7],\n",
    "            'model__subsample': [0.8, 0.9, 1.0]\n",
    "        },\n",
    "\n",
    "        'xgboost': {\n",
    "            'model__n_estimators': [100, 200],  \n",
    "            'model__max_depth': [3, 4, 5],      \n",
    "            'model__learning_rate': [0.1, 0.2], \n",
    "            'model__scale_pos_weight': [2, 3, 4] \n",
    "            \n",
    "        }\n",
    "    }\n",
    "    return param_grids\n",
    "\n",
    "print(\"Model creation functions defined!\")"
   ]
  },
  {
   "cell_type": "code",
   "execution_count": 295,
   "metadata": {},
   "outputs": [
    {
     "name": "stdout",
     "output_type": "stream",
     "text": [
      "Evaluation functions defined!\n"
     ]
    }
   ],
   "source": [
    "def tune_and_evaluate_model(X, y, model_name, model, param_grid, random_seeds=[42, 123, 456, 789, 101112]):\n",
    "    \"\"\"Tune hyperparameters and evaluate model across multiple random seeds\"\"\"\n",
    "    print(f\"\\n{'='*50}\")\n",
    "    print(f\"TUNING {model_name.upper()}\")\n",
    "    print(f\"{'='*50}\")\n",
    "    \n",
    "    seed_results = []\n",
    "    best_models = []\n",
    "    \n",
    "    for i, seed in enumerate(random_seeds):\n",
    "        print(f\"Processing seed {seed} ({i+1}/{len(random_seeds)})...\")\n",
    "        \n",
    "        # Create CV with current seed\n",
    "        cv = StratifiedKFold(n_splits=5, shuffle=True, random_state=seed)\n",
    "        \n",
    "        # Update model random state\n",
    "        if hasattr(model.named_steps['model'], 'random_state'):\n",
    "            model.named_steps['model'].random_state = seed\n",
    "        \n",
    "        # Grid search\n",
    "        grid_search = GridSearchCV(\n",
    "            model,\n",
    "            param_grid,\n",
    "            cv=cv,\n",
    "            scoring='f1',\n",
    "            n_jobs=-1,\n",
    "            verbose=0\n",
    "        )\n",
    "        \n",
    "        grid_search.fit(X, y)\n",
    "        \n",
    "        # Cross-validation with best model\n",
    "        best_model = grid_search.best_estimator_\n",
    "        cv_scores = cross_val_score(best_model, X, y, cv=cv, scoring='f1')\n",
    "        \n",
    "        seed_results.append({\n",
    "            'seed': seed,\n",
    "            'best_score': grid_search.best_score_,\n",
    "            'cv_mean': cv_scores.mean(),\n",
    "            'cv_std': cv_scores.std(),\n",
    "            'best_params': grid_search.best_params_\n",
    "        })\n",
    "        \n",
    "        best_models.append(best_model)\n",
    "        print(f\"  Seed {seed}: F1 = {cv_scores.mean():.4f} ± {cv_scores.std():.4f}\")\n",
    "    \n",
    "    # Calculate overall statistics\n",
    "    cv_means = [result['cv_mean'] for result in seed_results]\n",
    "    cv_stds = [result['cv_std'] for result in seed_results]\n",
    "    \n",
    "    overall_mean = np.mean(cv_means)\n",
    "    overall_std = np.mean(cv_stds)\n",
    "    stability = np.std(cv_means)  # How much results vary across seeds\n",
    "    \n",
    "    print(f\"\\nSUMMARY FOR {model_name.upper()}:\")\n",
    "    print(f\"  Mean F1 Score: {overall_mean:.4f} ± {overall_std:.4f}\")\n",
    "    print(f\"  Stability (std across seeds): {stability:.4f}\")\n",
    "    print(f\"  Range: {min(cv_means):.4f} - {max(cv_means):.4f}\")\n",
    "    \n",
    "    # Select best model based on mean performance\n",
    "    best_idx = np.argmax(cv_means)\n",
    "    best_model = best_models[best_idx]\n",
    "    best_seed = random_seeds[best_idx]\n",
    "    \n",
    "    print(f\"  Best performing seed: {best_seed}\")\n",
    "    print(f\"  Best parameters: {seed_results[best_idx]['best_params']}\")\n",
    "    \n",
    "    return {\n",
    "        'model': best_model,\n",
    "        'mean_f1': overall_mean,\n",
    "        'std_f1': overall_std,\n",
    "        'stability': stability,\n",
    "        'seed_results': seed_results,\n",
    "        'best_seed': best_seed\n",
    "    }\n",
    "\n",
    "print(\"Evaluation functions defined!\")"
   ]
  },
  {
   "cell_type": "code",
   "execution_count": 296,
   "metadata": {},
   "outputs": [
    {
     "name": "stdout",
     "output_type": "stream",
     "text": [
      "============================================================\n",
      "STARTING ROBUST MODEL TRAINING\n",
      "============================================================\n",
      "\n",
      "Starting logistic_regression...\n",
      "\n",
      "==================================================\n",
      "TUNING LOGISTIC_REGRESSION\n",
      "==================================================\n",
      "Processing seed 42 (1/5)...\n",
      "  Seed 42: F1 = 0.8351 ± 0.0918\n",
      "Processing seed 123 (2/5)...\n",
      "  Seed 123: F1 = 0.8203 ± 0.0262\n",
      "Processing seed 456 (3/5)...\n",
      "  Seed 456: F1 = 0.8187 ± 0.0825\n",
      "Processing seed 789 (4/5)...\n",
      "  Seed 789: F1 = 0.8218 ± 0.0455\n",
      "Processing seed 101112 (5/5)...\n",
      "  Seed 101112: F1 = 0.8241 ± 0.0929\n",
      "\n",
      "SUMMARY FOR LOGISTIC_REGRESSION:\n",
      "  Mean F1 Score: 0.8240 ± 0.0678\n",
      "  Stability (std across seeds): 0.0058\n",
      "  Range: 0.8187 - 0.8351\n",
      "  Best performing seed: 42\n",
      "  Best parameters: {'feature_selection__k': 25, 'model__C': 1, 'model__class_weight': {0: 1, 1: 2}, 'model__penalty': 'l1', 'model__solver': 'liblinear'}\n",
      "\n",
      "Starting random_forest...\n",
      "\n",
      "==================================================\n",
      "TUNING RANDOM_FOREST\n",
      "==================================================\n",
      "Processing seed 42 (1/5)...\n",
      "  Seed 42: F1 = 0.6917 ± 0.1016\n",
      "Processing seed 123 (2/5)...\n",
      "  Seed 123: F1 = 0.7139 ± 0.0711\n",
      "Processing seed 456 (3/5)...\n",
      "  Seed 456: F1 = 0.6764 ± 0.0714\n",
      "Processing seed 789 (4/5)...\n",
      "  Seed 789: F1 = 0.6834 ± 0.0970\n",
      "Processing seed 101112 (5/5)...\n",
      "  Seed 101112: F1 = 0.6684 ± 0.1497\n",
      "\n",
      "SUMMARY FOR RANDOM_FOREST:\n",
      "  Mean F1 Score: 0.6868 ± 0.0982\n",
      "  Stability (std across seeds): 0.0156\n",
      "  Range: 0.6684 - 0.7139\n",
      "  Best performing seed: 123\n",
      "  Best parameters: {'model__class_weight': 'balanced', 'model__max_depth': 10, 'model__min_samples_leaf': 4, 'model__min_samples_split': 10, 'model__n_estimators': 200}\n",
      "\n",
      "Starting gradient_boosting...\n",
      "\n",
      "==================================================\n",
      "TUNING GRADIENT_BOOSTING\n",
      "==================================================\n",
      "Processing seed 42 (1/5)...\n",
      "  Seed 42: F1 = 0.7344 ± 0.1318\n",
      "Processing seed 123 (2/5)...\n",
      "  Seed 123: F1 = 0.7891 ± 0.0798\n",
      "Processing seed 456 (3/5)...\n",
      "  Seed 456: F1 = 0.7548 ± 0.1125\n",
      "Processing seed 789 (4/5)...\n",
      "  Seed 789: F1 = 0.7778 ± 0.0614\n",
      "Processing seed 101112 (5/5)...\n",
      "  Seed 101112: F1 = 0.7717 ± 0.1275\n",
      "\n",
      "SUMMARY FOR GRADIENT_BOOSTING:\n",
      "  Mean F1 Score: 0.7656 ± 0.1026\n",
      "  Stability (std across seeds): 0.0191\n",
      "  Range: 0.7344 - 0.7891\n",
      "  Best performing seed: 123\n",
      "  Best parameters: {'model__learning_rate': 0.05, 'model__max_depth': 3, 'model__n_estimators': 200, 'model__subsample': 1.0}\n",
      "\n",
      "Starting xgboost...\n",
      "\n",
      "==================================================\n",
      "TUNING XGBOOST\n",
      "==================================================\n",
      "Processing seed 42 (1/5)...\n",
      "  Seed 42: F1 = 0.7842 ± 0.0896\n",
      "Processing seed 123 (2/5)...\n",
      "  Seed 123: F1 = 0.7766 ± 0.0475\n",
      "Processing seed 456 (3/5)...\n",
      "  Seed 456: F1 = 0.7932 ± 0.0875\n",
      "Processing seed 789 (4/5)...\n",
      "  Seed 789: F1 = 0.7844 ± 0.0652\n",
      "Processing seed 101112 (5/5)...\n",
      "  Seed 101112: F1 = 0.8167 ± 0.0862\n",
      "\n",
      "SUMMARY FOR XGBOOST:\n",
      "  Mean F1 Score: 0.7910 ± 0.0752\n",
      "  Stability (std across seeds): 0.0139\n",
      "  Range: 0.7766 - 0.8167\n",
      "  Best performing seed: 101112\n",
      "  Best parameters: {'model__learning_rate': 0.2, 'model__max_depth': 4, 'model__n_estimators': 100, 'model__scale_pos_weight': 2}\n",
      "\n",
      "============================================================\n",
      "ALL MODELS TRAINED!\n",
      "============================================================\n"
     ]
    },
    {
     "name": "stderr",
     "output_type": "stream",
     "text": [
      "Exception ignored in: <function ResourceTracker.__del__ at 0x1119185e0>\n",
      "Traceback (most recent call last):\n",
      "  File \"/Users/yasserjaber/miniforge3/envs/customer_churn/lib/python3.13/multiprocessing/resource_tracker.py\", line 82, in __del__\n",
      "  File \"/Users/yasserjaber/miniforge3/envs/customer_churn/lib/python3.13/multiprocessing/resource_tracker.py\", line 91, in _stop\n",
      "  File \"/Users/yasserjaber/miniforge3/envs/customer_churn/lib/python3.13/multiprocessing/resource_tracker.py\", line 116, in _stop_locked\n",
      "ChildProcessError: [Errno 10] No child processes\n",
      "Exception ignored in: <function ResourceTracker.__del__ at 0x1110445e0>\n",
      "Traceback (most recent call last):\n",
      "  File \"/Users/yasserjaber/miniforge3/envs/customer_churn/lib/python3.13/multiprocessing/resource_tracker.py\", line 82, in __del__\n",
      "  File \"/Users/yasserjaber/miniforge3/envs/customer_churn/lib/python3.13/multiprocessing/resource_tracker.py\", line 91, in _stop\n",
      "  File \"/Users/yasserjaber/miniforge3/envs/customer_churn/lib/python3.13/multiprocessing/resource_tracker.py\", line 116, in _stop_locked\n",
      "ChildProcessError: [Errno 10] No child processes\n",
      "Exception ignored in: <function ResourceTracker.__del__ at 0x107ec05e0>\n",
      "Traceback (most recent call last):\n",
      "  File \"/Users/yasserjaber/miniforge3/envs/customer_churn/lib/python3.13/multiprocessing/resource_tracker.py\", line 82, in __del__\n",
      "  File \"/Users/yasserjaber/miniforge3/envs/customer_churn/lib/python3.13/multiprocessing/resource_tracker.py\", line 91, in _stop\n",
      "  File \"/Users/yasserjaber/miniforge3/envs/customer_churn/lib/python3.13/multiprocessing/resource_tracker.py\", line 116, in _stop_locked\n",
      "ChildProcessError: [Errno 10] No child processes\n",
      "Exception ignored in: <function ResourceTracker.__del__ at 0x105fc05e0>\n",
      "Traceback (most recent call last):\n",
      "  File \"/Users/yasserjaber/miniforge3/envs/customer_churn/lib/python3.13/multiprocessing/resource_tracker.py\", line 82, in __del__\n",
      "  File \"/Users/yasserjaber/miniforge3/envs/customer_churn/lib/python3.13/multiprocessing/resource_tracker.py\", line 91, in _stop\n",
      "  File \"/Users/yasserjaber/miniforge3/envs/customer_churn/lib/python3.13/multiprocessing/resource_tracker.py\", line 116, in _stop_locked\n",
      "ChildProcessError: [Errno 10] No child processes\n",
      "Exception ignored in: <function ResourceTracker.__del__ at 0x1118ec5e0>\n",
      "Traceback (most recent call last):\n",
      "  File \"/Users/yasserjaber/miniforge3/envs/customer_churn/lib/python3.13/multiprocessing/resource_tracker.py\", line 82, in __del__\n",
      "  File \"/Users/yasserjaber/miniforge3/envs/customer_churn/lib/python3.13/multiprocessing/resource_tracker.py\", line 91, in _stop\n",
      "  File \"/Users/yasserjaber/miniforge3/envs/customer_churn/lib/python3.13/multiprocessing/resource_tracker.py\", line 116, in _stop_locked\n",
      "ChildProcessError: [Errno 10] No child processes\n",
      "Exception ignored in: <function ResourceTracker.__del__ at 0x11a2ac5e0>\n",
      "Traceback (most recent call last):\n",
      "  File \"/Users/yasserjaber/miniforge3/envs/customer_churn/lib/python3.13/multiprocessing/resource_tracker.py\", line 82, in __del__\n",
      "  File \"/Users/yasserjaber/miniforge3/envs/customer_churn/lib/python3.13/multiprocessing/resource_tracker.py\", line 91, in _stop\n",
      "  File \"/Users/yasserjaber/miniforge3/envs/customer_churn/lib/python3.13/multiprocessing/resource_tracker.py\", line 116, in _stop_locked\n",
      "ChildProcessError: [Errno 10] No child processes\n",
      "Exception ignored in: <function ResourceTracker.__del__ at 0x104ce45e0>\n",
      "Traceback (most recent call last):\n",
      "  File \"/Users/yasserjaber/miniforge3/envs/customer_churn/lib/python3.13/multiprocessing/resource_tracker.py\", line 82, in __del__\n",
      "  File \"/Users/yasserjaber/miniforge3/envs/customer_churn/lib/python3.13/multiprocessing/resource_tracker.py\", line 91, in _stop\n",
      "  File \"/Users/yasserjaber/miniforge3/envs/customer_churn/lib/python3.13/multiprocessing/resource_tracker.py\", line 116, in _stop_locked\n",
      "ChildProcessError: [Errno 10] No child processes\n",
      "Exception ignored in: <function ResourceTracker.__del__ at 0x106dd85e0>\n",
      "Traceback (most recent call last):\n",
      "  File \"/Users/yasserjaber/miniforge3/envs/customer_churn/lib/python3.13/multiprocessing/resource_tracker.py\", line 82, in __del__\n",
      "  File \"/Users/yasserjaber/miniforge3/envs/customer_churn/lib/python3.13/multiprocessing/resource_tracker.py\", line 91, in _stop\n",
      "  File \"/Users/yasserjaber/miniforge3/envs/customer_churn/lib/python3.13/multiprocessing/resource_tracker.py\", line 116, in _stop_locked\n",
      "ChildProcessError: [Errno 10] No child processes\n",
      "Exception ignored in: <function ResourceTracker.__del__ at 0x106b6c5e0>\n",
      "Traceback (most recent call last):\n",
      "  File \"/Users/yasserjaber/miniforge3/envs/customer_churn/lib/python3.13/multiprocessing/resource_tracker.py\", line 82, in __del__\n",
      "  File \"/Users/yasserjaber/miniforge3/envs/customer_churn/lib/python3.13/multiprocessing/resource_tracker.py\", line 91, in _stop\n",
      "  File \"/Users/yasserjaber/miniforge3/envs/customer_churn/lib/python3.13/multiprocessing/resource_tracker.py\", line 116, in _stop_locked\n",
      "ChildProcessError: [Errno 10] No child processes\n",
      "Exception ignored in: <function ResourceTracker.__del__ at 0x1180445e0>\n",
      "Traceback (most recent call last):\n",
      "  File \"/Users/yasserjaber/miniforge3/envs/customer_churn/lib/python3.13/multiprocessing/resource_tracker.py\", line 82, in __del__\n",
      "  File \"/Users/yasserjaber/miniforge3/envs/customer_churn/lib/python3.13/multiprocessing/resource_tracker.py\", line 91, in _stop\n",
      "  File \"/Users/yasserjaber/miniforge3/envs/customer_churn/lib/python3.13/multiprocessing/resource_tracker.py\", line 116, in _stop_locked\n",
      "ChildProcessError: [Errno 10] No child processes\n",
      "Exception ignored in: <function ResourceTracker.__del__ at 0x110ed85e0>\n",
      "Traceback (most recent call last):\n",
      "  File \"/Users/yasserjaber/miniforge3/envs/customer_churn/lib/python3.13/multiprocessing/resource_tracker.py\", line 82, in __del__\n",
      "  File \"/Users/yasserjaber/miniforge3/envs/customer_churn/lib/python3.13/multiprocessing/resource_tracker.py\", line 91, in _stop\n",
      "  File \"/Users/yasserjaber/miniforge3/envs/customer_churn/lib/python3.13/multiprocessing/resource_tracker.py\", line 116, in _stop_locked\n",
      "ChildProcessError: [Errno 10] No child processes\n",
      "Exception ignored in: <function ResourceTracker.__del__ at 0x104ed85e0>\n",
      "Traceback (most recent call last):\n",
      "  File \"/Users/yasserjaber/miniforge3/envs/customer_churn/lib/python3.13/multiprocessing/resource_tracker.py\", line 82, in __del__\n",
      "  File \"/Users/yasserjaber/miniforge3/envs/customer_churn/lib/python3.13/multiprocessing/resource_tracker.py\", line 91, in _stop\n",
      "  File \"/Users/yasserjaber/miniforge3/envs/customer_churn/lib/python3.13/multiprocessing/resource_tracker.py\", line 116, in _stop_locked\n",
      "ChildProcessError: [Errno 10] No child processes\n",
      "Exception ignored in: <function ResourceTracker.__del__ at 0x107fc05e0>\n",
      "Traceback (most recent call last):\n",
      "  File \"/Users/yasserjaber/miniforge3/envs/customer_churn/lib/python3.13/multiprocessing/resource_tracker.py\", line 82, in __del__\n",
      "  File \"/Users/yasserjaber/miniforge3/envs/customer_churn/lib/python3.13/multiprocessing/resource_tracker.py\", line 91, in _stop\n",
      "  File \"/Users/yasserjaber/miniforge3/envs/customer_churn/lib/python3.13/multiprocessing/resource_tracker.py\", line 116, in _stop_locked\n",
      "ChildProcessError: [Errno 10] No child processes\n",
      "Exception ignored in: <function ResourceTracker.__del__ at 0x1090c05e0>\n",
      "Traceback (most recent call last):\n",
      "  File \"/Users/yasserjaber/miniforge3/envs/customer_churn/lib/python3.13/multiprocessing/resource_tracker.py\", line 82, in __del__\n",
      "  File \"/Users/yasserjaber/miniforge3/envs/customer_churn/lib/python3.13/multiprocessing/resource_tracker.py\", line 91, in _stop\n",
      "  File \"/Users/yasserjaber/miniforge3/envs/customer_churn/lib/python3.13/multiprocessing/resource_tracker.py\", line 116, in _stop_locked\n",
      "ChildProcessError: [Errno 10] No child processes\n"
     ]
    }
   ],
   "source": [
    "print(\"=\"*60)\n",
    "print(\"STARTING ROBUST MODEL TRAINING\")\n",
    "print(\"=\"*60)\n",
    "\n",
    "# Initialize results storage\n",
    "all_results = {}\n",
    "models = create_models()\n",
    "param_grids = get_param_grids()\n",
    "\n",
    "# Train each model\n",
    "for model_name in models:\n",
    "    print(f\"\\nStarting {model_name}...\")\n",
    "    model = models[model_name]\n",
    "    param_grid = param_grids[model_name]\n",
    "    \n",
    "    result = tune_and_evaluate_model(X, y, model_name, model, param_grid)\n",
    "    all_results[model_name] = result\n",
    "\n",
    "print(\"\\n\" + \"=\"*60)\n",
    "print(\"ALL MODELS TRAINED!\")\n",
    "print(\"=\"*60)\n"
   ]
  },
  {
   "cell_type": "code",
   "execution_count": 297,
   "metadata": {},
   "outputs": [
    {
     "name": "stdout",
     "output_type": "stream",
     "text": [
      "\n",
      "MODEL COMPARISON:\n",
      "------------------------------------------------------------\n",
      "Model                Mean F1    Stability  Range          \n",
      "------------------------------------------------------------\n",
      "Logistic Regression  0.8240    0.0058    0.819-0.835    \n",
      "Random Forest        0.6868    0.0156    0.668-0.714    \n",
      "Gradient Boosting    0.7656    0.0191    0.734-0.789    \n",
      "Xgboost              0.7910    0.0139    0.777-0.817    \n",
      "\n",
      "BEST MODEL: Logistic Regression\n",
      "BEST SCORE: 0.8240\n"
     ]
    }
   ],
   "source": [
    "print(\"\\nMODEL COMPARISON:\")\n",
    "print(\"-\" * 60)\n",
    "print(f\"{'Model':<20} {'Mean F1':<10} {'Stability':<10} {'Range':<15}\")\n",
    "print(\"-\" * 60)\n",
    "\n",
    "best_model = None\n",
    "best_score = 0\n",
    "best_model_name = \"\"\n",
    "\n",
    "for model_name, result in all_results.items():\n",
    "    mean_f1 = result['mean_f1']\n",
    "    stability = result['stability']\n",
    "    seed_results = result['seed_results']\n",
    "    cv_means = [sr['cv_mean'] for sr in seed_results]\n",
    "    range_str = f\"{min(cv_means):.3f}-{max(cv_means):.3f}\"\n",
    "    \n",
    "    print(f\"{model_name.replace('_', ' ').title():<20} {mean_f1:.4f}    {stability:.4f}    {range_str:<15}\")\n",
    "    \n",
    "    if mean_f1 > best_score:\n",
    "        best_score = mean_f1\n",
    "        best_model = result['model']\n",
    "        best_model_name = model_name\n",
    "\n",
    "print(f\"\\nBEST MODEL: {best_model_name.replace('_', ' ').title()}\")\n",
    "print(f\"BEST SCORE: {best_score:.4f}\")"
   ]
  },
  {
   "cell_type": "code",
   "execution_count": 298,
   "metadata": {},
   "outputs": [
    {
     "name": "stdout",
     "output_type": "stream",
     "text": [
      "\n",
      "============================================================\n",
      "FINAL MODEL EVALUATION\n",
      "============================================================\n",
      "Classification Report:\n",
      "              precision    recall  f1-score   support\n",
      "\n",
      "           0       0.95      0.95      0.95       173\n",
      "           1       0.84      0.83      0.83        52\n",
      "\n",
      "    accuracy                           0.92       225\n",
      "   macro avg       0.90      0.89      0.89       225\n",
      "weighted avg       0.92      0.92      0.92       225\n",
      "\n",
      "\n",
      "Confusion Matrix:\n",
      "[[165   8]\n",
      " [  9  43]]\n",
      "\n",
      "Detailed Metrics:\n",
      "Class 0 (No Churn) - Precision: 0.948, Recall: 0.954, F1: 0.951\n",
      "Class 1 (Churn)    - Precision: 0.843, Recall: 0.827, F1: 0.835\n",
      "\n",
      "Mean F1 Score: 0.893\n",
      "Final CV F1 Score: 0.812 ± 0.074\n"
     ]
    }
   ],
   "source": [
    "print(\"\\n\" + \"=\"*60)\n",
    "print(\"FINAL MODEL EVALUATION\")\n",
    "print(\"=\"*60)\n",
    "\n",
    "# Use StratifiedKFold for cross_val_predict (RepeatedStratifiedKFold doesn't work with cross_val_predict)\n",
    "cv_predict = StratifiedKFold(n_splits=5, shuffle=True, random_state=42)\n",
    "\n",
    "# Get predictions\n",
    "y_pred = cross_val_predict(best_model, X, y, cv=cv_predict)\n",
    "\n",
    "# Calculate metrics\n",
    "print(\"Classification Report:\")\n",
    "print(classification_report(y, y_pred))\n",
    "\n",
    "print(\"\\nConfusion Matrix:\")\n",
    "cm = confusion_matrix(y, y_pred)\n",
    "print(cm)\n",
    "\n",
    "# Individual metrics\n",
    "precision, recall, f1, support = precision_recall_fscore_support(y, y_pred)\n",
    "\n",
    "print(f\"\\nDetailed Metrics:\")\n",
    "print(f\"Class 0 (No Churn) - Precision: {precision[0]:.3f}, Recall: {recall[0]:.3f}, F1: {f1[0]:.3f}\")\n",
    "print(f\"Class 1 (Churn)    - Precision: {precision[1]:.3f}, Recall: {recall[1]:.3f}, F1: {f1[1]:.3f}\")\n",
    "\n",
    "# Mean F1 score\n",
    "mean_f1 = f1.mean()\n",
    "print(f\"\\nMean F1 Score: {mean_f1:.3f}\")\n",
    "\n",
    "# Cross-validation stability check with RepeatedStratifiedKFold\n",
    "cv_final = RepeatedStratifiedKFold(n_splits=5, n_repeats=3, random_state=42)\n",
    "cv_scores = cross_val_score(best_model, X, y, cv=cv_final, scoring='f1')\n",
    "print(f\"Final CV F1 Score: {cv_scores.mean():.3f} ± {cv_scores.std():.3f}\")"
   ]
  },
  {
   "cell_type": "code",
   "execution_count": 299,
   "metadata": {},
   "outputs": [
    {
     "name": "stdout",
     "output_type": "stream",
     "text": [
      "\n",
      "============================================================\n",
      "FINAL SUMMARY AND RECOMMENDATIONS\n",
      "============================================================\n",
      "RECOMMENDED MODEL: Logistic Regression\n",
      "EXPECTED F1 SCORE: 0.8240\n",
      "\n",
      "MODEL ROBUSTNESS:\n",
      "  ✓ EXCELLENT - Very stable across different random seeds\n",
      "\n",
      "PRODUCTION READINESS:\n",
      "  ✓ Handles class imbalance\n",
      "  ✓ Tested across multiple random seeds\n",
      "  ✓ Comprehensive cross-validation\n",
      "  ✓ Feature selection included\n",
      "  ✓ Optimized for F1 score\n",
      "\n",
      "NEXT STEPS:\n",
      "  1. Save the best model for production use\n",
      "  2. Monitor model performance on new data\n",
      "  3. Consider retraining periodically\n",
      "  4. Set up prediction thresholds based on business needs\n",
      "\n",
      "Final model stored in variable: 'final_model'\n",
      "Ready for production use!\n"
     ]
    }
   ],
   "source": [
    "print(\"\\n\" + \"=\"*60)\n",
    "print(\"FINAL SUMMARY AND RECOMMENDATIONS\")\n",
    "print(\"=\"*60)\n",
    "\n",
    "print(f\"RECOMMENDED MODEL: {best_model_name.replace('_', ' ').title()}\")\n",
    "print(f\"EXPECTED F1 SCORE: {best_score:.4f}\")\n",
    "\n",
    "\n",
    "print(f\"\\nMODEL ROBUSTNESS:\")\n",
    "stability = all_results[best_model_name]['stability']\n",
    "\n",
    "if stability < 0.01:\n",
    "    print(\"  ✓ EXCELLENT - Very stable across different random seeds\")\n",
    "elif stability < 0.02:\n",
    "    print(\"  ✓ GOOD - Stable performance\")\n",
    "elif stability < 0.05:\n",
    "    print(\"  ⚠ MODERATE - Some variation across seeds\")\n",
    "else:\n",
    "    print(\"  ⚠ CONCERNING - High variation, may need more data\")\n",
    "\n",
    "print(f\"\\nPRODUCTION READINESS:\")\n",
    "print(\"  ✓ Handles class imbalance\")\n",
    "print(\"  ✓ Tested across multiple random seeds\")\n",
    "print(\"  ✓ Comprehensive cross-validation\")\n",
    "print(\"  ✓ Feature selection included\")\n",
    "print(\"  ✓ Optimized for F1 score\")\n",
    "\n",
    "print(f\"\\nNEXT STEPS:\")\n",
    "print(\"  1. Save the best model for production use\")\n",
    "print(\"  2. Monitor model performance on new data\")\n",
    "print(\"  3. Consider retraining periodically\")\n",
    "print(\"  4. Set up prediction thresholds based on business needs\")\n",
    "\n",
    "# Store final model\n",
    "final_model = best_model\n",
    "print(f\"\\nFinal model stored in variable: 'final_model'\")\n",
    "print(\"Ready for production use!\")"
   ]
  }
 ],
 "metadata": {
  "kernelspec": {
   "display_name": "customer_churn",
   "language": "python",
   "name": "python3"
  },
  "language_info": {
   "codemirror_mode": {
    "name": "ipython",
    "version": 3
   },
   "file_extension": ".py",
   "mimetype": "text/x-python",
   "name": "python",
   "nbconvert_exporter": "python",
   "pygments_lexer": "ipython3",
   "version": "3.13.5"
  }
 },
 "nbformat": 4,
 "nbformat_minor": 2
}
